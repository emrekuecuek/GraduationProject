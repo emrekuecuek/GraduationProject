{
 "cells": [
  {
   "cell_type": "markdown",
   "metadata": {},
   "source": [
    "# Australian Credit Approval Statlog\n",
    "\n",
    "Applying algorithms in R for given dataset."
   ]
  },
  {
   "cell_type": "markdown",
   "metadata": {},
   "source": [
    "Importing data and assigning it to myData variable."
   ]
  },
  {
   "cell_type": "code",
   "execution_count": 1,
   "metadata": {},
   "outputs": [
    {
     "name": "stderr",
     "output_type": "stream",
     "text": [
      "Loading required package: lattice\n",
      "Loading required package: ggplot2\n"
     ]
    }
   ],
   "source": [
    "library(rpart)\n",
    "library(rpart.plot)\n",
    "library(e1071)\n",
    "library(caret)\n",
    "library(BalancedSampling)\n",
    "\n",
    "myData <- read.csv(\"http://archive.ics.uci.edu/ml/machine-learning-databases/statlog/australian/australian.dat\", header=FALSE, sep=\" \")"
   ]
  },
  {
   "cell_type": "code",
   "execution_count": 2,
   "metadata": {},
   "outputs": [
    {
     "data": {
      "text/html": [
       "<table>\n",
       "<thead><tr><th scope=col>V1</th><th scope=col>V2</th><th scope=col>V3</th><th scope=col>V4</th><th scope=col>V5</th><th scope=col>V6</th><th scope=col>V7</th><th scope=col>V8</th><th scope=col>V9</th><th scope=col>V10</th><th scope=col>V11</th><th scope=col>V12</th><th scope=col>V13</th><th scope=col>V14</th><th scope=col>V15</th></tr></thead>\n",
       "<tbody>\n",
       "\t<tr><td>1     </td><td>22.08 </td><td>11.460</td><td>2     </td><td>4     </td><td>4     </td><td>1.585 </td><td>0     </td><td>0     </td><td> 0    </td><td>1     </td><td>2     </td><td>100   </td><td>1213  </td><td>0     </td></tr>\n",
       "\t<tr><td>0     </td><td>22.67 </td><td> 7.000</td><td>2     </td><td>8     </td><td>4     </td><td>0.165 </td><td>0     </td><td>0     </td><td> 0    </td><td>0     </td><td>2     </td><td>160   </td><td>   1  </td><td>0     </td></tr>\n",
       "\t<tr><td>0     </td><td>29.58 </td><td> 1.750</td><td>1     </td><td>4     </td><td>4     </td><td>1.250 </td><td>0     </td><td>0     </td><td> 0    </td><td>1     </td><td>2     </td><td>280   </td><td>   1  </td><td>0     </td></tr>\n",
       "\t<tr><td>0     </td><td>21.67 </td><td>11.500</td><td>1     </td><td>5     </td><td>3     </td><td>0.000 </td><td>1     </td><td>1     </td><td>11    </td><td>1     </td><td>2     </td><td>  0   </td><td>   1  </td><td>1     </td></tr>\n",
       "\t<tr><td>1     </td><td>20.17 </td><td> 8.170</td><td>2     </td><td>6     </td><td>4     </td><td>1.960 </td><td>1     </td><td>1     </td><td>14    </td><td>0     </td><td>2     </td><td> 60   </td><td> 159  </td><td>1     </td></tr>\n",
       "\t<tr><td>0     </td><td>15.83 </td><td> 0.585</td><td>2     </td><td>8     </td><td>8     </td><td>1.500 </td><td>1     </td><td>1     </td><td> 2    </td><td>0     </td><td>2     </td><td>100   </td><td>   1  </td><td>1     </td></tr>\n",
       "</tbody>\n",
       "</table>\n"
      ],
      "text/latex": [
       "\\begin{tabular}{r|lllllllllllllll}\n",
       " V1 & V2 & V3 & V4 & V5 & V6 & V7 & V8 & V9 & V10 & V11 & V12 & V13 & V14 & V15\\\\\n",
       "\\hline\n",
       "\t 1      & 22.08  & 11.460 & 2      & 4      & 4      & 1.585  & 0      & 0      &  0     & 1      & 2      & 100    & 1213   & 0     \\\\\n",
       "\t 0      & 22.67  &  7.000 & 2      & 8      & 4      & 0.165  & 0      & 0      &  0     & 0      & 2      & 160    &    1   & 0     \\\\\n",
       "\t 0      & 29.58  &  1.750 & 1      & 4      & 4      & 1.250  & 0      & 0      &  0     & 1      & 2      & 280    &    1   & 0     \\\\\n",
       "\t 0      & 21.67  & 11.500 & 1      & 5      & 3      & 0.000  & 1      & 1      & 11     & 1      & 2      &   0    &    1   & 1     \\\\\n",
       "\t 1      & 20.17  &  8.170 & 2      & 6      & 4      & 1.960  & 1      & 1      & 14     & 0      & 2      &  60    &  159   & 1     \\\\\n",
       "\t 0      & 15.83  &  0.585 & 2      & 8      & 8      & 1.500  & 1      & 1      &  2     & 0      & 2      & 100    &    1   & 1     \\\\\n",
       "\\end{tabular}\n"
      ],
      "text/markdown": [
       "\n",
       "| V1 | V2 | V3 | V4 | V5 | V6 | V7 | V8 | V9 | V10 | V11 | V12 | V13 | V14 | V15 |\n",
       "|---|---|---|---|---|---|---|---|---|---|---|---|---|---|---|\n",
       "| 1      | 22.08  | 11.460 | 2      | 4      | 4      | 1.585  | 0      | 0      |  0     | 1      | 2      | 100    | 1213   | 0      |\n",
       "| 0      | 22.67  |  7.000 | 2      | 8      | 4      | 0.165  | 0      | 0      |  0     | 0      | 2      | 160    |    1   | 0      |\n",
       "| 0      | 29.58  |  1.750 | 1      | 4      | 4      | 1.250  | 0      | 0      |  0     | 1      | 2      | 280    |    1   | 0      |\n",
       "| 0      | 21.67  | 11.500 | 1      | 5      | 3      | 0.000  | 1      | 1      | 11     | 1      | 2      |   0    |    1   | 1      |\n",
       "| 1      | 20.17  |  8.170 | 2      | 6      | 4      | 1.960  | 1      | 1      | 14     | 0      | 2      |  60    |  159   | 1      |\n",
       "| 0      | 15.83  |  0.585 | 2      | 8      | 8      | 1.500  | 1      | 1      |  2     | 0      | 2      | 100    |    1   | 1      |\n",
       "\n"
      ],
      "text/plain": [
       "  V1 V2    V3     V4 V5 V6 V7    V8 V9 V10 V11 V12 V13 V14  V15\n",
       "1 1  22.08 11.460 2  4  4  1.585 0  0   0  1   2   100 1213 0  \n",
       "2 0  22.67  7.000 2  8  4  0.165 0  0   0  0   2   160    1 0  \n",
       "3 0  29.58  1.750 1  4  4  1.250 0  0   0  1   2   280    1 0  \n",
       "4 0  21.67 11.500 1  5  3  0.000 1  1  11  1   2     0    1 1  \n",
       "5 1  20.17  8.170 2  6  4  1.960 1  1  14  0   2    60  159 1  \n",
       "6 0  15.83  0.585 2  8  8  1.500 1  1   2  0   2   100    1 1  "
      ]
     },
     "metadata": {},
     "output_type": "display_data"
    }
   ],
   "source": [
    "head(myData)"
   ]
  },
  {
   "cell_type": "markdown",
   "metadata": {},
   "source": [
    "## Data Adjusments\n",
    "\n",
    "Adjusting dataset for categorical variables. Here R's factor function is used in order to tell R kernel that given certain columns should be treated as categorical features."
   ]
  },
  {
   "cell_type": "code",
   "execution_count": 3,
   "metadata": {
    "scrolled": false
   },
   "outputs": [],
   "source": [
    "myData$V1 <- factor(myData$V1)\n",
    "myData$V4 <- factor(myData$V4)\n",
    "myData$V5 <- factor(myData$V5)\n",
    "myData$V6 <- factor(myData$V6)\n",
    "myData$V8 <- factor(myData$V8)\n",
    "myData$V9 <- factor(myData$V9)\n",
    "myData$V11 <- factor(myData$V11)\n",
    "myData$V12 <- factor(myData$V12)\n",
    "myData$V15 <- factor(myData$V15)"
   ]
  },
  {
   "cell_type": "code",
   "execution_count": 4,
   "metadata": {
    "scrolled": true
   },
   "outputs": [
    {
     "data": {
      "text/html": [
       "<table>\n",
       "<thead><tr><th scope=col>V1</th><th scope=col>V2</th><th scope=col>V3</th><th scope=col>V4</th><th scope=col>V5</th><th scope=col>V6</th><th scope=col>V7</th><th scope=col>V8</th><th scope=col>V9</th><th scope=col>V10</th><th scope=col>V11</th><th scope=col>V12</th><th scope=col>V13</th><th scope=col>V14</th><th scope=col>V15</th></tr></thead>\n",
       "<tbody>\n",
       "\t<tr><td>1     </td><td>22.08 </td><td>11.460</td><td>2     </td><td>4     </td><td>4     </td><td>1.585 </td><td>0     </td><td>0     </td><td> 0    </td><td>1     </td><td>2     </td><td>100   </td><td>1213  </td><td>0     </td></tr>\n",
       "\t<tr><td>0     </td><td>22.67 </td><td> 7.000</td><td>2     </td><td>8     </td><td>4     </td><td>0.165 </td><td>0     </td><td>0     </td><td> 0    </td><td>0     </td><td>2     </td><td>160   </td><td>   1  </td><td>0     </td></tr>\n",
       "\t<tr><td>0     </td><td>29.58 </td><td> 1.750</td><td>1     </td><td>4     </td><td>4     </td><td>1.250 </td><td>0     </td><td>0     </td><td> 0    </td><td>1     </td><td>2     </td><td>280   </td><td>   1  </td><td>0     </td></tr>\n",
       "\t<tr><td>0     </td><td>21.67 </td><td>11.500</td><td>1     </td><td>5     </td><td>3     </td><td>0.000 </td><td>1     </td><td>1     </td><td>11    </td><td>1     </td><td>2     </td><td>  0   </td><td>   1  </td><td>1     </td></tr>\n",
       "\t<tr><td>1     </td><td>20.17 </td><td> 8.170</td><td>2     </td><td>6     </td><td>4     </td><td>1.960 </td><td>1     </td><td>1     </td><td>14    </td><td>0     </td><td>2     </td><td> 60   </td><td> 159  </td><td>1     </td></tr>\n",
       "\t<tr><td>0     </td><td>15.83 </td><td> 0.585</td><td>2     </td><td>8     </td><td>8     </td><td>1.500 </td><td>1     </td><td>1     </td><td> 2    </td><td>0     </td><td>2     </td><td>100   </td><td>   1  </td><td>1     </td></tr>\n",
       "</tbody>\n",
       "</table>\n"
      ],
      "text/latex": [
       "\\begin{tabular}{r|lllllllllllllll}\n",
       " V1 & V2 & V3 & V4 & V5 & V6 & V7 & V8 & V9 & V10 & V11 & V12 & V13 & V14 & V15\\\\\n",
       "\\hline\n",
       "\t 1      & 22.08  & 11.460 & 2      & 4      & 4      & 1.585  & 0      & 0      &  0     & 1      & 2      & 100    & 1213   & 0     \\\\\n",
       "\t 0      & 22.67  &  7.000 & 2      & 8      & 4      & 0.165  & 0      & 0      &  0     & 0      & 2      & 160    &    1   & 0     \\\\\n",
       "\t 0      & 29.58  &  1.750 & 1      & 4      & 4      & 1.250  & 0      & 0      &  0     & 1      & 2      & 280    &    1   & 0     \\\\\n",
       "\t 0      & 21.67  & 11.500 & 1      & 5      & 3      & 0.000  & 1      & 1      & 11     & 1      & 2      &   0    &    1   & 1     \\\\\n",
       "\t 1      & 20.17  &  8.170 & 2      & 6      & 4      & 1.960  & 1      & 1      & 14     & 0      & 2      &  60    &  159   & 1     \\\\\n",
       "\t 0      & 15.83  &  0.585 & 2      & 8      & 8      & 1.500  & 1      & 1      &  2     & 0      & 2      & 100    &    1   & 1     \\\\\n",
       "\\end{tabular}\n"
      ],
      "text/markdown": [
       "\n",
       "| V1 | V2 | V3 | V4 | V5 | V6 | V7 | V8 | V9 | V10 | V11 | V12 | V13 | V14 | V15 |\n",
       "|---|---|---|---|---|---|---|---|---|---|---|---|---|---|---|\n",
       "| 1      | 22.08  | 11.460 | 2      | 4      | 4      | 1.585  | 0      | 0      |  0     | 1      | 2      | 100    | 1213   | 0      |\n",
       "| 0      | 22.67  |  7.000 | 2      | 8      | 4      | 0.165  | 0      | 0      |  0     | 0      | 2      | 160    |    1   | 0      |\n",
       "| 0      | 29.58  |  1.750 | 1      | 4      | 4      | 1.250  | 0      | 0      |  0     | 1      | 2      | 280    |    1   | 0      |\n",
       "| 0      | 21.67  | 11.500 | 1      | 5      | 3      | 0.000  | 1      | 1      | 11     | 1      | 2      |   0    |    1   | 1      |\n",
       "| 1      | 20.17  |  8.170 | 2      | 6      | 4      | 1.960  | 1      | 1      | 14     | 0      | 2      |  60    |  159   | 1      |\n",
       "| 0      | 15.83  |  0.585 | 2      | 8      | 8      | 1.500  | 1      | 1      |  2     | 0      | 2      | 100    |    1   | 1      |\n",
       "\n"
      ],
      "text/plain": [
       "  V1 V2    V3     V4 V5 V6 V7    V8 V9 V10 V11 V12 V13 V14  V15\n",
       "1 1  22.08 11.460 2  4  4  1.585 0  0   0  1   2   100 1213 0  \n",
       "2 0  22.67  7.000 2  8  4  0.165 0  0   0  0   2   160    1 0  \n",
       "3 0  29.58  1.750 1  4  4  1.250 0  0   0  1   2   280    1 0  \n",
       "4 0  21.67 11.500 1  5  3  0.000 1  1  11  1   2     0    1 1  \n",
       "5 1  20.17  8.170 2  6  4  1.960 1  1  14  0   2    60  159 1  \n",
       "6 0  15.83  0.585 2  8  8  1.500 1  1   2  0   2   100    1 1  "
      ]
     },
     "metadata": {},
     "output_type": "display_data"
    }
   ],
   "source": [
    "head(myData)"
   ]
  },
  {
   "cell_type": "markdown",
   "metadata": {},
   "source": [
    "After factorization, one should split their dataset to train and split parts. Here it is set as %75 train and %25 test according to their sizes."
   ]
  },
  {
   "cell_type": "code",
   "execution_count": 5,
   "metadata": {},
   "outputs": [],
   "source": [
    "n <- nrow(myData)\n",
    "test <- sample(1:n, n*0.25)\n",
    "train <- -test"
   ]
  },
  {
   "cell_type": "markdown",
   "metadata": {},
   "source": [
    "# Logistic Regression "
   ]
  },
  {
   "cell_type": "markdown",
   "metadata": {},
   "source": [
    "Logistic Regression Applications. Lets begin with taking a look to our train and test splits that we are going to use for logistic regression."
   ]
  },
  {
   "cell_type": "code",
   "execution_count": 6,
   "metadata": {},
   "outputs": [
    {
     "data": {
      "text/html": [
       "<table>\n",
       "<thead><tr><th></th><th scope=col>V1</th><th scope=col>V2</th><th scope=col>V3</th><th scope=col>V4</th><th scope=col>V5</th><th scope=col>V6</th><th scope=col>V7</th><th scope=col>V8</th><th scope=col>V9</th><th scope=col>V10</th><th scope=col>V11</th><th scope=col>V12</th><th scope=col>V13</th><th scope=col>V14</th><th scope=col>V15</th></tr></thead>\n",
       "<tbody>\n",
       "\t<tr><th scope=row>1</th><td>1     </td><td>22.08 </td><td>11.460</td><td>2     </td><td>4     </td><td>4     </td><td>1.585 </td><td>0     </td><td>0     </td><td> 0    </td><td>1     </td><td>2     </td><td>100   </td><td>1213  </td><td>0     </td></tr>\n",
       "\t<tr><th scope=row>2</th><td>0     </td><td>22.67 </td><td> 7.000</td><td>2     </td><td>8     </td><td>4     </td><td>0.165 </td><td>0     </td><td>0     </td><td> 0    </td><td>0     </td><td>2     </td><td>160   </td><td>   1  </td><td>0     </td></tr>\n",
       "\t<tr><th scope=row>3</th><td>0     </td><td>29.58 </td><td> 1.750</td><td>1     </td><td>4     </td><td>4     </td><td>1.250 </td><td>0     </td><td>0     </td><td> 0    </td><td>1     </td><td>2     </td><td>280   </td><td>   1  </td><td>0     </td></tr>\n",
       "\t<tr><th scope=row>5</th><td>1     </td><td>20.17 </td><td> 8.170</td><td>2     </td><td>6     </td><td>4     </td><td>1.960 </td><td>1     </td><td>1     </td><td>14    </td><td>0     </td><td>2     </td><td> 60   </td><td> 159  </td><td>1     </td></tr>\n",
       "\t<tr><th scope=row>6</th><td>0     </td><td>15.83 </td><td> 0.585</td><td>2     </td><td>8     </td><td>8     </td><td>1.500 </td><td>1     </td><td>1     </td><td> 2    </td><td>0     </td><td>2     </td><td>100   </td><td>   1  </td><td>1     </td></tr>\n",
       "\t<tr><th scope=row>7</th><td>1     </td><td>17.42 </td><td> 6.500</td><td>2     </td><td>3     </td><td>4     </td><td>0.125 </td><td>0     </td><td>0     </td><td> 0    </td><td>0     </td><td>2     </td><td> 60   </td><td> 101  </td><td>0     </td></tr>\n",
       "</tbody>\n",
       "</table>\n"
      ],
      "text/latex": [
       "\\begin{tabular}{r|lllllllllllllll}\n",
       "  & V1 & V2 & V3 & V4 & V5 & V6 & V7 & V8 & V9 & V10 & V11 & V12 & V13 & V14 & V15\\\\\n",
       "\\hline\n",
       "\t1 & 1      & 22.08  & 11.460 & 2      & 4      & 4      & 1.585  & 0      & 0      &  0     & 1      & 2      & 100    & 1213   & 0     \\\\\n",
       "\t2 & 0      & 22.67  &  7.000 & 2      & 8      & 4      & 0.165  & 0      & 0      &  0     & 0      & 2      & 160    &    1   & 0     \\\\\n",
       "\t3 & 0      & 29.58  &  1.750 & 1      & 4      & 4      & 1.250  & 0      & 0      &  0     & 1      & 2      & 280    &    1   & 0     \\\\\n",
       "\t5 & 1      & 20.17  &  8.170 & 2      & 6      & 4      & 1.960  & 1      & 1      & 14     & 0      & 2      &  60    &  159   & 1     \\\\\n",
       "\t6 & 0      & 15.83  &  0.585 & 2      & 8      & 8      & 1.500  & 1      & 1      &  2     & 0      & 2      & 100    &    1   & 1     \\\\\n",
       "\t7 & 1      & 17.42  &  6.500 & 2      & 3      & 4      & 0.125  & 0      & 0      &  0     & 0      & 2      &  60    &  101   & 0     \\\\\n",
       "\\end{tabular}\n"
      ],
      "text/markdown": [
       "\n",
       "| <!--/--> | V1 | V2 | V3 | V4 | V5 | V6 | V7 | V8 | V9 | V10 | V11 | V12 | V13 | V14 | V15 |\n",
       "|---|---|---|---|---|---|---|---|---|---|---|---|---|---|---|---|\n",
       "| 1 | 1      | 22.08  | 11.460 | 2      | 4      | 4      | 1.585  | 0      | 0      |  0     | 1      | 2      | 100    | 1213   | 0      |\n",
       "| 2 | 0      | 22.67  |  7.000 | 2      | 8      | 4      | 0.165  | 0      | 0      |  0     | 0      | 2      | 160    |    1   | 0      |\n",
       "| 3 | 0      | 29.58  |  1.750 | 1      | 4      | 4      | 1.250  | 0      | 0      |  0     | 1      | 2      | 280    |    1   | 0      |\n",
       "| 5 | 1      | 20.17  |  8.170 | 2      | 6      | 4      | 1.960  | 1      | 1      | 14     | 0      | 2      |  60    |  159   | 1      |\n",
       "| 6 | 0      | 15.83  |  0.585 | 2      | 8      | 8      | 1.500  | 1      | 1      |  2     | 0      | 2      | 100    |    1   | 1      |\n",
       "| 7 | 1      | 17.42  |  6.500 | 2      | 3      | 4      | 0.125  | 0      | 0      |  0     | 0      | 2      |  60    |  101   | 0      |\n",
       "\n"
      ],
      "text/plain": [
       "  V1 V2    V3     V4 V5 V6 V7    V8 V9 V10 V11 V12 V13 V14  V15\n",
       "1 1  22.08 11.460 2  4  4  1.585 0  0   0  1   2   100 1213 0  \n",
       "2 0  22.67  7.000 2  8  4  0.165 0  0   0  0   2   160    1 0  \n",
       "3 0  29.58  1.750 1  4  4  1.250 0  0   0  1   2   280    1 0  \n",
       "5 1  20.17  8.170 2  6  4  1.960 1  1  14  0   2    60  159 1  \n",
       "6 0  15.83  0.585 2  8  8  1.500 1  1   2  0   2   100    1 1  \n",
       "7 1  17.42  6.500 2  3  4  0.125 0  0   0  0   2    60  101 0  "
      ]
     },
     "metadata": {},
     "output_type": "display_data"
    },
    {
     "data": {
      "text/html": [
       "<table>\n",
       "<thead><tr><th></th><th scope=col>V1</th><th scope=col>V2</th><th scope=col>V3</th><th scope=col>V4</th><th scope=col>V5</th><th scope=col>V6</th><th scope=col>V7</th><th scope=col>V8</th><th scope=col>V9</th><th scope=col>V10</th><th scope=col>V11</th><th scope=col>V12</th><th scope=col>V13</th><th scope=col>V14</th><th scope=col>V15</th></tr></thead>\n",
       "<tbody>\n",
       "\t<tr><th scope=row>537</th><td>1    </td><td>33.75</td><td>2.750</td><td>2    </td><td>3    </td><td>5    </td><td>0.000</td><td>0    </td><td>0    </td><td>0    </td><td>0    </td><td>2    </td><td>180  </td><td>1    </td><td>0    </td></tr>\n",
       "\t<tr><th scope=row>136</th><td>0    </td><td>38.33</td><td>4.415</td><td>2    </td><td>8    </td><td>4    </td><td>0.125</td><td>0    </td><td>0    </td><td>0    </td><td>0    </td><td>2    </td><td>160  </td><td>1    </td><td>0    </td></tr>\n",
       "\t<tr><th scope=row>671</th><td>0    </td><td>37.75</td><td>5.500</td><td>2    </td><td>11   </td><td>4    </td><td>0.125</td><td>1    </td><td>0    </td><td>0    </td><td>1    </td><td>2    </td><td>228  </td><td>1    </td><td>1    </td></tr>\n",
       "\t<tr><th scope=row>659</th><td>0    </td><td>17.67</td><td>0.000</td><td>1    </td><td>5    </td><td>1    </td><td>0.000</td><td>0    </td><td>0    </td><td>0    </td><td>0    </td><td>2    </td><td> 86  </td><td>1    </td><td>0    </td></tr>\n",
       "\t<tr><th scope=row>613</th><td>1    </td><td>26.17</td><td>0.250</td><td>2    </td><td>3    </td><td>5    </td><td>0.000</td><td>1    </td><td>0    </td><td>0    </td><td>1    </td><td>2    </td><td>  0  </td><td>1    </td><td>1    </td></tr>\n",
       "\t<tr><th scope=row>385</th><td>0    </td><td>41.17</td><td>6.500</td><td>2    </td><td>11   </td><td>4    </td><td>0.500</td><td>1    </td><td>1    </td><td>3    </td><td>1    </td><td>2    </td><td>145  </td><td>1    </td><td>1    </td></tr>\n",
       "</tbody>\n",
       "</table>\n"
      ],
      "text/latex": [
       "\\begin{tabular}{r|lllllllllllllll}\n",
       "  & V1 & V2 & V3 & V4 & V5 & V6 & V7 & V8 & V9 & V10 & V11 & V12 & V13 & V14 & V15\\\\\n",
       "\\hline\n",
       "\t537 & 1     & 33.75 & 2.750 & 2     & 3     & 5     & 0.000 & 0     & 0     & 0     & 0     & 2     & 180   & 1     & 0    \\\\\n",
       "\t136 & 0     & 38.33 & 4.415 & 2     & 8     & 4     & 0.125 & 0     & 0     & 0     & 0     & 2     & 160   & 1     & 0    \\\\\n",
       "\t671 & 0     & 37.75 & 5.500 & 2     & 11    & 4     & 0.125 & 1     & 0     & 0     & 1     & 2     & 228   & 1     & 1    \\\\\n",
       "\t659 & 0     & 17.67 & 0.000 & 1     & 5     & 1     & 0.000 & 0     & 0     & 0     & 0     & 2     &  86   & 1     & 0    \\\\\n",
       "\t613 & 1     & 26.17 & 0.250 & 2     & 3     & 5     & 0.000 & 1     & 0     & 0     & 1     & 2     &   0   & 1     & 1    \\\\\n",
       "\t385 & 0     & 41.17 & 6.500 & 2     & 11    & 4     & 0.500 & 1     & 1     & 3     & 1     & 2     & 145   & 1     & 1    \\\\\n",
       "\\end{tabular}\n"
      ],
      "text/markdown": [
       "\n",
       "| <!--/--> | V1 | V2 | V3 | V4 | V5 | V6 | V7 | V8 | V9 | V10 | V11 | V12 | V13 | V14 | V15 |\n",
       "|---|---|---|---|---|---|---|---|---|---|---|---|---|---|---|---|\n",
       "| 537 | 1     | 33.75 | 2.750 | 2     | 3     | 5     | 0.000 | 0     | 0     | 0     | 0     | 2     | 180   | 1     | 0     |\n",
       "| 136 | 0     | 38.33 | 4.415 | 2     | 8     | 4     | 0.125 | 0     | 0     | 0     | 0     | 2     | 160   | 1     | 0     |\n",
       "| 671 | 0     | 37.75 | 5.500 | 2     | 11    | 4     | 0.125 | 1     | 0     | 0     | 1     | 2     | 228   | 1     | 1     |\n",
       "| 659 | 0     | 17.67 | 0.000 | 1     | 5     | 1     | 0.000 | 0     | 0     | 0     | 0     | 2     |  86   | 1     | 0     |\n",
       "| 613 | 1     | 26.17 | 0.250 | 2     | 3     | 5     | 0.000 | 1     | 0     | 0     | 1     | 2     |   0   | 1     | 1     |\n",
       "| 385 | 0     | 41.17 | 6.500 | 2     | 11    | 4     | 0.500 | 1     | 1     | 3     | 1     | 2     | 145   | 1     | 1     |\n",
       "\n"
      ],
      "text/plain": [
       "    V1 V2    V3    V4 V5 V6 V7    V8 V9 V10 V11 V12 V13 V14 V15\n",
       "537 1  33.75 2.750 2  3  5  0.000 0  0  0   0   2   180 1   0  \n",
       "136 0  38.33 4.415 2  8  4  0.125 0  0  0   0   2   160 1   0  \n",
       "671 0  37.75 5.500 2  11 4  0.125 1  0  0   1   2   228 1   1  \n",
       "659 0  17.67 0.000 1  5  1  0.000 0  0  0   0   2    86 1   0  \n",
       "613 1  26.17 0.250 2  3  5  0.000 1  0  0   1   2     0 1   1  \n",
       "385 0  41.17 6.500 2  11 4  0.500 1  1  3   1   2   145 1   1  "
      ]
     },
     "metadata": {},
     "output_type": "display_data"
    }
   ],
   "source": [
    "head(myData[train,])\n",
    "head(myData[test,])"
   ]
  },
  {
   "cell_type": "markdown",
   "metadata": {},
   "source": [
    "In this section, we are creating a generalized linear model. After that, we are classifying our predictions for a certain probability value (setted as 0.7 in this example), then creating a confusion matrix in order to test model's accuracy."
   ]
  },
  {
   "cell_type": "markdown",
   "metadata": {},
   "source": [
    "#### Testing for approved credit applications for numerical features."
   ]
  },
  {
   "cell_type": "code",
   "execution_count": 7,
   "metadata": {
    "scrolled": false
   },
   "outputs": [
    {
     "name": "stderr",
     "output_type": "stream",
     "text": [
      "Warning message:\n",
      "“glm.fit: fitted probabilities numerically 0 or 1 occurred”"
     ]
    },
    {
     "data": {
      "text/plain": [
       "Confusion Matrix and Statistics\n",
       "\n",
       "         real\n",
       "predicted  0  1\n",
       "        0 83 27\n",
       "        1 15 47\n",
       "                                         \n",
       "               Accuracy : 0.7558         \n",
       "                 95% CI : (0.6846, 0.818)\n",
       "    No Information Rate : 0.5698         \n",
       "    P-Value [Acc > NIR] : 2.887e-07      \n",
       "                                         \n",
       "                  Kappa : 0.4918         \n",
       " Mcnemar's Test P-Value : 0.08963        \n",
       "                                         \n",
       "            Sensitivity : 0.8469         \n",
       "            Specificity : 0.6351         \n",
       "         Pos Pred Value : 0.7545         \n",
       "         Neg Pred Value : 0.7581         \n",
       "             Prevalence : 0.5698         \n",
       "         Detection Rate : 0.4826         \n",
       "   Detection Prevalence : 0.6395         \n",
       "      Balanced Accuracy : 0.7410         \n",
       "                                         \n",
       "       'Positive' Class : 0              \n",
       "                                         "
      ]
     },
     "metadata": {},
     "output_type": "display_data"
    }
   ],
   "source": [
    "model <- glm(V15 ~ V2 + V3 + V7 + V10 + V13 + V14, data=myData[train,], binomial)\n",
    "oddsratio <- exp(predict(model,myData[test,]))\n",
    "predicted <- ifelse(oddsratio > 0.75,1,0)\n",
    "confusionMatrix(table(predicted,real=myData[test,15]))"
   ]
  },
  {
   "cell_type": "markdown",
   "metadata": {},
   "source": [
    "Statlog data set shows us that numerical columns give an accuracy between %75 and %80. In order to determine signifiance of given features, let's take a look at anova and summary values."
   ]
  },
  {
   "cell_type": "code",
   "execution_count": 8,
   "metadata": {},
   "outputs": [
    {
     "data": {
      "text/html": [
       "<table>\n",
       "<thead><tr><th></th><th scope=col>Df</th><th scope=col>Deviance</th><th scope=col>Resid. Df</th><th scope=col>Resid. Dev</th></tr></thead>\n",
       "<tbody>\n",
       "\t<tr><th scope=row>NULL</th><td>NA          </td><td>          NA</td><td>517         </td><td>712.8716    </td></tr>\n",
       "\t<tr><th scope=row>V2</th><td> 1          </td><td>16.447507965</td><td>516         </td><td>696.4241    </td></tr>\n",
       "\t<tr><th scope=row>V3</th><td> 1          </td><td>13.945282898</td><td>515         </td><td>682.4788    </td></tr>\n",
       "\t<tr><th scope=row>V7</th><td> 1          </td><td>46.769040176</td><td>514         </td><td>635.7098    </td></tr>\n",
       "\t<tr><th scope=row>V10</th><td> 1          </td><td>94.133793729</td><td>513         </td><td>541.5760    </td></tr>\n",
       "\t<tr><th scope=row>V13</th><td> 1          </td><td> 0.005326222</td><td>512         </td><td>541.5706    </td></tr>\n",
       "\t<tr><th scope=row>V14</th><td> 1          </td><td>32.304871721</td><td>511         </td><td>509.2658    </td></tr>\n",
       "</tbody>\n",
       "</table>\n"
      ],
      "text/latex": [
       "\\begin{tabular}{r|llll}\n",
       "  & Df & Deviance & Resid. Df & Resid. Dev\\\\\n",
       "\\hline\n",
       "\tNULL & NA           &           NA & 517          & 712.8716    \\\\\n",
       "\tV2 &  1           & 16.447507965 & 516          & 696.4241    \\\\\n",
       "\tV3 &  1           & 13.945282898 & 515          & 682.4788    \\\\\n",
       "\tV7 &  1           & 46.769040176 & 514          & 635.7098    \\\\\n",
       "\tV10 &  1           & 94.133793729 & 513          & 541.5760    \\\\\n",
       "\tV13 &  1           &  0.005326222 & 512          & 541.5706    \\\\\n",
       "\tV14 &  1           & 32.304871721 & 511          & 509.2658    \\\\\n",
       "\\end{tabular}\n"
      ],
      "text/markdown": [
       "\n",
       "| <!--/--> | Df | Deviance | Resid. Df | Resid. Dev |\n",
       "|---|---|---|---|---|\n",
       "| NULL | NA           |           NA | 517          | 712.8716     |\n",
       "| V2 |  1           | 16.447507965 | 516          | 696.4241     |\n",
       "| V3 |  1           | 13.945282898 | 515          | 682.4788     |\n",
       "| V7 |  1           | 46.769040176 | 514          | 635.7098     |\n",
       "| V10 |  1           | 94.133793729 | 513          | 541.5760     |\n",
       "| V13 |  1           |  0.005326222 | 512          | 541.5706     |\n",
       "| V14 |  1           | 32.304871721 | 511          | 509.2658     |\n",
       "\n"
      ],
      "text/plain": [
       "     Df Deviance     Resid. Df Resid. Dev\n",
       "NULL NA           NA 517       712.8716  \n",
       "V2    1 16.447507965 516       696.4241  \n",
       "V3    1 13.945282898 515       682.4788  \n",
       "V7    1 46.769040176 514       635.7098  \n",
       "V10   1 94.133793729 513       541.5760  \n",
       "V13   1  0.005326222 512       541.5706  \n",
       "V14   1 32.304871721 511       509.2658  "
      ]
     },
     "metadata": {},
     "output_type": "display_data"
    },
    {
     "data": {
      "text/plain": [
       "\n",
       "Call:\n",
       "glm(formula = V15 ~ V2 + V3 + V7 + V10 + V13 + V14, family = binomial, \n",
       "    data = myData[train, ])\n",
       "\n",
       "Deviance Residuals: \n",
       "    Min       1Q   Median       3Q      Max  \n",
       "-3.2209  -0.7414  -0.6253   0.7374   1.8930  \n",
       "\n",
       "Coefficients:\n",
       "              Estimate Std. Error z value Pr(>|z|)    \n",
       "(Intercept) -1.6214593  0.3627757  -4.470 7.84e-06 ***\n",
       "V2           0.0029413  0.0102428   0.287 0.773993    \n",
       "V3           0.0246464  0.0228809   1.077 0.281408    \n",
       "V7           0.2365017  0.0493494   4.792 1.65e-06 ***\n",
       "V10          0.3121393  0.0489821   6.373 1.86e-10 ***\n",
       "V13         -0.0003077  0.0006639  -0.463 0.643026    \n",
       "V14          0.0004866  0.0001350   3.604 0.000314 ***\n",
       "---\n",
       "Signif. codes:  0 ‘***’ 0.001 ‘**’ 0.01 ‘*’ 0.05 ‘.’ 0.1 ‘ ’ 1\n",
       "\n",
       "(Dispersion parameter for binomial family taken to be 1)\n",
       "\n",
       "    Null deviance: 712.87  on 517  degrees of freedom\n",
       "Residual deviance: 509.27  on 511  degrees of freedom\n",
       "AIC: 523.27\n",
       "\n",
       "Number of Fisher Scoring iterations: 7\n"
      ]
     },
     "metadata": {},
     "output_type": "display_data"
    }
   ],
   "source": [
    "anova(model)\n",
    "summary(model)"
   ]
  },
  {
   "cell_type": "markdown",
   "metadata": {},
   "source": [
    "#### Now let's apply logistic regression on all data."
   ]
  },
  {
   "cell_type": "code",
   "execution_count": 9,
   "metadata": {},
   "outputs": [
    {
     "name": "stderr",
     "output_type": "stream",
     "text": [
      "Warning message:\n",
      "“glm.fit: fitted probabilities numerically 0 or 1 occurred”"
     ]
    },
    {
     "data": {
      "text/plain": [
       "Confusion Matrix and Statistics\n",
       "\n",
       "         real\n",
       "predicted  0  1\n",
       "        0 76 16\n",
       "        1 16 64\n",
       "                                          \n",
       "               Accuracy : 0.814           \n",
       "                 95% CI : (0.7476, 0.8691)\n",
       "    No Information Rate : 0.5349          \n",
       "    P-Value [Acc > NIR] : 1.689e-14       \n",
       "                                          \n",
       "                  Kappa : 0.6261          \n",
       " Mcnemar's Test P-Value : 1               \n",
       "                                          \n",
       "            Sensitivity : 0.8261          \n",
       "            Specificity : 0.8000          \n",
       "         Pos Pred Value : 0.8261          \n",
       "         Neg Pred Value : 0.8000          \n",
       "             Prevalence : 0.5349          \n",
       "         Detection Rate : 0.4419          \n",
       "   Detection Prevalence : 0.5349          \n",
       "      Balanced Accuracy : 0.8130          \n",
       "                                          \n",
       "       'Positive' Class : 0               \n",
       "                                          "
      ]
     },
     "metadata": {},
     "output_type": "display_data"
    }
   ],
   "source": [
    "n <- nrow(myData)\n",
    "test <- sample(1:n, n*0.25)\n",
    "train <- -test\n",
    "model <- glm(V15 ~ . , data=myData[train,], binomial)\n",
    "oddsratio <- exp(predict(model,myData[test,]))\n",
    "predicted <- ifelse(oddsratio > 0.7,1,0)\n",
    "confusionMatrix(table(predicted,real=myData[test,15]))"
   ]
  },
  {
   "cell_type": "code",
   "execution_count": 10,
   "metadata": {},
   "outputs": [
    {
     "data": {
      "text/plain": [
       "\n",
       "Call:\n",
       "glm(formula = V15 ~ ., family = binomial, data = myData[train, \n",
       "    ])\n",
       "\n",
       "Deviance Residuals: \n",
       "    Min       1Q   Median       3Q      Max  \n",
       "-2.6139  -0.2706  -0.0849   0.2870   3.3813  \n",
       "\n",
       "Coefficients:\n",
       "              Estimate Std. Error z value Pr(>|z|)    \n",
       "(Intercept) -7.065e+00  1.279e+00  -5.523 3.33e-08 ***\n",
       "V11         -1.414e-01  3.854e-01  -0.367 0.713772    \n",
       "V2           2.314e-02  1.669e-02   1.387 0.165570    \n",
       "V3          -3.580e-02  3.509e-02  -1.020 0.307598    \n",
       "V42          1.484e+00  4.616e-01   3.215 0.001302 ** \n",
       "V43          3.249e+01  2.230e+03   0.015 0.988375    \n",
       "V52         -9.139e+00  1.275e+03  -0.007 0.994282    \n",
       "V53         -9.662e+00  1.275e+03  -0.008 0.993954    \n",
       "V54         -9.929e+00  1.275e+03  -0.008 0.993788    \n",
       "V55          2.328e+00  7.674e+00   0.303 0.761616    \n",
       "V56         -9.878e+00  1.275e+03  -0.008 0.993820    \n",
       "V57         -1.014e+01  1.275e+03  -0.008 0.993654    \n",
       "V58         -8.864e+00  1.275e+03  -0.007 0.994454    \n",
       "V59         -9.235e+00  1.275e+03  -0.007 0.994221    \n",
       "V510        -7.172e+00  1.275e+03  -0.006 0.995512    \n",
       "V511        -9.180e+00  1.275e+03  -0.007 0.994256    \n",
       "V512        -2.557e+01  1.479e+03  -0.017 0.986206    \n",
       "V513        -8.287e+00  1.275e+03  -0.006 0.994815    \n",
       "V514        -5.606e+00  1.275e+03  -0.004 0.996493    \n",
       "V62          1.002e+01  1.275e+03   0.008 0.993733    \n",
       "V63         -1.767e+00  7.779e+00  -0.227 0.820276    \n",
       "V64          1.177e+01  1.275e+03   0.009 0.992638    \n",
       "V65          1.065e+01  1.275e+03   0.008 0.993335    \n",
       "V67          2.920e+01  1.479e+03   0.020 0.984248    \n",
       "V68          1.237e+01  1.275e+03   0.010 0.992260    \n",
       "V69          3.243e+00  1.275e+03   0.003 0.997971    \n",
       "V7          -1.479e-02  6.521e-02  -0.227 0.820565    \n",
       "V81          4.140e+00  4.619e-01   8.964  < 2e-16 ***\n",
       "V91          6.298e-01  4.968e-01   1.268 0.204904    \n",
       "V10          1.571e-01  8.594e-02   1.827 0.067637 .  \n",
       "V111        -3.069e-01  3.496e-01  -0.878 0.380038    \n",
       "V122        -1.021e-01  5.366e-01  -0.190 0.849090    \n",
       "V123         4.043e+00  1.317e+00   3.071 0.002135 ** \n",
       "V13         -3.553e-03  1.120e-03  -3.172 0.001513 ** \n",
       "V14          9.293e-04  2.447e-04   3.798 0.000146 ***\n",
       "---\n",
       "Signif. codes:  0 ‘***’ 0.001 ‘**’ 0.01 ‘*’ 0.05 ‘.’ 0.1 ‘ ’ 1\n",
       "\n",
       "(Dispersion parameter for binomial family taken to be 1)\n",
       "\n",
       "    Null deviance: 710.17  on 517  degrees of freedom\n",
       "Residual deviance: 258.35  on 483  degrees of freedom\n",
       "AIC: 328.35\n",
       "\n",
       "Number of Fisher Scoring iterations: 16\n"
      ]
     },
     "metadata": {},
     "output_type": "display_data"
    }
   ],
   "source": [
    "summary(model)"
   ]
  },
  {
   "cell_type": "markdown",
   "metadata": {},
   "source": [
    "# Statistical Analysis and Data Reconfiguration"
   ]
  },
  {
   "cell_type": "markdown",
   "metadata": {},
   "source": [
    "## Data adjustments for 5th column because it created some problems about splitting dataset to train and test"
   ]
  },
  {
   "cell_type": "code",
   "execution_count": 11,
   "metadata": {
    "scrolled": false
   },
   "outputs": [],
   "source": [
    "distance <- dist(myData[,c(\"V2\",\"V3\",\"V7\",\"V10\",\"V13\",\"V14\")])\n",
    "cluster <- hclust(distance)\n",
    "#plot(cluster, label= myData$v15)\n",
    "sd <- split(myData$V5,cutree(cluster, 4))"
   ]
  },
  {
   "cell_type": "code",
   "execution_count": 12,
   "metadata": {},
   "outputs": [
    {
     "name": "stdout",
     "output_type": "stream",
     "text": [
      "\n",
      "  1   2   3   4   5   6   7   8   9  10  11  12  13  14 \n",
      " 52  30  59  51  10  54  37 144  64  23  77   2  40  38 \n",
      "\n",
      " 1  2  3  4  5  6  7  8  9 10 11 12 13 14 \n",
      " 0  0  0  0  0  0  1  2  0  1  1  1  0  0 \n",
      "\n",
      " 1  2  3  4  5  6  7  8  9 10 11 12 13 14 \n",
      " 0  0  0  0  0  0  0  0  0  1  0  0  1  0 \n",
      "\n",
      " 1  2  3  4  5  6  7  8  9 10 11 12 13 14 \n",
      " 1  0  0  0  0  0  0  0  0  0  0  0  0  0 \n"
     ]
    }
   ],
   "source": [
    "for(i in 1:4) {\n",
    "    print(table(sd[i]))\n",
    "}"
   ]
  },
  {
   "cell_type": "code",
   "execution_count": 13,
   "metadata": {
    "scrolled": false
   },
   "outputs": [
    {
     "data": {
      "image/png": "[encoded data removed]",
      "text/plain": [
       "plot without title"
      ]
     },
     "metadata": {},
     "output_type": "display_data"
    }
   ],
   "source": [
    "treeModel.model <- rpart(V15 ~ V5, data=myData, method='class')\n",
    "rpart.plot(treeModel.model)"
   ]
  },
  {
   "cell_type": "code",
   "execution_count": 21,
   "metadata": {},
   "outputs": [],
   "source": [
    "?cube"
   ]
  },
  {
   "cell_type": "code",
   "execution_count": null,
   "metadata": {},
   "outputs": [],
   "source": []
  }
 ],
 "metadata": {
  "kernelspec": {
   "display_name": "R",
   "language": "R",
   "name": "ir"
  },
  "language_info": {
   "codemirror_mode": "r",
   "file_extension": ".r",
   "mimetype": "text/x-r-source",
   "name": "R",
   "pygments_lexer": "r",
   "version": "3.5.2"
  }
 },
 "nbformat": 4,
 "nbformat_minor": 2
}

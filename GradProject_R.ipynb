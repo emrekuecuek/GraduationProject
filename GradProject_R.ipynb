{
 "cells": [
  {
   "cell_type": "markdown",
   "metadata": {},
   "source": [
    "# Australian Credit Approval in R\n",
    "\n",
    "Applying algorithms in R for given dataset."
   ]
  },
  {
   "cell_type": "markdown",
   "metadata": {},
   "source": [
    "Importing data and assigning it to myData variable."
   ]
  },
  {
   "cell_type": "code",
   "execution_count": 33,
   "metadata": {},
   "outputs": [],
   "source": [
    "library(rpart)\n",
    "\n",
    "myData <- read.csv(\"http://archive.ics.uci.edu/ml/machine-learning-databases/statlog/australian/australian.dat\", header=FALSE, sep=\" \")"
   ]
  },
  {
   "cell_type": "code",
   "execution_count": 34,
   "metadata": {},
   "outputs": [
    {
     "data": {
      "text/html": [
       "<table>\n",
       "<thead><tr><th scope=col>V1</th><th scope=col>V2</th><th scope=col>V3</th><th scope=col>V4</th><th scope=col>V5</th><th scope=col>V6</th><th scope=col>V7</th><th scope=col>V8</th><th scope=col>V9</th><th scope=col>V10</th><th scope=col>V11</th><th scope=col>V12</th><th scope=col>V13</th><th scope=col>V14</th><th scope=col>V15</th></tr></thead>\n",
       "<tbody>\n",
       "\t<tr><td>1     </td><td>22.08 </td><td>11.460</td><td>2     </td><td>4     </td><td>4     </td><td>1.585 </td><td>0     </td><td>0     </td><td> 0    </td><td>1     </td><td>2     </td><td>100   </td><td>1213  </td><td>0     </td></tr>\n",
       "\t<tr><td>0     </td><td>22.67 </td><td> 7.000</td><td>2     </td><td>8     </td><td>4     </td><td>0.165 </td><td>0     </td><td>0     </td><td> 0    </td><td>0     </td><td>2     </td><td>160   </td><td>   1  </td><td>0     </td></tr>\n",
       "\t<tr><td>0     </td><td>29.58 </td><td> 1.750</td><td>1     </td><td>4     </td><td>4     </td><td>1.250 </td><td>0     </td><td>0     </td><td> 0    </td><td>1     </td><td>2     </td><td>280   </td><td>   1  </td><td>0     </td></tr>\n",
       "\t<tr><td>0     </td><td>21.67 </td><td>11.500</td><td>1     </td><td>5     </td><td>3     </td><td>0.000 </td><td>1     </td><td>1     </td><td>11    </td><td>1     </td><td>2     </td><td>  0   </td><td>   1  </td><td>1     </td></tr>\n",
       "\t<tr><td>1     </td><td>20.17 </td><td> 8.170</td><td>2     </td><td>6     </td><td>4     </td><td>1.960 </td><td>1     </td><td>1     </td><td>14    </td><td>0     </td><td>2     </td><td> 60   </td><td> 159  </td><td>1     </td></tr>\n",
       "\t<tr><td>0     </td><td>15.83 </td><td> 0.585</td><td>2     </td><td>8     </td><td>8     </td><td>1.500 </td><td>1     </td><td>1     </td><td> 2    </td><td>0     </td><td>2     </td><td>100   </td><td>   1  </td><td>1     </td></tr>\n",
       "</tbody>\n",
       "</table>\n"
      ],
      "text/latex": [
       "\\begin{tabular}{r|lllllllllllllll}\n",
       " V1 & V2 & V3 & V4 & V5 & V6 & V7 & V8 & V9 & V10 & V11 & V12 & V13 & V14 & V15\\\\\n",
       "\\hline\n",
       "\t 1      & 22.08  & 11.460 & 2      & 4      & 4      & 1.585  & 0      & 0      &  0     & 1      & 2      & 100    & 1213   & 0     \\\\\n",
       "\t 0      & 22.67  &  7.000 & 2      & 8      & 4      & 0.165  & 0      & 0      &  0     & 0      & 2      & 160    &    1   & 0     \\\\\n",
       "\t 0      & 29.58  &  1.750 & 1      & 4      & 4      & 1.250  & 0      & 0      &  0     & 1      & 2      & 280    &    1   & 0     \\\\\n",
       "\t 0      & 21.67  & 11.500 & 1      & 5      & 3      & 0.000  & 1      & 1      & 11     & 1      & 2      &   0    &    1   & 1     \\\\\n",
       "\t 1      & 20.17  &  8.170 & 2      & 6      & 4      & 1.960  & 1      & 1      & 14     & 0      & 2      &  60    &  159   & 1     \\\\\n",
       "\t 0      & 15.83  &  0.585 & 2      & 8      & 8      & 1.500  & 1      & 1      &  2     & 0      & 2      & 100    &    1   & 1     \\\\\n",
       "\\end{tabular}\n"
      ],
      "text/markdown": [
       "\n",
       "| V1 | V2 | V3 | V4 | V5 | V6 | V7 | V8 | V9 | V10 | V11 | V12 | V13 | V14 | V15 |\n",
       "|---|---|---|---|---|---|---|---|---|---|---|---|---|---|---|\n",
       "| 1      | 22.08  | 11.460 | 2      | 4      | 4      | 1.585  | 0      | 0      |  0     | 1      | 2      | 100    | 1213   | 0      |\n",
       "| 0      | 22.67  |  7.000 | 2      | 8      | 4      | 0.165  | 0      | 0      |  0     | 0      | 2      | 160    |    1   | 0      |\n",
       "| 0      | 29.58  |  1.750 | 1      | 4      | 4      | 1.250  | 0      | 0      |  0     | 1      | 2      | 280    |    1   | 0      |\n",
       "| 0      | 21.67  | 11.500 | 1      | 5      | 3      | 0.000  | 1      | 1      | 11     | 1      | 2      |   0    |    1   | 1      |\n",
       "| 1      | 20.17  |  8.170 | 2      | 6      | 4      | 1.960  | 1      | 1      | 14     | 0      | 2      |  60    |  159   | 1      |\n",
       "| 0      | 15.83  |  0.585 | 2      | 8      | 8      | 1.500  | 1      | 1      |  2     | 0      | 2      | 100    |    1   | 1      |\n",
       "\n"
      ],
      "text/plain": [
       "  V1 V2    V3     V4 V5 V6 V7    V8 V9 V10 V11 V12 V13 V14  V15\n",
       "1 1  22.08 11.460 2  4  4  1.585 0  0   0  1   2   100 1213 0  \n",
       "2 0  22.67  7.000 2  8  4  0.165 0  0   0  0   2   160    1 0  \n",
       "3 0  29.58  1.750 1  4  4  1.250 0  0   0  1   2   280    1 0  \n",
       "4 0  21.67 11.500 1  5  3  0.000 1  1  11  1   2     0    1 1  \n",
       "5 1  20.17  8.170 2  6  4  1.960 1  1  14  0   2    60  159 1  \n",
       "6 0  15.83  0.585 2  8  8  1.500 1  1   2  0   2   100    1 1  "
      ]
     },
     "metadata": {},
     "output_type": "display_data"
    }
   ],
   "source": [
    "head(myData)"
   ]
  },
  {
   "cell_type": "markdown",
   "metadata": {},
   "source": [
    "## Data Adjusments\n",
    "\n",
    "Adjusting dataframe for categorical variables."
   ]
  },
  {
   "cell_type": "code",
   "execution_count": 35,
   "metadata": {
    "scrolled": false
   },
   "outputs": [],
   "source": [
    "myData$V1 <- factor(myData$V1)\n",
    "myData$V4 <- factor(myData$V4)#, levels = c(1,2), labels = c(1,2))\n",
    "myData$V5 <- factor(myData$V5)#, levels = c(1,2,3,4,5,6,7,8,9,10,11,12,13,14), labels = c(1,2,3,4,5,6,7,8,9,10,11,12,13,14))\n",
    "myData$V6 <- factor(myData$V6)#, levels = c(1,2,3,4,5,6,7,8,9), labels = c(1,2,3,4,5,6,7,8,9))\n",
    "myData$V8 <- factor(myData$V8)#, levels = c(0,1), labels = c(0,1))\n",
    "myData$V9 <- factor(myData$V9)#, levels = c(0,1), labels = c(0,1))\n",
    "myData$V11 <- factor(myData$V11)#, levels = c(0,1), labels = c(0,1))\n",
    "myData$V12 <- factor(myData$V12)#, levels =  c(1,2,3), labels =  c(1,2,3))\n",
    "myData$V15 <- factor(myData$V15)#, levels = c(0,1), labels = c(0,1))"
   ]
  },
  {
   "cell_type": "code",
   "execution_count": 36,
   "metadata": {
    "scrolled": true
   },
   "outputs": [
    {
     "data": {
      "text/html": [
       "<table>\n",
       "<thead><tr><th scope=col>V1</th><th scope=col>V2</th><th scope=col>V3</th><th scope=col>V4</th><th scope=col>V5</th><th scope=col>V6</th><th scope=col>V7</th><th scope=col>V8</th><th scope=col>V9</th><th scope=col>V10</th><th scope=col>V11</th><th scope=col>V12</th><th scope=col>V13</th><th scope=col>V14</th><th scope=col>V15</th></tr></thead>\n",
       "<tbody>\n",
       "\t<tr><td>1     </td><td>22.08 </td><td>11.460</td><td>2     </td><td>4     </td><td>4     </td><td>1.585 </td><td>0     </td><td>0     </td><td> 0    </td><td>1     </td><td>2     </td><td>100   </td><td>1213  </td><td>0     </td></tr>\n",
       "\t<tr><td>0     </td><td>22.67 </td><td> 7.000</td><td>2     </td><td>8     </td><td>4     </td><td>0.165 </td><td>0     </td><td>0     </td><td> 0    </td><td>0     </td><td>2     </td><td>160   </td><td>   1  </td><td>0     </td></tr>\n",
       "\t<tr><td>0     </td><td>29.58 </td><td> 1.750</td><td>1     </td><td>4     </td><td>4     </td><td>1.250 </td><td>0     </td><td>0     </td><td> 0    </td><td>1     </td><td>2     </td><td>280   </td><td>   1  </td><td>0     </td></tr>\n",
       "\t<tr><td>0     </td><td>21.67 </td><td>11.500</td><td>1     </td><td>5     </td><td>3     </td><td>0.000 </td><td>1     </td><td>1     </td><td>11    </td><td>1     </td><td>2     </td><td>  0   </td><td>   1  </td><td>1     </td></tr>\n",
       "\t<tr><td>1     </td><td>20.17 </td><td> 8.170</td><td>2     </td><td>6     </td><td>4     </td><td>1.960 </td><td>1     </td><td>1     </td><td>14    </td><td>0     </td><td>2     </td><td> 60   </td><td> 159  </td><td>1     </td></tr>\n",
       "\t<tr><td>0     </td><td>15.83 </td><td> 0.585</td><td>2     </td><td>8     </td><td>8     </td><td>1.500 </td><td>1     </td><td>1     </td><td> 2    </td><td>0     </td><td>2     </td><td>100   </td><td>   1  </td><td>1     </td></tr>\n",
       "</tbody>\n",
       "</table>\n"
      ],
      "text/latex": [
       "\\begin{tabular}{r|lllllllllllllll}\n",
       " V1 & V2 & V3 & V4 & V5 & V6 & V7 & V8 & V9 & V10 & V11 & V12 & V13 & V14 & V15\\\\\n",
       "\\hline\n",
       "\t 1      & 22.08  & 11.460 & 2      & 4      & 4      & 1.585  & 0      & 0      &  0     & 1      & 2      & 100    & 1213   & 0     \\\\\n",
       "\t 0      & 22.67  &  7.000 & 2      & 8      & 4      & 0.165  & 0      & 0      &  0     & 0      & 2      & 160    &    1   & 0     \\\\\n",
       "\t 0      & 29.58  &  1.750 & 1      & 4      & 4      & 1.250  & 0      & 0      &  0     & 1      & 2      & 280    &    1   & 0     \\\\\n",
       "\t 0      & 21.67  & 11.500 & 1      & 5      & 3      & 0.000  & 1      & 1      & 11     & 1      & 2      &   0    &    1   & 1     \\\\\n",
       "\t 1      & 20.17  &  8.170 & 2      & 6      & 4      & 1.960  & 1      & 1      & 14     & 0      & 2      &  60    &  159   & 1     \\\\\n",
       "\t 0      & 15.83  &  0.585 & 2      & 8      & 8      & 1.500  & 1      & 1      &  2     & 0      & 2      & 100    &    1   & 1     \\\\\n",
       "\\end{tabular}\n"
      ],
      "text/markdown": [
       "\n",
       "| V1 | V2 | V3 | V4 | V5 | V6 | V7 | V8 | V9 | V10 | V11 | V12 | V13 | V14 | V15 |\n",
       "|---|---|---|---|---|---|---|---|---|---|---|---|---|---|---|\n",
       "| 1      | 22.08  | 11.460 | 2      | 4      | 4      | 1.585  | 0      | 0      |  0     | 1      | 2      | 100    | 1213   | 0      |\n",
       "| 0      | 22.67  |  7.000 | 2      | 8      | 4      | 0.165  | 0      | 0      |  0     | 0      | 2      | 160    |    1   | 0      |\n",
       "| 0      | 29.58  |  1.750 | 1      | 4      | 4      | 1.250  | 0      | 0      |  0     | 1      | 2      | 280    |    1   | 0      |\n",
       "| 0      | 21.67  | 11.500 | 1      | 5      | 3      | 0.000  | 1      | 1      | 11     | 1      | 2      |   0    |    1   | 1      |\n",
       "| 1      | 20.17  |  8.170 | 2      | 6      | 4      | 1.960  | 1      | 1      | 14     | 0      | 2      |  60    |  159   | 1      |\n",
       "| 0      | 15.83  |  0.585 | 2      | 8      | 8      | 1.500  | 1      | 1      |  2     | 0      | 2      | 100    |    1   | 1      |\n",
       "\n"
      ],
      "text/plain": [
       "  V1 V2    V3     V4 V5 V6 V7    V8 V9 V10 V11 V12 V13 V14  V15\n",
       "1 1  22.08 11.460 2  4  4  1.585 0  0   0  1   2   100 1213 0  \n",
       "2 0  22.67  7.000 2  8  4  0.165 0  0   0  0   2   160    1 0  \n",
       "3 0  29.58  1.750 1  4  4  1.250 0  0   0  1   2   280    1 0  \n",
       "4 0  21.67 11.500 1  5  3  0.000 1  1  11  1   2     0    1 1  \n",
       "5 1  20.17  8.170 2  6  4  1.960 1  1  14  0   2    60  159 1  \n",
       "6 0  15.83  0.585 2  8  8  1.500 1  1   2  0   2   100    1 1  "
      ]
     },
     "metadata": {},
     "output_type": "display_data"
    }
   ],
   "source": [
    "head(myData)"
   ]
  },
  {
   "cell_type": "markdown",
   "metadata": {},
   "source": [
    "## Logistic Regression "
   ]
  },
  {
   "cell_type": "markdown",
   "metadata": {},
   "source": [
    "Logistic Regression Applications for certain numerical columns. Lets begin with adjusting numerical data in order to check for logistic regression implementation"
   ]
  },
  {
   "cell_type": "markdown",
   "metadata": {},
   "source": [
    "#### Constructing a numerical part  from whole dataset, and creating their train and test parts.  "
   ]
  },
  {
   "cell_type": "code",
   "execution_count": 5,
   "metadata": {},
   "outputs": [],
   "source": [
    "numericalMyData <- cbind(myData$V2, myData$V3, myData$V7, myData$V13, myData$V14)\n",
    "\n",
    "approved <- ifelse(myData$V15 == 1,1,0)\n",
    "rejected <- ifelse(myData$V15 == 0,1,0)\n",
    "\n",
    "logRegData <- cbind(numericalMyData, approved, rejected)\n",
    "\n",
    "n <- nrow(myData)\n",
    "train <- sample(1:n, n*0.10)\n",
    "test <- -train"
   ]
  },
  {
   "cell_type": "markdown",
   "metadata": {},
   "source": [
    "#### Same construction operation but containing all dataset."
   ]
  },
  {
   "cell_type": "code",
   "execution_count": 6,
   "metadata": {},
   "outputs": [],
   "source": [
    "logRegAllData <- cbind(myData[0:14],approved,rejected)\n",
    "\n",
    "trainAll <- sample(1:150,100)\n",
    "testAll <- -train"
   ]
  },
  {
   "cell_type": "code",
   "execution_count": 7,
   "metadata": {
    "scrolled": false
   },
   "outputs": [
    {
     "data": {
      "text/html": [
       "<table>\n",
       "<thead><tr><th scope=col></th><th scope=col></th><th scope=col></th><th scope=col></th><th scope=col></th><th scope=col>approved</th><th scope=col>rejected</th></tr></thead>\n",
       "<tbody>\n",
       "\t<tr><td>22.08 </td><td>11.460</td><td>1.585 </td><td>100   </td><td>1213  </td><td>0     </td><td>1     </td></tr>\n",
       "\t<tr><td>22.67 </td><td> 7.000</td><td>0.165 </td><td>160   </td><td>   1  </td><td>0     </td><td>1     </td></tr>\n",
       "\t<tr><td>29.58 </td><td> 1.750</td><td>1.250 </td><td>280   </td><td>   1  </td><td>0     </td><td>1     </td></tr>\n",
       "\t<tr><td>21.67 </td><td>11.500</td><td>0.000 </td><td>  0   </td><td>   1  </td><td>1     </td><td>0     </td></tr>\n",
       "\t<tr><td>20.17 </td><td> 8.170</td><td>1.960 </td><td> 60   </td><td> 159  </td><td>1     </td><td>0     </td></tr>\n",
       "\t<tr><td>15.83 </td><td> 0.585</td><td>1.500 </td><td>100   </td><td>   1  </td><td>1     </td><td>0     </td></tr>\n",
       "</tbody>\n",
       "</table>\n"
      ],
      "text/latex": [
       "\\begin{tabular}{lllllll}\n",
       "  &  &  &  &  & approved & rejected\\\\\n",
       "\\hline\n",
       "\t 22.08  & 11.460 & 1.585  & 100    & 1213   & 0      & 1     \\\\\n",
       "\t 22.67  &  7.000 & 0.165  & 160    &    1   & 0      & 1     \\\\\n",
       "\t 29.58  &  1.750 & 1.250  & 280    &    1   & 0      & 1     \\\\\n",
       "\t 21.67  & 11.500 & 0.000  &   0    &    1   & 1      & 0     \\\\\n",
       "\t 20.17  &  8.170 & 1.960  &  60    &  159   & 1      & 0     \\\\\n",
       "\t 15.83  &  0.585 & 1.500  & 100    &    1   & 1      & 0     \\\\\n",
       "\\end{tabular}\n"
      ],
      "text/markdown": [
       "\n",
       "|  |  |  |  |  | approved | rejected |\n",
       "|---|---|---|---|---|---|---|\n",
       "| 22.08  | 11.460 | 1.585  | 100    | 1213   | 0      | 1      |\n",
       "| 22.67  |  7.000 | 0.165  | 160    |    1   | 0      | 1      |\n",
       "| 29.58  |  1.750 | 1.250  | 280    |    1   | 0      | 1      |\n",
       "| 21.67  | 11.500 | 0.000  |   0    |    1   | 1      | 0      |\n",
       "| 20.17  |  8.170 | 1.960  |  60    |  159   | 1      | 0      |\n",
       "| 15.83  |  0.585 | 1.500  | 100    |    1   | 1      | 0      |\n",
       "\n"
      ],
      "text/plain": [
       "                                 approved rejected\n",
       "[1,] 22.08 11.460 1.585 100 1213 0        1       \n",
       "[2,] 22.67  7.000 0.165 160    1 0        1       \n",
       "[3,] 29.58  1.750 1.250 280    1 0        1       \n",
       "[4,] 21.67 11.500 0.000   0    1 1        0       \n",
       "[5,] 20.17  8.170 1.960  60  159 1        0       \n",
       "[6,] 15.83  0.585 1.500 100    1 1        0       "
      ]
     },
     "metadata": {},
     "output_type": "display_data"
    },
    {
     "data": {
      "text/html": [
       "<table>\n",
       "<thead><tr><th scope=col>V1</th><th scope=col>V2</th><th scope=col>V3</th><th scope=col>V4</th><th scope=col>V5</th><th scope=col>V6</th><th scope=col>V7</th><th scope=col>V8</th><th scope=col>V9</th><th scope=col>V10</th><th scope=col>V11</th><th scope=col>V12</th><th scope=col>V13</th><th scope=col>V14</th><th scope=col>approved</th><th scope=col>rejected</th></tr></thead>\n",
       "<tbody>\n",
       "\t<tr><td>1     </td><td>22.08 </td><td>11.460</td><td>2     </td><td>4     </td><td>4     </td><td>1.585 </td><td>0     </td><td>0     </td><td> 0    </td><td>1     </td><td>2     </td><td>100   </td><td>1213  </td><td>0     </td><td>1     </td></tr>\n",
       "\t<tr><td>0     </td><td>22.67 </td><td> 7.000</td><td>2     </td><td>8     </td><td>4     </td><td>0.165 </td><td>0     </td><td>0     </td><td> 0    </td><td>0     </td><td>2     </td><td>160   </td><td>   1  </td><td>0     </td><td>1     </td></tr>\n",
       "\t<tr><td>0     </td><td>29.58 </td><td> 1.750</td><td>1     </td><td>4     </td><td>4     </td><td>1.250 </td><td>0     </td><td>0     </td><td> 0    </td><td>1     </td><td>2     </td><td>280   </td><td>   1  </td><td>0     </td><td>1     </td></tr>\n",
       "\t<tr><td>0     </td><td>21.67 </td><td>11.500</td><td>1     </td><td>5     </td><td>3     </td><td>0.000 </td><td>1     </td><td>1     </td><td>11    </td><td>1     </td><td>2     </td><td>  0   </td><td>   1  </td><td>1     </td><td>0     </td></tr>\n",
       "\t<tr><td>1     </td><td>20.17 </td><td> 8.170</td><td>2     </td><td>6     </td><td>4     </td><td>1.960 </td><td>1     </td><td>1     </td><td>14    </td><td>0     </td><td>2     </td><td> 60   </td><td> 159  </td><td>1     </td><td>0     </td></tr>\n",
       "\t<tr><td>0     </td><td>15.83 </td><td> 0.585</td><td>2     </td><td>8     </td><td>8     </td><td>1.500 </td><td>1     </td><td>1     </td><td> 2    </td><td>0     </td><td>2     </td><td>100   </td><td>   1  </td><td>1     </td><td>0     </td></tr>\n",
       "</tbody>\n",
       "</table>\n"
      ],
      "text/latex": [
       "\\begin{tabular}{r|llllllllllllllll}\n",
       " V1 & V2 & V3 & V4 & V5 & V6 & V7 & V8 & V9 & V10 & V11 & V12 & V13 & V14 & approved & rejected\\\\\n",
       "\\hline\n",
       "\t 1      & 22.08  & 11.460 & 2      & 4      & 4      & 1.585  & 0      & 0      &  0     & 1      & 2      & 100    & 1213   & 0      & 1     \\\\\n",
       "\t 0      & 22.67  &  7.000 & 2      & 8      & 4      & 0.165  & 0      & 0      &  0     & 0      & 2      & 160    &    1   & 0      & 1     \\\\\n",
       "\t 0      & 29.58  &  1.750 & 1      & 4      & 4      & 1.250  & 0      & 0      &  0     & 1      & 2      & 280    &    1   & 0      & 1     \\\\\n",
       "\t 0      & 21.67  & 11.500 & 1      & 5      & 3      & 0.000  & 1      & 1      & 11     & 1      & 2      &   0    &    1   & 1      & 0     \\\\\n",
       "\t 1      & 20.17  &  8.170 & 2      & 6      & 4      & 1.960  & 1      & 1      & 14     & 0      & 2      &  60    &  159   & 1      & 0     \\\\\n",
       "\t 0      & 15.83  &  0.585 & 2      & 8      & 8      & 1.500  & 1      & 1      &  2     & 0      & 2      & 100    &    1   & 1      & 0     \\\\\n",
       "\\end{tabular}\n"
      ],
      "text/markdown": [
       "\n",
       "| V1 | V2 | V3 | V4 | V5 | V6 | V7 | V8 | V9 | V10 | V11 | V12 | V13 | V14 | approved | rejected |\n",
       "|---|---|---|---|---|---|---|---|---|---|---|---|---|---|---|---|\n",
       "| 1      | 22.08  | 11.460 | 2      | 4      | 4      | 1.585  | 0      | 0      |  0     | 1      | 2      | 100    | 1213   | 0      | 1      |\n",
       "| 0      | 22.67  |  7.000 | 2      | 8      | 4      | 0.165  | 0      | 0      |  0     | 0      | 2      | 160    |    1   | 0      | 1      |\n",
       "| 0      | 29.58  |  1.750 | 1      | 4      | 4      | 1.250  | 0      | 0      |  0     | 1      | 2      | 280    |    1   | 0      | 1      |\n",
       "| 0      | 21.67  | 11.500 | 1      | 5      | 3      | 0.000  | 1      | 1      | 11     | 1      | 2      |   0    |    1   | 1      | 0      |\n",
       "| 1      | 20.17  |  8.170 | 2      | 6      | 4      | 1.960  | 1      | 1      | 14     | 0      | 2      |  60    |  159   | 1      | 0      |\n",
       "| 0      | 15.83  |  0.585 | 2      | 8      | 8      | 1.500  | 1      | 1      |  2     | 0      | 2      | 100    |    1   | 1      | 0      |\n",
       "\n"
      ],
      "text/plain": [
       "  V1 V2    V3     V4 V5 V6 V7    V8 V9 V10 V11 V12 V13 V14  approved rejected\n",
       "1 1  22.08 11.460 2  4  4  1.585 0  0   0  1   2   100 1213 0        1       \n",
       "2 0  22.67  7.000 2  8  4  0.165 0  0   0  0   2   160    1 0        1       \n",
       "3 0  29.58  1.750 1  4  4  1.250 0  0   0  1   2   280    1 0        1       \n",
       "4 0  21.67 11.500 1  5  3  0.000 1  1  11  1   2     0    1 1        0       \n",
       "5 1  20.17  8.170 2  6  4  1.960 1  1  14  0   2    60  159 1        0       \n",
       "6 0  15.83  0.585 2  8  8  1.500 1  1   2  0   2   100    1 1        0       "
      ]
     },
     "metadata": {},
     "output_type": "display_data"
    }
   ],
   "source": [
    "head(logRegData)\n",
    "head(logRegAllData)"
   ]
  },
  {
   "cell_type": "markdown",
   "metadata": {},
   "source": [
    "Importing libraries."
   ]
  },
  {
   "cell_type": "code",
   "execution_count": 8,
   "metadata": {
    "scrolled": false
   },
   "outputs": [
    {
     "name": "stderr",
     "output_type": "stream",
     "text": [
      "Loading required package: lattice\n",
      "Loading required package: ggplot2\n"
     ]
    }
   ],
   "source": [
    "library(e1071)\n",
    "library(caret)"
   ]
  },
  {
   "cell_type": "markdown",
   "metadata": {},
   "source": [
    "In this section, adjusting our data as \"data frame\" format since for creating a generalized linear model. After that, we are classifying our predictions for a certain probability value (setted as 0.7 in this example), then creating a confusion matrix in order to test model's accuracy."
   ]
  },
  {
   "cell_type": "markdown",
   "metadata": {},
   "source": [
    "#### Testing for approved credit applications."
   ]
  },
  {
   "cell_type": "code",
   "execution_count": 9,
   "metadata": {
    "scrolled": false
   },
   "outputs": [
    {
     "name": "stderr",
     "output_type": "stream",
     "text": [
      "Warning message:\n",
      "“glm.fit: fitted probabilities numerically 0 or 1 occurred”"
     ]
    },
    {
     "data": {
      "text/plain": [
       "Confusion Matrix and Statistics\n",
       "\n",
       "         real\n",
       "predicted   0   1\n",
       "        0 284 112\n",
       "        1  60 165\n",
       "                                         \n",
       "               Accuracy : 0.723          \n",
       "                 95% CI : (0.686, 0.7579)\n",
       "    No Information Rate : 0.5539         \n",
       "    P-Value [Acc > NIR] : < 2.2e-16      \n",
       "                                         \n",
       "                  Kappa : 0.4291         \n",
       " Mcnemar's Test P-Value : 0.0001008      \n",
       "                                         \n",
       "            Sensitivity : 0.8256         \n",
       "            Specificity : 0.5957         \n",
       "         Pos Pred Value : 0.7172         \n",
       "         Neg Pred Value : 0.7333         \n",
       "             Prevalence : 0.5539         \n",
       "         Detection Rate : 0.4573         \n",
       "   Detection Prevalence : 0.6377         \n",
       "      Balanced Accuracy : 0.7106         \n",
       "                                         \n",
       "       'Positive' Class : 0              \n",
       "                                         "
      ]
     },
     "metadata": {},
     "output_type": "display_data"
    }
   ],
   "source": [
    "logRegData <- as.data.frame(logRegData)\n",
    "model <- glm(approved ~ V1 + V2 + V3 + V4 + V5, data=logRegData[train,], binomial)\n",
    "oddsratio <- exp(predict(model,logRegData[test,]))\n",
    "predicted <- ifelse(oddsratio > 0.7,1,0)\n",
    "confusionMatrix(table(predicted,real=logRegData[test,\"approved\"]))"
   ]
  },
  {
   "cell_type": "markdown",
   "metadata": {},
   "source": [
    "#### Now let's apply logistic regression on all data."
   ]
  },
  {
   "cell_type": "code",
   "execution_count": 19,
   "metadata": {},
   "outputs": [
    {
     "name": "stderr",
     "output_type": "stream",
     "text": [
      "Warning message:\n",
      "“glm.fit: algorithm did not converge”Warning message:\n",
      "“glm.fit: fitted probabilities numerically 0 or 1 occurred”"
     ]
    },
    {
     "ename": "ERROR",
     "evalue": "Error in model.frame.default(Terms, newdata, na.action = na.action, xlev = object$xlevels): factor V4 has new levels 3\n",
     "output_type": "error",
     "traceback": [
      "Error in model.frame.default(Terms, newdata, na.action = na.action, xlev = object$xlevels): factor V4 has new levels 3\nTraceback:\n",
      "1. predict(model, myData[test, ])",
      "2. predict.glm(model, myData[test, ])",
      "3. predict.lm(object, newdata, se.fit, scale = 1, type = ifelse(type == \n .     \"link\", \"response\", type), terms = terms, na.action = na.action)",
      "4. model.frame(Terms, newdata, na.action = na.action, xlev = object$xlevels)",
      "5. model.frame.default(Terms, newdata, na.action = na.action, xlev = object$xlevels)",
      "6. stop(sprintf(ngettext(length(m), \"factor %s has new level %s\", \n .     \"factor %s has new levels %s\"), nm, paste(nxl[m], collapse = \", \")), \n .     domain = NA)"
     ]
    }
   ],
   "source": [
    "#logRegAllData <- as.data.frame(logRegAllData)\n",
    "model <- glm(V15 ~ . , data=myData[train,], binomial)\n",
    "oddsratio <- exp(predict(model,myData[test,]))\n",
    "predicted <- ifelse(oddsratio > 0.7,1,0)\n",
    "confusionMatrix(table(predicted,real=myData[test,V15]))"
   ]
  },
  {
   "cell_type": "markdown",
   "metadata": {},
   "source": [
    "# Statistical Analysis and Data Reconfiguration"
   ]
  },
  {
   "cell_type": "code",
   "execution_count": 11,
   "metadata": {},
   "outputs": [
    {
     "name": "stderr",
     "output_type": "stream",
     "text": [
      "Warning message:\n",
      "“glm.fit: fitted probabilities numerically 0 or 1 occurred”Warning message:\n",
      "“glm.fit: fitted probabilities numerically 0 or 1 occurred”Warning message:\n",
      "“glm.fit: fitted probabilities numerically 0 or 1 occurred”Warning message:\n",
      "“glm.fit: fitted probabilities numerically 0 or 1 occurred”Warning message:\n",
      "“glm.fit: algorithm did not converge”Warning message:\n",
      "“glm.fit: fitted probabilities numerically 0 or 1 occurred”Warning message:\n",
      "“glm.fit: algorithm did not converge”Warning message:\n",
      "“glm.fit: fitted probabilities numerically 0 or 1 occurred”Warning message:\n",
      "“glm.fit: algorithm did not converge”Warning message:\n",
      "“glm.fit: fitted probabilities numerically 0 or 1 occurred”"
     ]
    },
    {
     "data": {
      "text/html": [
       "<table>\n",
       "<thead><tr><th></th><th scope=col>Df</th><th scope=col>Deviance</th><th scope=col>Resid. Df</th><th scope=col>Resid. Dev</th></tr></thead>\n",
       "<tbody>\n",
       "\t<tr><th scope=row>NULL</th><td>NA          </td><td>          NA</td><td>68          </td><td>9.447705e+01</td></tr>\n",
       "\t<tr><th scope=row>V1</th><td> 1          </td><td>1.563344e+00</td><td>67          </td><td>9.291370e+01</td></tr>\n",
       "\t<tr><th scope=row>V2</th><td> 1          </td><td>1.113398e+00</td><td>66          </td><td>9.180030e+01</td></tr>\n",
       "\t<tr><th scope=row>V3</th><td> 1          </td><td>1.441832e+00</td><td>65          </td><td>9.035847e+01</td></tr>\n",
       "\t<tr><th scope=row>V4</th><td> 1          </td><td>4.036164e+00</td><td>64          </td><td>8.632231e+01</td></tr>\n",
       "\t<tr><th scope=row>V5</th><td>11          </td><td>3.451208e+01</td><td>53          </td><td>5.181023e+01</td></tr>\n",
       "\t<tr><th scope=row>V6</th><td> 2          </td><td>3.853973e+00</td><td>51          </td><td>4.795625e+01</td></tr>\n",
       "\t<tr><th scope=row>V7</th><td> 1          </td><td>6.622348e+00</td><td>50          </td><td>4.133390e+01</td></tr>\n",
       "\t<tr><th scope=row>V8</th><td> 1          </td><td>1.955895e+01</td><td>49          </td><td>2.177495e+01</td></tr>\n",
       "\t<tr><th scope=row>V9</th><td> 1          </td><td>6.227349e-01</td><td>48          </td><td>2.115222e+01</td></tr>\n",
       "\t<tr><th scope=row>V10</th><td> 1          </td><td>3.769467e+00</td><td>47          </td><td>1.738275e+01</td></tr>\n",
       "\t<tr><th scope=row>V11</th><td> 1          </td><td>1.738275e+01</td><td>46          </td><td>5.409289e-08</td></tr>\n",
       "\t<tr><th scope=row>V12</th><td> 1          </td><td>0.000000e+00</td><td>45          </td><td>5.948925e-08</td></tr>\n",
       "\t<tr><th scope=row>V13</th><td> 1          </td><td>1.374702e-08</td><td>44          </td><td>4.574224e-08</td></tr>\n",
       "\t<tr><th scope=row>V14</th><td> 1          </td><td>2.739219e-08</td><td>43          </td><td>1.835005e-08</td></tr>\n",
       "</tbody>\n",
       "</table>\n"
      ],
      "text/latex": [
       "\\begin{tabular}{r|llll}\n",
       "  & Df & Deviance & Resid. Df & Resid. Dev\\\\\n",
       "\\hline\n",
       "\tNULL & NA           &           NA & 68           & 9.447705e+01\\\\\n",
       "\tV1 &  1           & 1.563344e+00 & 67           & 9.291370e+01\\\\\n",
       "\tV2 &  1           & 1.113398e+00 & 66           & 9.180030e+01\\\\\n",
       "\tV3 &  1           & 1.441832e+00 & 65           & 9.035847e+01\\\\\n",
       "\tV4 &  1           & 4.036164e+00 & 64           & 8.632231e+01\\\\\n",
       "\tV5 & 11           & 3.451208e+01 & 53           & 5.181023e+01\\\\\n",
       "\tV6 &  2           & 3.853973e+00 & 51           & 4.795625e+01\\\\\n",
       "\tV7 &  1           & 6.622348e+00 & 50           & 4.133390e+01\\\\\n",
       "\tV8 &  1           & 1.955895e+01 & 49           & 2.177495e+01\\\\\n",
       "\tV9 &  1           & 6.227349e-01 & 48           & 2.115222e+01\\\\\n",
       "\tV10 &  1           & 3.769467e+00 & 47           & 1.738275e+01\\\\\n",
       "\tV11 &  1           & 1.738275e+01 & 46           & 5.409289e-08\\\\\n",
       "\tV12 &  1           & 0.000000e+00 & 45           & 5.948925e-08\\\\\n",
       "\tV13 &  1           & 1.374702e-08 & 44           & 4.574224e-08\\\\\n",
       "\tV14 &  1           & 2.739219e-08 & 43           & 1.835005e-08\\\\\n",
       "\\end{tabular}\n"
      ],
      "text/markdown": [
       "\n",
       "| <!--/--> | Df | Deviance | Resid. Df | Resid. Dev |\n",
       "|---|---|---|---|---|\n",
       "| NULL | NA           |           NA | 68           | 9.447705e+01 |\n",
       "| V1 |  1           | 1.563344e+00 | 67           | 9.291370e+01 |\n",
       "| V2 |  1           | 1.113398e+00 | 66           | 9.180030e+01 |\n",
       "| V3 |  1           | 1.441832e+00 | 65           | 9.035847e+01 |\n",
       "| V4 |  1           | 4.036164e+00 | 64           | 8.632231e+01 |\n",
       "| V5 | 11           | 3.451208e+01 | 53           | 5.181023e+01 |\n",
       "| V6 |  2           | 3.853973e+00 | 51           | 4.795625e+01 |\n",
       "| V7 |  1           | 6.622348e+00 | 50           | 4.133390e+01 |\n",
       "| V8 |  1           | 1.955895e+01 | 49           | 2.177495e+01 |\n",
       "| V9 |  1           | 6.227349e-01 | 48           | 2.115222e+01 |\n",
       "| V10 |  1           | 3.769467e+00 | 47           | 1.738275e+01 |\n",
       "| V11 |  1           | 1.738275e+01 | 46           | 5.409289e-08 |\n",
       "| V12 |  1           | 0.000000e+00 | 45           | 5.948925e-08 |\n",
       "| V13 |  1           | 1.374702e-08 | 44           | 4.574224e-08 |\n",
       "| V14 |  1           | 2.739219e-08 | 43           | 1.835005e-08 |\n",
       "\n"
      ],
      "text/plain": [
       "     Df Deviance     Resid. Df Resid. Dev  \n",
       "NULL NA           NA 68        9.447705e+01\n",
       "V1    1 1.563344e+00 67        9.291370e+01\n",
       "V2    1 1.113398e+00 66        9.180030e+01\n",
       "V3    1 1.441832e+00 65        9.035847e+01\n",
       "V4    1 4.036164e+00 64        8.632231e+01\n",
       "V5   11 3.451208e+01 53        5.181023e+01\n",
       "V6    2 3.853973e+00 51        4.795625e+01\n",
       "V7    1 6.622348e+00 50        4.133390e+01\n",
       "V8    1 1.955895e+01 49        2.177495e+01\n",
       "V9    1 6.227349e-01 48        2.115222e+01\n",
       "V10   1 3.769467e+00 47        1.738275e+01\n",
       "V11   1 1.738275e+01 46        5.409289e-08\n",
       "V12   1 0.000000e+00 45        5.948925e-08\n",
       "V13   1 1.374702e-08 44        4.574224e-08\n",
       "V14   1 2.739219e-08 43        1.835005e-08"
      ]
     },
     "metadata": {},
     "output_type": "display_data"
    },
    {
     "data": {
      "text/plain": [
       "\n",
       "Call:\n",
       "glm(formula = V15 ~ ., family = binomial, data = myData[train, \n",
       "    ])\n",
       "\n",
       "Deviance Residuals: \n",
       "       Min          1Q      Median          3Q         Max  \n",
       "-5.558e-05  -2.100e-08  -2.100e-08   2.100e-08   5.893e-05  \n",
       "\n",
       "Coefficients: (1 not defined because of singularities)\n",
       "              Estimate Std. Error z value Pr(>|z|)\n",
       "(Intercept)  2.428e+02  1.935e+06   0.000    1.000\n",
       "V11         -1.725e+01  2.542e+05   0.000    1.000\n",
       "V2          -3.420e+00  3.029e+04   0.000    1.000\n",
       "V3          -1.171e+01  4.785e+04   0.000    1.000\n",
       "V42          1.633e+02  3.037e+05   0.001    1.000\n",
       "V52          8.985e+00  1.546e+06   0.000    1.000\n",
       "V53         -6.101e+01  1.439e+06   0.000    1.000\n",
       "V54          8.858e+01  1.533e+06   0.000    1.000\n",
       "V56         -1.325e+01  1.491e+06   0.000    1.000\n",
       "V57          1.026e+02  1.092e+06   0.000    1.000\n",
       "V58         -3.669e+00  1.247e+06   0.000    1.000\n",
       "V59         -6.110e+01  1.515e+06   0.000    1.000\n",
       "V510         7.468e+01  9.382e+05   0.000    1.000\n",
       "V511         7.767e+00  1.060e+06   0.000    1.000\n",
       "V513         1.322e+02  1.326e+06   0.000    1.000\n",
       "V514         3.709e+02  1.165e+06   0.000    1.000\n",
       "V64         -1.228e+02  5.088e+05   0.000    1.000\n",
       "V65         -9.760e+01  5.663e+05   0.000    1.000\n",
       "V68                 NA         NA      NA       NA\n",
       "V7           4.631e+00  2.065e+05   0.000    1.000\n",
       "V81          1.207e+02  4.769e+05   0.000    1.000\n",
       "V91         -1.374e+02  7.023e+05   0.000    1.000\n",
       "V10          1.620e+01  6.012e+04   0.000    1.000\n",
       "V111        -1.224e+02  2.759e+05   0.000    1.000\n",
       "V122        -1.215e+02  6.459e+05   0.000    1.000\n",
       "V13         -2.698e-01  3.663e+02  -0.001    0.999\n",
       "V14          1.329e-01  3.012e+02   0.000    1.000\n",
       "\n",
       "(Dispersion parameter for binomial family taken to be 1)\n",
       "\n",
       "    Null deviance: 9.4477e+01  on 68  degrees of freedom\n",
       "Residual deviance: 1.8350e-08  on 43  degrees of freedom\n",
       "AIC: 52\n",
       "\n",
       "Number of Fisher Scoring iterations: 25\n"
      ]
     },
     "metadata": {},
     "output_type": "display_data"
    }
   ],
   "source": [
    "anova(model)\n",
    "summary(model)"
   ]
  },
  {
   "cell_type": "markdown",
   "metadata": {},
   "source": [
    "## Data adjustments for 5th column because it created some problems about splitting dataset to train and test"
   ]
  },
  {
   "cell_type": "code",
   "execution_count": 14,
   "metadata": {
    "scrolled": false
   },
   "outputs": [
    {
     "data": {
      "image/png": "[encoded data removed]",
      "text/plain": [
       "Plot with title “Cluster Dendrogram”"
      ]
     },
     "metadata": {},
     "output_type": "display_data"
    }
   ],
   "source": [
    "distance <- dist(myData$V5)\n",
    "cluster <- hclust(distance)\n",
    "plot(cluster, label= myData$v15)"
   ]
  },
  {
   "cell_type": "code",
   "execution_count": 40,
   "metadata": {},
   "outputs": [
    {
     "data": {
      "image/png": "[encoded data removed]",
      "text/plain": [
       "plot without title"
      ]
     },
     "metadata": {},
     "output_type": "display_data"
    }
   ],
   "source": [
    "library(rpart.plot)\n",
    "treeModel.model <- rpart(V15 ~ V5, data=myData, method='class')\n",
    "rpart.plot(treeModel.model)"
   ]
  },
  {
   "cell_type": "code",
   "execution_count": null,
   "metadata": {},
   "outputs": [],
   "source": []
  },
  {
   "cell_type": "code",
   "execution_count": null,
   "metadata": {},
   "outputs": [],
   "source": []
  }
 ],
 "metadata": {
  "kernelspec": {
   "display_name": "R",
   "language": "R",
   "name": "ir"
  },
  "language_info": {
   "codemirror_mode": "r",
   "file_extension": ".r",
   "mimetype": "text/x-r-source",
   "name": "R",
   "pygments_lexer": "r",
   "version": "3.5.2"
  }
 },
 "nbformat": 4,
 "nbformat_minor": 2
}

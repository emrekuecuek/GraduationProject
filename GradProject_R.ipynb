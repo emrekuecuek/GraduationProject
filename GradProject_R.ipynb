{
 "cells": [
  {
   "cell_type": "markdown",
   "metadata": {},
   "source": [
    "# Australian Credit Approval in R\n",
    "\n",
    "Applying algorithms in R for given dataset."
   ]
  },
  {
   "cell_type": "markdown",
   "metadata": {},
   "source": [
    "Importing data and assigning it to myData variable."
   ]
  },
  {
   "cell_type": "code",
   "execution_count": 1,
   "metadata": {},
   "outputs": [],
   "source": [
    "library(rpart)\n",
    "\n",
    "myData <- read.csv(\"http://archive.ics.uci.edu/ml/machine-learning-databases/statlog/australian/australian.dat\", header=FALSE, sep=\" \")"
   ]
  },
  {
   "cell_type": "code",
   "execution_count": 2,
   "metadata": {},
   "outputs": [
    {
     "data": {
      "text/html": [
       "<table>\n",
       "<thead><tr><th scope=col>V1</th><th scope=col>V2</th><th scope=col>V3</th><th scope=col>V4</th><th scope=col>V5</th><th scope=col>V6</th><th scope=col>V7</th><th scope=col>V8</th><th scope=col>V9</th><th scope=col>V10</th><th scope=col>V11</th><th scope=col>V12</th><th scope=col>V13</th><th scope=col>V14</th><th scope=col>V15</th></tr></thead>\n",
       "<tbody>\n",
       "\t<tr><td>1     </td><td>22.08 </td><td>11.460</td><td>2     </td><td>4     </td><td>4     </td><td>1.585 </td><td>0     </td><td>0     </td><td> 0    </td><td>1     </td><td>2     </td><td>100   </td><td>1213  </td><td>0     </td></tr>\n",
       "\t<tr><td>0     </td><td>22.67 </td><td> 7.000</td><td>2     </td><td>8     </td><td>4     </td><td>0.165 </td><td>0     </td><td>0     </td><td> 0    </td><td>0     </td><td>2     </td><td>160   </td><td>   1  </td><td>0     </td></tr>\n",
       "\t<tr><td>0     </td><td>29.58 </td><td> 1.750</td><td>1     </td><td>4     </td><td>4     </td><td>1.250 </td><td>0     </td><td>0     </td><td> 0    </td><td>1     </td><td>2     </td><td>280   </td><td>   1  </td><td>0     </td></tr>\n",
       "\t<tr><td>0     </td><td>21.67 </td><td>11.500</td><td>1     </td><td>5     </td><td>3     </td><td>0.000 </td><td>1     </td><td>1     </td><td>11    </td><td>1     </td><td>2     </td><td>  0   </td><td>   1  </td><td>1     </td></tr>\n",
       "\t<tr><td>1     </td><td>20.17 </td><td> 8.170</td><td>2     </td><td>6     </td><td>4     </td><td>1.960 </td><td>1     </td><td>1     </td><td>14    </td><td>0     </td><td>2     </td><td> 60   </td><td> 159  </td><td>1     </td></tr>\n",
       "\t<tr><td>0     </td><td>15.83 </td><td> 0.585</td><td>2     </td><td>8     </td><td>8     </td><td>1.500 </td><td>1     </td><td>1     </td><td> 2    </td><td>0     </td><td>2     </td><td>100   </td><td>   1  </td><td>1     </td></tr>\n",
       "</tbody>\n",
       "</table>\n"
      ],
      "text/latex": [
       "\\begin{tabular}{r|lllllllllllllll}\n",
       " V1 & V2 & V3 & V4 & V5 & V6 & V7 & V8 & V9 & V10 & V11 & V12 & V13 & V14 & V15\\\\\n",
       "\\hline\n",
       "\t 1      & 22.08  & 11.460 & 2      & 4      & 4      & 1.585  & 0      & 0      &  0     & 1      & 2      & 100    & 1213   & 0     \\\\\n",
       "\t 0      & 22.67  &  7.000 & 2      & 8      & 4      & 0.165  & 0      & 0      &  0     & 0      & 2      & 160    &    1   & 0     \\\\\n",
       "\t 0      & 29.58  &  1.750 & 1      & 4      & 4      & 1.250  & 0      & 0      &  0     & 1      & 2      & 280    &    1   & 0     \\\\\n",
       "\t 0      & 21.67  & 11.500 & 1      & 5      & 3      & 0.000  & 1      & 1      & 11     & 1      & 2      &   0    &    1   & 1     \\\\\n",
       "\t 1      & 20.17  &  8.170 & 2      & 6      & 4      & 1.960  & 1      & 1      & 14     & 0      & 2      &  60    &  159   & 1     \\\\\n",
       "\t 0      & 15.83  &  0.585 & 2      & 8      & 8      & 1.500  & 1      & 1      &  2     & 0      & 2      & 100    &    1   & 1     \\\\\n",
       "\\end{tabular}\n"
      ],
      "text/markdown": [
       "\n",
       "| V1 | V2 | V3 | V4 | V5 | V6 | V7 | V8 | V9 | V10 | V11 | V12 | V13 | V14 | V15 |\n",
       "|---|---|---|---|---|---|---|---|---|---|---|---|---|---|---|\n",
       "| 1      | 22.08  | 11.460 | 2      | 4      | 4      | 1.585  | 0      | 0      |  0     | 1      | 2      | 100    | 1213   | 0      |\n",
       "| 0      | 22.67  |  7.000 | 2      | 8      | 4      | 0.165  | 0      | 0      |  0     | 0      | 2      | 160    |    1   | 0      |\n",
       "| 0      | 29.58  |  1.750 | 1      | 4      | 4      | 1.250  | 0      | 0      |  0     | 1      | 2      | 280    |    1   | 0      |\n",
       "| 0      | 21.67  | 11.500 | 1      | 5      | 3      | 0.000  | 1      | 1      | 11     | 1      | 2      |   0    |    1   | 1      |\n",
       "| 1      | 20.17  |  8.170 | 2      | 6      | 4      | 1.960  | 1      | 1      | 14     | 0      | 2      |  60    |  159   | 1      |\n",
       "| 0      | 15.83  |  0.585 | 2      | 8      | 8      | 1.500  | 1      | 1      |  2     | 0      | 2      | 100    |    1   | 1      |\n",
       "\n"
      ],
      "text/plain": [
       "  V1 V2    V3     V4 V5 V6 V7    V8 V9 V10 V11 V12 V13 V14  V15\n",
       "1 1  22.08 11.460 2  4  4  1.585 0  0   0  1   2   100 1213 0  \n",
       "2 0  22.67  7.000 2  8  4  0.165 0  0   0  0   2   160    1 0  \n",
       "3 0  29.58  1.750 1  4  4  1.250 0  0   0  1   2   280    1 0  \n",
       "4 0  21.67 11.500 1  5  3  0.000 1  1  11  1   2     0    1 1  \n",
       "5 1  20.17  8.170 2  6  4  1.960 1  1  14  0   2    60  159 1  \n",
       "6 0  15.83  0.585 2  8  8  1.500 1  1   2  0   2   100    1 1  "
      ]
     },
     "metadata": {},
     "output_type": "display_data"
    }
   ],
   "source": [
    "head(myData)"
   ]
  },
  {
   "cell_type": "markdown",
   "metadata": {},
   "source": [
    "## Data Adjusments\n",
    "\n",
    "Adjusting dataframe for categorical variables."
   ]
  },
  {
   "cell_type": "code",
   "execution_count": 26,
   "metadata": {
    "scrolled": false
   },
   "outputs": [],
   "source": [
    "myData$V1 <- factor(myData$V1)\n",
    "myData$V4 <- factor(myData$V4)#, levels = c(1,2), labels = c(1,2))\n",
    "myData$V5 <- factor(myData$V5)#, levels = c(1,2,3,4,5,6,7,8,9,10,11,12,13,14), labels = c(1,2,3,4,5,6,7,8,9,10,11,12,13,14))\n",
    "myData$V6 <- factor(myData$V6)#, levels = c(1,2,3,4,5,6,7,8,9), labels = c(1,2,3,4,5,6,7,8,9))\n",
    "myData$V8 <- factor(myData$V8)#, levels = c(0,1), labels = c(0,1))\n",
    "myData$V9 <- factor(myData$V9)#, levels = c(0,1), labels = c(0,1))\n",
    "myData$V11 <- factor(myData$V11)#, levels = c(0,1), labels = c(0,1))\n",
    "myData$V12 <- factor(myData$V12)#, levels =  c(1,2,3), labels =  c(1,2,3))\n",
    "myData$V15 <- factor(myData$V15)#, levels = c(0,1), labels = c(0,1))"
   ]
  },
  {
   "cell_type": "code",
   "execution_count": 27,
   "metadata": {
    "scrolled": true
   },
   "outputs": [
    {
     "data": {
      "text/html": [
       "<table>\n",
       "<thead><tr><th scope=col>V1</th><th scope=col>V2</th><th scope=col>V3</th><th scope=col>V4</th><th scope=col>V5</th><th scope=col>V6</th><th scope=col>V7</th><th scope=col>V8</th><th scope=col>V9</th><th scope=col>V10</th><th scope=col>V11</th><th scope=col>V12</th><th scope=col>V13</th><th scope=col>V14</th><th scope=col>V15</th></tr></thead>\n",
       "<tbody>\n",
       "\t<tr><td>1     </td><td>22.08 </td><td>11.460</td><td>2     </td><td>4     </td><td>4     </td><td>1.585 </td><td>0     </td><td>0     </td><td> 0    </td><td>1     </td><td>2     </td><td>100   </td><td>1213  </td><td>0     </td></tr>\n",
       "\t<tr><td>0     </td><td>22.67 </td><td> 7.000</td><td>2     </td><td>8     </td><td>4     </td><td>0.165 </td><td>0     </td><td>0     </td><td> 0    </td><td>0     </td><td>2     </td><td>160   </td><td>   1  </td><td>0     </td></tr>\n",
       "\t<tr><td>0     </td><td>29.58 </td><td> 1.750</td><td>1     </td><td>4     </td><td>4     </td><td>1.250 </td><td>0     </td><td>0     </td><td> 0    </td><td>1     </td><td>2     </td><td>280   </td><td>   1  </td><td>0     </td></tr>\n",
       "\t<tr><td>0     </td><td>21.67 </td><td>11.500</td><td>1     </td><td>5     </td><td>3     </td><td>0.000 </td><td>1     </td><td>1     </td><td>11    </td><td>1     </td><td>2     </td><td>  0   </td><td>   1  </td><td>1     </td></tr>\n",
       "\t<tr><td>1     </td><td>20.17 </td><td> 8.170</td><td>2     </td><td>6     </td><td>4     </td><td>1.960 </td><td>1     </td><td>1     </td><td>14    </td><td>0     </td><td>2     </td><td> 60   </td><td> 159  </td><td>1     </td></tr>\n",
       "\t<tr><td>0     </td><td>15.83 </td><td> 0.585</td><td>2     </td><td>8     </td><td>8     </td><td>1.500 </td><td>1     </td><td>1     </td><td> 2    </td><td>0     </td><td>2     </td><td>100   </td><td>   1  </td><td>1     </td></tr>\n",
       "</tbody>\n",
       "</table>\n"
      ],
      "text/latex": [
       "\\begin{tabular}{r|lllllllllllllll}\n",
       " V1 & V2 & V3 & V4 & V5 & V6 & V7 & V8 & V9 & V10 & V11 & V12 & V13 & V14 & V15\\\\\n",
       "\\hline\n",
       "\t 1      & 22.08  & 11.460 & 2      & 4      & 4      & 1.585  & 0      & 0      &  0     & 1      & 2      & 100    & 1213   & 0     \\\\\n",
       "\t 0      & 22.67  &  7.000 & 2      & 8      & 4      & 0.165  & 0      & 0      &  0     & 0      & 2      & 160    &    1   & 0     \\\\\n",
       "\t 0      & 29.58  &  1.750 & 1      & 4      & 4      & 1.250  & 0      & 0      &  0     & 1      & 2      & 280    &    1   & 0     \\\\\n",
       "\t 0      & 21.67  & 11.500 & 1      & 5      & 3      & 0.000  & 1      & 1      & 11     & 1      & 2      &   0    &    1   & 1     \\\\\n",
       "\t 1      & 20.17  &  8.170 & 2      & 6      & 4      & 1.960  & 1      & 1      & 14     & 0      & 2      &  60    &  159   & 1     \\\\\n",
       "\t 0      & 15.83  &  0.585 & 2      & 8      & 8      & 1.500  & 1      & 1      &  2     & 0      & 2      & 100    &    1   & 1     \\\\\n",
       "\\end{tabular}\n"
      ],
      "text/markdown": [
       "\n",
       "| V1 | V2 | V3 | V4 | V5 | V6 | V7 | V8 | V9 | V10 | V11 | V12 | V13 | V14 | V15 |\n",
       "|---|---|---|---|---|---|---|---|---|---|---|---|---|---|---|\n",
       "| 1      | 22.08  | 11.460 | 2      | 4      | 4      | 1.585  | 0      | 0      |  0     | 1      | 2      | 100    | 1213   | 0      |\n",
       "| 0      | 22.67  |  7.000 | 2      | 8      | 4      | 0.165  | 0      | 0      |  0     | 0      | 2      | 160    |    1   | 0      |\n",
       "| 0      | 29.58  |  1.750 | 1      | 4      | 4      | 1.250  | 0      | 0      |  0     | 1      | 2      | 280    |    1   | 0      |\n",
       "| 0      | 21.67  | 11.500 | 1      | 5      | 3      | 0.000  | 1      | 1      | 11     | 1      | 2      |   0    |    1   | 1      |\n",
       "| 1      | 20.17  |  8.170 | 2      | 6      | 4      | 1.960  | 1      | 1      | 14     | 0      | 2      |  60    |  159   | 1      |\n",
       "| 0      | 15.83  |  0.585 | 2      | 8      | 8      | 1.500  | 1      | 1      |  2     | 0      | 2      | 100    |    1   | 1      |\n",
       "\n"
      ],
      "text/plain": [
       "  V1 V2    V3     V4 V5 V6 V7    V8 V9 V10 V11 V12 V13 V14  V15\n",
       "1 1  22.08 11.460 2  4  4  1.585 0  0   0  1   2   100 1213 0  \n",
       "2 0  22.67  7.000 2  8  4  0.165 0  0   0  0   2   160    1 0  \n",
       "3 0  29.58  1.750 1  4  4  1.250 0  0   0  1   2   280    1 0  \n",
       "4 0  21.67 11.500 1  5  3  0.000 1  1  11  1   2     0    1 1  \n",
       "5 1  20.17  8.170 2  6  4  1.960 1  1  14  0   2    60  159 1  \n",
       "6 0  15.83  0.585 2  8  8  1.500 1  1   2  0   2   100    1 1  "
      ]
     },
     "metadata": {},
     "output_type": "display_data"
    }
   ],
   "source": [
    "head(myData)"
   ]
  },
  {
   "cell_type": "markdown",
   "metadata": {},
   "source": [
    "## Logistic Regression "
   ]
  },
  {
   "cell_type": "markdown",
   "metadata": {},
   "source": [
    "Logistic Regression Applications for certain numerical columns. Lets begin with adjusting numerical data in order to check for logistic regression implementation"
   ]
  },
  {
   "cell_type": "markdown",
   "metadata": {},
   "source": [
    "#### Constructing a numerical part  from whole dataset, and creating their train and test parts.  "
   ]
  },
  {
   "cell_type": "code",
   "execution_count": 43,
   "metadata": {},
   "outputs": [],
   "source": [
    "numericalMyData <- cbind(myData$V2, myData$V3, myData$V7, myData$V13, myData$V14)\n",
    "\n",
    "approved <- ifelse(myData$V15 == 1,1,0)\n",
    "rejected <- ifelse(myData$V15 == 0,1,0)\n",
    "\n",
    "logRegData <- cbind(numericalMyData, approved, rejected)\n",
    "\n",
    "n <- nrow(myData)\n",
    "train <- sample(1:n, n*0.10)\n",
    "test <- -train"
   ]
  },
  {
   "cell_type": "markdown",
   "metadata": {},
   "source": [
    "#### Same construction operation but containing all dataset."
   ]
  },
  {
   "cell_type": "code",
   "execution_count": 29,
   "metadata": {},
   "outputs": [],
   "source": [
    "logRegAllData <- cbind(myData[0:14],approved,rejected)\n",
    "\n",
    "trainAll <- sample(1:150,100)\n",
    "testAll <- -train"
   ]
  },
  {
   "cell_type": "code",
   "execution_count": 30,
   "metadata": {
    "scrolled": false
   },
   "outputs": [
    {
     "data": {
      "text/html": [
       "<table>\n",
       "<thead><tr><th scope=col></th><th scope=col></th><th scope=col></th><th scope=col></th><th scope=col></th><th scope=col>approved</th><th scope=col>rejected</th></tr></thead>\n",
       "<tbody>\n",
       "\t<tr><td>22.08 </td><td>11.460</td><td>1.585 </td><td>100   </td><td>1213  </td><td>0     </td><td>1     </td></tr>\n",
       "\t<tr><td>22.67 </td><td> 7.000</td><td>0.165 </td><td>160   </td><td>   1  </td><td>0     </td><td>1     </td></tr>\n",
       "\t<tr><td>29.58 </td><td> 1.750</td><td>1.250 </td><td>280   </td><td>   1  </td><td>0     </td><td>1     </td></tr>\n",
       "\t<tr><td>21.67 </td><td>11.500</td><td>0.000 </td><td>  0   </td><td>   1  </td><td>1     </td><td>0     </td></tr>\n",
       "\t<tr><td>20.17 </td><td> 8.170</td><td>1.960 </td><td> 60   </td><td> 159  </td><td>1     </td><td>0     </td></tr>\n",
       "\t<tr><td>15.83 </td><td> 0.585</td><td>1.500 </td><td>100   </td><td>   1  </td><td>1     </td><td>0     </td></tr>\n",
       "</tbody>\n",
       "</table>\n"
      ],
      "text/latex": [
       "\\begin{tabular}{lllllll}\n",
       "  &  &  &  &  & approved & rejected\\\\\n",
       "\\hline\n",
       "\t 22.08  & 11.460 & 1.585  & 100    & 1213   & 0      & 1     \\\\\n",
       "\t 22.67  &  7.000 & 0.165  & 160    &    1   & 0      & 1     \\\\\n",
       "\t 29.58  &  1.750 & 1.250  & 280    &    1   & 0      & 1     \\\\\n",
       "\t 21.67  & 11.500 & 0.000  &   0    &    1   & 1      & 0     \\\\\n",
       "\t 20.17  &  8.170 & 1.960  &  60    &  159   & 1      & 0     \\\\\n",
       "\t 15.83  &  0.585 & 1.500  & 100    &    1   & 1      & 0     \\\\\n",
       "\\end{tabular}\n"
      ],
      "text/markdown": [
       "\n",
       "|  |  |  |  |  | approved | rejected |\n",
       "|---|---|---|---|---|---|---|\n",
       "| 22.08  | 11.460 | 1.585  | 100    | 1213   | 0      | 1      |\n",
       "| 22.67  |  7.000 | 0.165  | 160    |    1   | 0      | 1      |\n",
       "| 29.58  |  1.750 | 1.250  | 280    |    1   | 0      | 1      |\n",
       "| 21.67  | 11.500 | 0.000  |   0    |    1   | 1      | 0      |\n",
       "| 20.17  |  8.170 | 1.960  |  60    |  159   | 1      | 0      |\n",
       "| 15.83  |  0.585 | 1.500  | 100    |    1   | 1      | 0      |\n",
       "\n"
      ],
      "text/plain": [
       "                                 approved rejected\n",
       "[1,] 22.08 11.460 1.585 100 1213 0        1       \n",
       "[2,] 22.67  7.000 0.165 160    1 0        1       \n",
       "[3,] 29.58  1.750 1.250 280    1 0        1       \n",
       "[4,] 21.67 11.500 0.000   0    1 1        0       \n",
       "[5,] 20.17  8.170 1.960  60  159 1        0       \n",
       "[6,] 15.83  0.585 1.500 100    1 1        0       "
      ]
     },
     "metadata": {},
     "output_type": "display_data"
    },
    {
     "data": {
      "text/html": [
       "<table>\n",
       "<thead><tr><th scope=col>V1</th><th scope=col>V2</th><th scope=col>V3</th><th scope=col>V4</th><th scope=col>V5</th><th scope=col>V6</th><th scope=col>V7</th><th scope=col>V8</th><th scope=col>V9</th><th scope=col>V10</th><th scope=col>V11</th><th scope=col>V12</th><th scope=col>V13</th><th scope=col>V14</th><th scope=col>approved</th><th scope=col>rejected</th></tr></thead>\n",
       "<tbody>\n",
       "\t<tr><td>1     </td><td>22.08 </td><td>11.460</td><td>2     </td><td>4     </td><td>4     </td><td>1.585 </td><td>0     </td><td>0     </td><td> 0    </td><td>1     </td><td>2     </td><td>100   </td><td>1213  </td><td>0     </td><td>1     </td></tr>\n",
       "\t<tr><td>0     </td><td>22.67 </td><td> 7.000</td><td>2     </td><td>8     </td><td>4     </td><td>0.165 </td><td>0     </td><td>0     </td><td> 0    </td><td>0     </td><td>2     </td><td>160   </td><td>   1  </td><td>0     </td><td>1     </td></tr>\n",
       "\t<tr><td>0     </td><td>29.58 </td><td> 1.750</td><td>1     </td><td>4     </td><td>4     </td><td>1.250 </td><td>0     </td><td>0     </td><td> 0    </td><td>1     </td><td>2     </td><td>280   </td><td>   1  </td><td>0     </td><td>1     </td></tr>\n",
       "\t<tr><td>0     </td><td>21.67 </td><td>11.500</td><td>1     </td><td>5     </td><td>3     </td><td>0.000 </td><td>1     </td><td>1     </td><td>11    </td><td>1     </td><td>2     </td><td>  0   </td><td>   1  </td><td>1     </td><td>0     </td></tr>\n",
       "\t<tr><td>1     </td><td>20.17 </td><td> 8.170</td><td>2     </td><td>6     </td><td>4     </td><td>1.960 </td><td>1     </td><td>1     </td><td>14    </td><td>0     </td><td>2     </td><td> 60   </td><td> 159  </td><td>1     </td><td>0     </td></tr>\n",
       "\t<tr><td>0     </td><td>15.83 </td><td> 0.585</td><td>2     </td><td>8     </td><td>8     </td><td>1.500 </td><td>1     </td><td>1     </td><td> 2    </td><td>0     </td><td>2     </td><td>100   </td><td>   1  </td><td>1     </td><td>0     </td></tr>\n",
       "</tbody>\n",
       "</table>\n"
      ],
      "text/latex": [
       "\\begin{tabular}{r|llllllllllllllll}\n",
       " V1 & V2 & V3 & V4 & V5 & V6 & V7 & V8 & V9 & V10 & V11 & V12 & V13 & V14 & approved & rejected\\\\\n",
       "\\hline\n",
       "\t 1      & 22.08  & 11.460 & 2      & 4      & 4      & 1.585  & 0      & 0      &  0     & 1      & 2      & 100    & 1213   & 0      & 1     \\\\\n",
       "\t 0      & 22.67  &  7.000 & 2      & 8      & 4      & 0.165  & 0      & 0      &  0     & 0      & 2      & 160    &    1   & 0      & 1     \\\\\n",
       "\t 0      & 29.58  &  1.750 & 1      & 4      & 4      & 1.250  & 0      & 0      &  0     & 1      & 2      & 280    &    1   & 0      & 1     \\\\\n",
       "\t 0      & 21.67  & 11.500 & 1      & 5      & 3      & 0.000  & 1      & 1      & 11     & 1      & 2      &   0    &    1   & 1      & 0     \\\\\n",
       "\t 1      & 20.17  &  8.170 & 2      & 6      & 4      & 1.960  & 1      & 1      & 14     & 0      & 2      &  60    &  159   & 1      & 0     \\\\\n",
       "\t 0      & 15.83  &  0.585 & 2      & 8      & 8      & 1.500  & 1      & 1      &  2     & 0      & 2      & 100    &    1   & 1      & 0     \\\\\n",
       "\\end{tabular}\n"
      ],
      "text/markdown": [
       "\n",
       "| V1 | V2 | V3 | V4 | V5 | V6 | V7 | V8 | V9 | V10 | V11 | V12 | V13 | V14 | approved | rejected |\n",
       "|---|---|---|---|---|---|---|---|---|---|---|---|---|---|---|---|\n",
       "| 1      | 22.08  | 11.460 | 2      | 4      | 4      | 1.585  | 0      | 0      |  0     | 1      | 2      | 100    | 1213   | 0      | 1      |\n",
       "| 0      | 22.67  |  7.000 | 2      | 8      | 4      | 0.165  | 0      | 0      |  0     | 0      | 2      | 160    |    1   | 0      | 1      |\n",
       "| 0      | 29.58  |  1.750 | 1      | 4      | 4      | 1.250  | 0      | 0      |  0     | 1      | 2      | 280    |    1   | 0      | 1      |\n",
       "| 0      | 21.67  | 11.500 | 1      | 5      | 3      | 0.000  | 1      | 1      | 11     | 1      | 2      |   0    |    1   | 1      | 0      |\n",
       "| 1      | 20.17  |  8.170 | 2      | 6      | 4      | 1.960  | 1      | 1      | 14     | 0      | 2      |  60    |  159   | 1      | 0      |\n",
       "| 0      | 15.83  |  0.585 | 2      | 8      | 8      | 1.500  | 1      | 1      |  2     | 0      | 2      | 100    |    1   | 1      | 0      |\n",
       "\n"
      ],
      "text/plain": [
       "  V1 V2    V3     V4 V5 V6 V7    V8 V9 V10 V11 V12 V13 V14  approved rejected\n",
       "1 1  22.08 11.460 2  4  4  1.585 0  0   0  1   2   100 1213 0        1       \n",
       "2 0  22.67  7.000 2  8  4  0.165 0  0   0  0   2   160    1 0        1       \n",
       "3 0  29.58  1.750 1  4  4  1.250 0  0   0  1   2   280    1 0        1       \n",
       "4 0  21.67 11.500 1  5  3  0.000 1  1  11  1   2     0    1 1        0       \n",
       "5 1  20.17  8.170 2  6  4  1.960 1  1  14  0   2    60  159 1        0       \n",
       "6 0  15.83  0.585 2  8  8  1.500 1  1   2  0   2   100    1 1        0       "
      ]
     },
     "metadata": {},
     "output_type": "display_data"
    }
   ],
   "source": [
    "head(logRegData)\n",
    "head(logRegAllData)"
   ]
  },
  {
   "cell_type": "markdown",
   "metadata": {},
   "source": [
    "Importing libraries."
   ]
  },
  {
   "cell_type": "code",
   "execution_count": 31,
   "metadata": {
    "scrolled": false
   },
   "outputs": [],
   "source": [
    "library(e1071)\n",
    "library(caret)"
   ]
  },
  {
   "cell_type": "markdown",
   "metadata": {},
   "source": [
    "In this section, adjusting our data as \"data frame\" format since for creating a generalized linear model. After that, we are classifying our predictions for a certain probability value (setted as 0.7 in this example), then creating a confusion matrix in order to test model's accuracy."
   ]
  },
  {
   "cell_type": "markdown",
   "metadata": {},
   "source": [
    "#### Testing for approved credit applications."
   ]
  },
  {
   "cell_type": "code",
   "execution_count": 32,
   "metadata": {
    "scrolled": false
   },
   "outputs": [
    {
     "data": {
      "text/plain": [
       "Confusion Matrix and Statistics\n",
       "\n",
       "         real\n",
       "predicted   0   1\n",
       "        0 242  68\n",
       "        1  94 186\n",
       "                                          \n",
       "               Accuracy : 0.7254          \n",
       "                 95% CI : (0.6875, 0.7611)\n",
       "    No Information Rate : 0.5695          \n",
       "    P-Value [Acc > NIR] : 3.308e-15       \n",
       "                                          \n",
       "                  Kappa : 0.4469          \n",
       " Mcnemar's Test P-Value : 0.04951         \n",
       "                                          \n",
       "            Sensitivity : 0.7202          \n",
       "            Specificity : 0.7323          \n",
       "         Pos Pred Value : 0.7806          \n",
       "         Neg Pred Value : 0.6643          \n",
       "             Prevalence : 0.5695          \n",
       "         Detection Rate : 0.4102          \n",
       "   Detection Prevalence : 0.5254          \n",
       "      Balanced Accuracy : 0.7263          \n",
       "                                          \n",
       "       'Positive' Class : 0               \n",
       "                                          "
      ]
     },
     "metadata": {},
     "output_type": "display_data"
    }
   ],
   "source": [
    "logRegData <- as.data.frame(logRegData)\n",
    "model <- glm(approved ~ V1 + V2 + V3 + V4 + V5, data=logRegData[train,], binomial)\n",
    "oddsratio <- exp(predict(model,logRegData[test,]))\n",
    "predicted <- ifelse(oddsratio > 0.7,1,0)\n",
    "confusionMatrix(table(predicted,real=logRegData[test,\"approved\"]))"
   ]
  },
  {
   "cell_type": "markdown",
   "metadata": {},
   "source": [
    "#### Now let's apply logistic regression on all data."
   ]
  },
  {
   "cell_type": "code",
   "execution_count": 33,
   "metadata": {
    "scrolled": false
   },
   "outputs": [
    {
     "data": {
      "text/html": [
       "<table>\n",
       "<thead><tr><th scope=col>V1</th><th scope=col>V2</th><th scope=col>V3</th><th scope=col>V4</th><th scope=col>V5</th><th scope=col>V6</th><th scope=col>V7</th><th scope=col>V8</th><th scope=col>V9</th><th scope=col>V10</th><th scope=col>V11</th><th scope=col>V12</th><th scope=col>V13</th><th scope=col>V14</th><th scope=col>V15</th></tr></thead>\n",
       "<tbody>\n",
       "\t<tr><td>1     </td><td>22.08 </td><td>11.460</td><td>2     </td><td>4     </td><td>4     </td><td>1.585 </td><td>0     </td><td>0     </td><td> 0    </td><td>1     </td><td>2     </td><td>100   </td><td>1213  </td><td>0     </td></tr>\n",
       "\t<tr><td>0     </td><td>22.67 </td><td> 7.000</td><td>2     </td><td>8     </td><td>4     </td><td>0.165 </td><td>0     </td><td>0     </td><td> 0    </td><td>0     </td><td>2     </td><td>160   </td><td>   1  </td><td>0     </td></tr>\n",
       "\t<tr><td>0     </td><td>29.58 </td><td> 1.750</td><td>1     </td><td>4     </td><td>4     </td><td>1.250 </td><td>0     </td><td>0     </td><td> 0    </td><td>1     </td><td>2     </td><td>280   </td><td>   1  </td><td>0     </td></tr>\n",
       "\t<tr><td>0     </td><td>21.67 </td><td>11.500</td><td>1     </td><td>5     </td><td>3     </td><td>0.000 </td><td>1     </td><td>1     </td><td>11    </td><td>1     </td><td>2     </td><td>  0   </td><td>   1  </td><td>1     </td></tr>\n",
       "\t<tr><td>1     </td><td>20.17 </td><td> 8.170</td><td>2     </td><td>6     </td><td>4     </td><td>1.960 </td><td>1     </td><td>1     </td><td>14    </td><td>0     </td><td>2     </td><td> 60   </td><td> 159  </td><td>1     </td></tr>\n",
       "\t<tr><td>0     </td><td>15.83 </td><td> 0.585</td><td>2     </td><td>8     </td><td>8     </td><td>1.500 </td><td>1     </td><td>1     </td><td> 2    </td><td>0     </td><td>2     </td><td>100   </td><td>   1  </td><td>1     </td></tr>\n",
       "</tbody>\n",
       "</table>\n"
      ],
      "text/latex": [
       "\\begin{tabular}{r|lllllllllllllll}\n",
       " V1 & V2 & V3 & V4 & V5 & V6 & V7 & V8 & V9 & V10 & V11 & V12 & V13 & V14 & V15\\\\\n",
       "\\hline\n",
       "\t 1      & 22.08  & 11.460 & 2      & 4      & 4      & 1.585  & 0      & 0      &  0     & 1      & 2      & 100    & 1213   & 0     \\\\\n",
       "\t 0      & 22.67  &  7.000 & 2      & 8      & 4      & 0.165  & 0      & 0      &  0     & 0      & 2      & 160    &    1   & 0     \\\\\n",
       "\t 0      & 29.58  &  1.750 & 1      & 4      & 4      & 1.250  & 0      & 0      &  0     & 1      & 2      & 280    &    1   & 0     \\\\\n",
       "\t 0      & 21.67  & 11.500 & 1      & 5      & 3      & 0.000  & 1      & 1      & 11     & 1      & 2      &   0    &    1   & 1     \\\\\n",
       "\t 1      & 20.17  &  8.170 & 2      & 6      & 4      & 1.960  & 1      & 1      & 14     & 0      & 2      &  60    &  159   & 1     \\\\\n",
       "\t 0      & 15.83  &  0.585 & 2      & 8      & 8      & 1.500  & 1      & 1      &  2     & 0      & 2      & 100    &    1   & 1     \\\\\n",
       "\\end{tabular}\n"
      ],
      "text/markdown": [
       "\n",
       "| V1 | V2 | V3 | V4 | V5 | V6 | V7 | V8 | V9 | V10 | V11 | V12 | V13 | V14 | V15 |\n",
       "|---|---|---|---|---|---|---|---|---|---|---|---|---|---|---|\n",
       "| 1      | 22.08  | 11.460 | 2      | 4      | 4      | 1.585  | 0      | 0      |  0     | 1      | 2      | 100    | 1213   | 0      |\n",
       "| 0      | 22.67  |  7.000 | 2      | 8      | 4      | 0.165  | 0      | 0      |  0     | 0      | 2      | 160    |    1   | 0      |\n",
       "| 0      | 29.58  |  1.750 | 1      | 4      | 4      | 1.250  | 0      | 0      |  0     | 1      | 2      | 280    |    1   | 0      |\n",
       "| 0      | 21.67  | 11.500 | 1      | 5      | 3      | 0.000  | 1      | 1      | 11     | 1      | 2      |   0    |    1   | 1      |\n",
       "| 1      | 20.17  |  8.170 | 2      | 6      | 4      | 1.960  | 1      | 1      | 14     | 0      | 2      |  60    |  159   | 1      |\n",
       "| 0      | 15.83  |  0.585 | 2      | 8      | 8      | 1.500  | 1      | 1      |  2     | 0      | 2      | 100    |    1   | 1      |\n",
       "\n"
      ],
      "text/plain": [
       "  V1 V2    V3     V4 V5 V6 V7    V8 V9 V10 V11 V12 V13 V14  V15\n",
       "1 1  22.08 11.460 2  4  4  1.585 0  0   0  1   2   100 1213 0  \n",
       "2 0  22.67  7.000 2  8  4  0.165 0  0   0  0   2   160    1 0  \n",
       "3 0  29.58  1.750 1  4  4  1.250 0  0   0  1   2   280    1 0  \n",
       "4 0  21.67 11.500 1  5  3  0.000 1  1  11  1   2     0    1 1  \n",
       "5 1  20.17  8.170 2  6  4  1.960 1  1  14  0   2    60  159 1  \n",
       "6 0  15.83  0.585 2  8  8  1.500 1  1   2  0   2   100    1 1  "
      ]
     },
     "metadata": {},
     "output_type": "display_data"
    }
   ],
   "source": [
    "head(myData)"
   ]
  },
  {
   "cell_type": "code",
   "execution_count": 45,
   "metadata": {},
   "outputs": [
    {
     "data": {
      "text/html": [
       "<table>\n",
       "<thead><tr><th></th><th scope=col>V1</th><th scope=col>V2</th><th scope=col>V3</th><th scope=col>V4</th><th scope=col>V5</th><th scope=col>V6</th><th scope=col>V7</th><th scope=col>V8</th><th scope=col>V9</th><th scope=col>V10</th><th scope=col>V11</th><th scope=col>V12</th><th scope=col>V13</th><th scope=col>V14</th><th scope=col>V15</th></tr></thead>\n",
       "<tbody>\n",
       "\t<tr><th scope=row>340</th><td>1     </td><td>27.25 </td><td> 0.625</td><td>2     </td><td>6     </td><td>4     </td><td> 0.455</td><td>1     </td><td>0     </td><td> 0    </td><td>1     </td><td>2     </td><td>200   </td><td>   1  </td><td>0     </td></tr>\n",
       "\t<tr><th scope=row>575</th><td>1     </td><td>31.67 </td><td> 0.830</td><td>2     </td><td>14    </td><td>4     </td><td> 1.335</td><td>1     </td><td>1     </td><td> 8    </td><td>1     </td><td>2     </td><td>303   </td><td>3291  </td><td>1     </td></tr>\n",
       "\t<tr><th scope=row>300</th><td>1     </td><td>18.17 </td><td> 2.460</td><td>2     </td><td>8     </td><td>7     </td><td> 0.960</td><td>0     </td><td>1     </td><td> 2    </td><td>1     </td><td>2     </td><td>160   </td><td> 588  </td><td>0     </td></tr>\n",
       "\t<tr><th scope=row>466</th><td>1     </td><td>59.67 </td><td> 1.540</td><td>2     </td><td>11    </td><td>4     </td><td> 0.125</td><td>1     </td><td>0     </td><td> 0    </td><td>1     </td><td>2     </td><td>260   </td><td>   1  </td><td>1     </td></tr>\n",
       "\t<tr><th scope=row>494</th><td>0     </td><td>25.00 </td><td>11.000</td><td>1     </td><td>6     </td><td>4     </td><td> 4.500</td><td>1     </td><td>0     </td><td> 0    </td><td>0     </td><td>2     </td><td>120   </td><td>   1  </td><td>0     </td></tr>\n",
       "\t<tr><th scope=row>347</th><td>0     </td><td>30.00 </td><td> 5.290</td><td>2     </td><td>10    </td><td>2     </td><td> 2.250</td><td>1     </td><td>1     </td><td> 5    </td><td>1     </td><td>2     </td><td> 99   </td><td> 501  </td><td>1     </td></tr>\n",
       "\t<tr><th scope=row>537</th><td>1     </td><td>33.75 </td><td> 2.750</td><td>2     </td><td>3     </td><td>5     </td><td> 0.000</td><td>0     </td><td>0     </td><td> 0    </td><td>0     </td><td>2     </td><td>180   </td><td>   1  </td><td>0     </td></tr>\n",
       "\t<tr><th scope=row>416</th><td>0     </td><td>30.25 </td><td> 5.500</td><td>2     </td><td>4     </td><td>4     </td><td> 5.500</td><td>0     </td><td>0     </td><td> 0    </td><td>1     </td><td>1     </td><td>100   </td><td>   1  </td><td>0     </td></tr>\n",
       "\t<tr><th scope=row>12</th><td>1     </td><td>41.42 </td><td> 5.000</td><td>2     </td><td>11    </td><td>8     </td><td> 5.000</td><td>1     </td><td>1     </td><td> 6    </td><td>1     </td><td>2     </td><td>470   </td><td>   1  </td><td>1     </td></tr>\n",
       "\t<tr><th scope=row>425</th><td>1     </td><td>21.17 </td><td> 0.250</td><td>1     </td><td>8     </td><td>8     </td><td> 0.250</td><td>0     </td><td>0     </td><td> 0    </td><td>0     </td><td>2     </td><td>280   </td><td> 205  </td><td>0     </td></tr>\n",
       "\t<tr><th scope=row>386</th><td>1     </td><td>28.92 </td><td>15.000</td><td>2     </td><td>8     </td><td>8     </td><td> 5.335</td><td>1     </td><td>1     </td><td>11    </td><td>0     </td><td>2     </td><td>  0   </td><td>2284  </td><td>1     </td></tr>\n",
       "\t<tr><th scope=row>80</th><td>0     </td><td>32.17 </td><td> 1.460</td><td>2     </td><td>9     </td><td>4     </td><td> 1.085</td><td>1     </td><td>1     </td><td>16    </td><td>0     </td><td>2     </td><td>120   </td><td>2080  </td><td>1     </td></tr>\n",
       "\t<tr><th scope=row>136</th><td>0     </td><td>38.33 </td><td> 4.415</td><td>2     </td><td>8     </td><td>4     </td><td> 0.125</td><td>0     </td><td>0     </td><td> 0    </td><td>0     </td><td>2     </td><td>160   </td><td>   1  </td><td>0     </td></tr>\n",
       "\t<tr><th scope=row>606</th><td>0     </td><td>52.17 </td><td> 0.000</td><td>1     </td><td>1     </td><td>1     </td><td> 0.000</td><td>0     </td><td>0     </td><td> 0    </td><td>0     </td><td>2     </td><td>  0   </td><td>   1  </td><td>0     </td></tr>\n",
       "\t<tr><th scope=row>690</th><td>1     </td><td>41.00 </td><td> 0.040</td><td>2     </td><td>10    </td><td>4     </td><td> 0.040</td><td>0     </td><td>1     </td><td> 1    </td><td>0     </td><td>1     </td><td>560   </td><td>   1  </td><td>1     </td></tr>\n",
       "\t<tr><th scope=row>2</th><td>0     </td><td>22.67 </td><td> 7.000</td><td>2     </td><td>8     </td><td>4     </td><td> 0.165</td><td>0     </td><td>0     </td><td> 0    </td><td>0     </td><td>2     </td><td>160   </td><td>   1  </td><td>0     </td></tr>\n",
       "\t<tr><th scope=row>404</th><td>1     </td><td>35.75 </td><td> 2.415</td><td>2     </td><td>9     </td><td>4     </td><td> 0.125</td><td>0     </td><td>1     </td><td> 2    </td><td>0     </td><td>2     </td><td>220   </td><td>   2  </td><td>0     </td></tr>\n",
       "\t<tr><th scope=row>468</th><td>1     </td><td>30.08 </td><td> 1.040</td><td>1     </td><td>3     </td><td>5     </td><td> 0.500</td><td>1     </td><td>1     </td><td>10    </td><td>1     </td><td>2     </td><td>132   </td><td>  29  </td><td>0     </td></tr>\n",
       "\t<tr><th scope=row>235</th><td>0     </td><td>64.08 </td><td> 0.165</td><td>2     </td><td>1     </td><td>1     </td><td> 0.000</td><td>1     </td><td>1     </td><td> 1    </td><td>0     </td><td>2     </td><td>232   </td><td> 101  </td><td>1     </td></tr>\n",
       "\t<tr><th scope=row>536</th><td>0     </td><td>20.67 </td><td> 1.835</td><td>2     </td><td>11    </td><td>4     </td><td> 2.085</td><td>1     </td><td>1     </td><td> 5    </td><td>0     </td><td>2     </td><td>220   </td><td>2504  </td><td>1     </td></tr>\n",
       "\t<tr><th scope=row>213</th><td>1     </td><td>34.00 </td><td> 5.500</td><td>1     </td><td>8     </td><td>4     </td><td> 1.500</td><td>0     </td><td>0     </td><td> 0    </td><td>1     </td><td>2     </td><td> 60   </td><td>   1  </td><td>0     </td></tr>\n",
       "\t<tr><th scope=row>22</th><td>0     </td><td>19.17 </td><td> 0.585</td><td>1     </td><td>6     </td><td>4     </td><td> 0.585</td><td>1     </td><td>0     </td><td> 0    </td><td>1     </td><td>2     </td><td>160   </td><td>   1  </td><td>0     </td></tr>\n",
       "\t<tr><th scope=row>539</th><td>0     </td><td>35.42 </td><td>12.000</td><td>2     </td><td>11    </td><td>8     </td><td>14.000</td><td>1     </td><td>1     </td><td> 8    </td><td>0     </td><td>2     </td><td>  0   </td><td>6591  </td><td>1     </td></tr>\n",
       "\t<tr><th scope=row>630</th><td>1     </td><td>24.75 </td><td> 0.540</td><td>2     </td><td>7     </td><td>4     </td><td> 1.000</td><td>0     </td><td>0     </td><td> 0    </td><td>1     </td><td>2     </td><td>120   </td><td>   2  </td><td>0     </td></tr>\n",
       "\t<tr><th scope=row>613</th><td>1     </td><td>26.17 </td><td> 0.250</td><td>2     </td><td>3     </td><td>5     </td><td> 0.000</td><td>1     </td><td>0     </td><td> 0    </td><td>1     </td><td>2     </td><td>  0   </td><td>   1  </td><td>1     </td></tr>\n",
       "\t<tr><th scope=row>289</th><td>1     </td><td>31.25 </td><td> 1.125</td><td>2     </td><td>1     </td><td>1     </td><td> 0.000</td><td>0     </td><td>1     </td><td> 1    </td><td>0     </td><td>2     </td><td> 96   </td><td>  20  </td><td>0     </td></tr>\n",
       "\t<tr><th scope=row>671</th><td>0     </td><td>37.75 </td><td> 5.500</td><td>2     </td><td>11    </td><td>4     </td><td> 0.125</td><td>1     </td><td>0     </td><td> 0    </td><td>1     </td><td>2     </td><td>228   </td><td>   1  </td><td>1     </td></tr>\n",
       "\t<tr><th scope=row>584</th><td>1     </td><td>32.08 </td><td> 4.000</td><td>2     </td><td>7     </td><td>4     </td><td> 2.500</td><td>1     </td><td>0     </td><td> 0    </td><td>1     </td><td>2     </td><td>360   </td><td>   1  </td><td>1     </td></tr>\n",
       "\t<tr><th scope=row>381</th><td>1     </td><td>39.08 </td><td> 6.000</td><td>2     </td><td>7     </td><td>4     </td><td> 1.290</td><td>1     </td><td>1     </td><td> 5    </td><td>1     </td><td>2     </td><td>108   </td><td>1098  </td><td>1     </td></tr>\n",
       "\t<tr><th scope=row>582</th><td>1     </td><td>56.00 </td><td>12.500</td><td>2     </td><td>4     </td><td>8     </td><td> 8.000</td><td>1     </td><td>0     </td><td> 0    </td><td>1     </td><td>2     </td><td> 24   </td><td>2029  </td><td>1     </td></tr>\n",
       "\t<tr><th scope=row>⋮</th><td>⋮</td><td>⋮</td><td>⋮</td><td>⋮</td><td>⋮</td><td>⋮</td><td>⋮</td><td>⋮</td><td>⋮</td><td>⋮</td><td>⋮</td><td>⋮</td><td>⋮</td><td>⋮</td><td>⋮</td></tr>\n",
       "\t<tr><th scope=row>106</th><td>0     </td><td>25.00 </td><td> 0.875</td><td>2     </td><td>14    </td><td>8     </td><td>1.040 </td><td>1     </td><td>0     </td><td> 0    </td><td>1     </td><td>2     </td><td>160   </td><td>5861  </td><td>1     </td></tr>\n",
       "\t<tr><th scope=row>443</th><td>1     </td><td>25.83 </td><td>12.835</td><td>2     </td><td>13    </td><td>4     </td><td>0.500 </td><td>0     </td><td>0     </td><td> 0    </td><td>0     </td><td>2     </td><td>  0   </td><td>   3  </td><td>0     </td></tr>\n",
       "\t<tr><th scope=row>1</th><td>1     </td><td>22.08 </td><td>11.460</td><td>2     </td><td>4     </td><td>4     </td><td>1.585 </td><td>0     </td><td>0     </td><td> 0    </td><td>1     </td><td>2     </td><td>100   </td><td>1213  </td><td>0     </td></tr>\n",
       "\t<tr><th scope=row>662</th><td>0     </td><td>22.50 </td><td> 0.415</td><td>2     </td><td>3     </td><td>4     </td><td>0.335 </td><td>0     </td><td>0     </td><td> 0    </td><td>1     </td><td>1     </td><td>144   </td><td>   1  </td><td>0     </td></tr>\n",
       "\t<tr><th scope=row>50</th><td>0     </td><td>52.83 </td><td>15.000</td><td>2     </td><td>8     </td><td>4     </td><td>5.500 </td><td>1     </td><td>1     </td><td>14    </td><td>0     </td><td>2     </td><td>  0   </td><td>2201  </td><td>1     </td></tr>\n",
       "\t<tr><th scope=row>205</th><td>0     </td><td>24.75 </td><td> 3.000</td><td>2     </td><td>11    </td><td>8     </td><td>1.835 </td><td>1     </td><td>1     </td><td>19    </td><td>0     </td><td>2     </td><td>  0   </td><td> 501  </td><td>1     </td></tr>\n",
       "\t<tr><th scope=row>620</th><td>1     </td><td>28.25 </td><td> 5.125</td><td>2     </td><td>14    </td><td>4     </td><td>4.750 </td><td>1     </td><td>1     </td><td> 2    </td><td>0     </td><td>2     </td><td>420   </td><td>   8  </td><td>1     </td></tr>\n",
       "\t<tr><th scope=row>686</th><td>1     </td><td>31.57 </td><td>10.500</td><td>2     </td><td>14    </td><td>4     </td><td>6.500 </td><td>1     </td><td>0     </td><td> 0    </td><td>0     </td><td>2     </td><td>  0   </td><td>   1  </td><td>1     </td></tr>\n",
       "\t<tr><th scope=row>273</th><td>1     </td><td>16.50 </td><td> 0.125</td><td>2     </td><td>8     </td><td>4     </td><td>0.165 </td><td>0     </td><td>0     </td><td> 0    </td><td>0     </td><td>2     </td><td>132   </td><td>   1  </td><td>0     </td></tr>\n",
       "\t<tr><th scope=row>126</th><td>1     </td><td>22.00 </td><td> 0.790</td><td>2     </td><td>9     </td><td>4     </td><td>0.290 </td><td>0     </td><td>1     </td><td> 1    </td><td>0     </td><td>2     </td><td>420   </td><td> 284  </td><td>0     </td></tr>\n",
       "\t<tr><th scope=row>564</th><td>1     </td><td>34.75 </td><td> 2.500</td><td>2     </td><td>13    </td><td>5     </td><td>0.500 </td><td>0     </td><td>0     </td><td> 0    </td><td>0     </td><td>2     </td><td>348   </td><td>   1  </td><td>0     </td></tr>\n",
       "\t<tr><th scope=row>277</th><td>0     </td><td>57.08 </td><td> 0.335</td><td>2     </td><td>3     </td><td>5     </td><td>1.000 </td><td>1     </td><td>0     </td><td> 0    </td><td>1     </td><td>2     </td><td>252   </td><td>2198  </td><td>0     </td></tr>\n",
       "\t<tr><th scope=row>614</th><td>1     </td><td>39.42 </td><td> 1.710</td><td>1     </td><td>7     </td><td>4     </td><td>0.165 </td><td>0     </td><td>0     </td><td> 0    </td><td>0     </td><td>1     </td><td>400   </td><td>   1  </td><td>0     </td></tr>\n",
       "\t<tr><th scope=row>602</th><td>1     </td><td>36.67 </td><td> 3.250</td><td>2     </td><td>11    </td><td>8     </td><td>9.000 </td><td>1     </td><td>0     </td><td> 0    </td><td>1     </td><td>2     </td><td>102   </td><td> 640  </td><td>1     </td></tr>\n",
       "\t<tr><th scope=row>573</th><td>0     </td><td>41.33 </td><td> 1.000</td><td>2     </td><td>3     </td><td>5     </td><td>2.250 </td><td>1     </td><td>0     </td><td> 0    </td><td>1     </td><td>2     </td><td>  0   </td><td> 301  </td><td>1     </td></tr>\n",
       "\t<tr><th scope=row>485</th><td>1     </td><td>42.83 </td><td> 4.625</td><td>2     </td><td>11    </td><td>4     </td><td>4.580 </td><td>1     </td><td>0     </td><td> 0    </td><td>0     </td><td>1     </td><td>  0   </td><td>   1  </td><td>1     </td></tr>\n",
       "\t<tr><th scope=row>577</th><td>0     </td><td>33.17 </td><td> 2.250</td><td>1     </td><td>13    </td><td>4     </td><td>3.500 </td><td>0     </td><td>0     </td><td> 0    </td><td>1     </td><td>2     </td><td>200   </td><td> 142  </td><td>0     </td></tr>\n",
       "\t<tr><th scope=row>400</th><td>0     </td><td>29.50 </td><td> 1.085</td><td>1     </td><td>14    </td><td>4     </td><td>1.000 </td><td>0     </td><td>0     </td><td> 0    </td><td>0     </td><td>2     </td><td>280   </td><td>  14  </td><td>0     </td></tr>\n",
       "\t<tr><th scope=row>199</th><td>0     </td><td>16.08 </td><td> 0.335</td><td>2     </td><td>1     </td><td>1     </td><td>0.000 </td><td>0     </td><td>1     </td><td> 1    </td><td>0     </td><td>2     </td><td>160   </td><td> 127  </td><td>0     </td></tr>\n",
       "\t<tr><th scope=row>8</th><td>0     </td><td>58.67 </td><td> 4.460</td><td>2     </td><td>11    </td><td>8     </td><td>3.040 </td><td>1     </td><td>1     </td><td> 6    </td><td>0     </td><td>2     </td><td> 43   </td><td> 561  </td><td>1     </td></tr>\n",
       "\t<tr><th scope=row>417</th><td>0     </td><td>24.58 </td><td> 0.670</td><td>2     </td><td>6     </td><td>8     </td><td>1.750 </td><td>1     </td><td>0     </td><td> 0    </td><td>0     </td><td>2     </td><td>400   </td><td>   1  </td><td>0     </td></tr>\n",
       "\t<tr><th scope=row>253</th><td>1     </td><td>34.75 </td><td>15.000</td><td>2     </td><td>12    </td><td>7     </td><td>5.375 </td><td>1     </td><td>1     </td><td> 9    </td><td>1     </td><td>2     </td><td>  0   </td><td> 135  </td><td>1     </td></tr>\n",
       "\t<tr><th scope=row>637</th><td>1     </td><td>24.58 </td><td> 1.250</td><td>2     </td><td>8     </td><td>4     </td><td>0.250 </td><td>0     </td><td>0     </td><td> 0    </td><td>0     </td><td>2     </td><td>110   </td><td>   1  </td><td>0     </td></tr>\n",
       "\t<tr><th scope=row>473</th><td>1     </td><td>23.25 </td><td> 1.500</td><td>2     </td><td>11    </td><td>4     </td><td>2.375 </td><td>1     </td><td>1     </td><td> 3    </td><td>1     </td><td>2     </td><td>  0   </td><td> 583  </td><td>1     </td></tr>\n",
       "\t<tr><th scope=row>508</th><td>1     </td><td>17.58 </td><td>10.000</td><td>2     </td><td>9     </td><td>8     </td><td>0.165 </td><td>0     </td><td>1     </td><td> 1    </td><td>0     </td><td>2     </td><td>120   </td><td>   2  </td><td>0     </td></tr>\n",
       "\t<tr><th scope=row>410</th><td>1     </td><td>25.25 </td><td> 1.000</td><td>2     </td><td>6     </td><td>4     </td><td>0.500 </td><td>0     </td><td>0     </td><td> 0    </td><td>0     </td><td>2     </td><td>200   </td><td>   1  </td><td>0     </td></tr>\n",
       "\t<tr><th scope=row>84</th><td>1     </td><td>39.92 </td><td> 5.000</td><td>2     </td><td>3     </td><td>5     </td><td>0.210 </td><td>0     </td><td>0     </td><td> 0    </td><td>0     </td><td>2     </td><td>550   </td><td>   1  </td><td>0     </td></tr>\n",
       "\t<tr><th scope=row>291</th><td>1     </td><td>32.33 </td><td> 7.500</td><td>2     </td><td>10    </td><td>5     </td><td>1.585 </td><td>1     </td><td>0     </td><td> 0    </td><td>1     </td><td>1     </td><td>420   </td><td>   1  </td><td>0     </td></tr>\n",
       "\t<tr><th scope=row>624</th><td>1     </td><td>23.58 </td><td> 1.790</td><td>2     </td><td>8     </td><td>4     </td><td>0.540 </td><td>0     </td><td>0     </td><td> 0    </td><td>1     </td><td>2     </td><td>136   </td><td>   2  </td><td>0     </td></tr>\n",
       "\t<tr><th scope=row>623</th><td>0     </td><td>23.25 </td><td> 5.875</td><td>2     </td><td>11    </td><td>4     </td><td>3.170 </td><td>1     </td><td>1     </td><td>10    </td><td>0     </td><td>2     </td><td>120   </td><td> 246  </td><td>1     </td></tr>\n",
       "</tbody>\n",
       "</table>\n"
      ],
      "text/latex": [
       "\\begin{tabular}{r|lllllllllllllll}\n",
       "  & V1 & V2 & V3 & V4 & V5 & V6 & V7 & V8 & V9 & V10 & V11 & V12 & V13 & V14 & V15\\\\\n",
       "\\hline\n",
       "\t340 & 1      & 27.25  &  0.625 & 2      & 6      & 4      &  0.455 & 1      & 0      &  0     & 1      & 2      & 200    &    1   & 0     \\\\\n",
       "\t575 & 1      & 31.67  &  0.830 & 2      & 14     & 4      &  1.335 & 1      & 1      &  8     & 1      & 2      & 303    & 3291   & 1     \\\\\n",
       "\t300 & 1      & 18.17  &  2.460 & 2      & 8      & 7      &  0.960 & 0      & 1      &  2     & 1      & 2      & 160    &  588   & 0     \\\\\n",
       "\t466 & 1      & 59.67  &  1.540 & 2      & 11     & 4      &  0.125 & 1      & 0      &  0     & 1      & 2      & 260    &    1   & 1     \\\\\n",
       "\t494 & 0      & 25.00  & 11.000 & 1      & 6      & 4      &  4.500 & 1      & 0      &  0     & 0      & 2      & 120    &    1   & 0     \\\\\n",
       "\t347 & 0      & 30.00  &  5.290 & 2      & 10     & 2      &  2.250 & 1      & 1      &  5     & 1      & 2      &  99    &  501   & 1     \\\\\n",
       "\t537 & 1      & 33.75  &  2.750 & 2      & 3      & 5      &  0.000 & 0      & 0      &  0     & 0      & 2      & 180    &    1   & 0     \\\\\n",
       "\t416 & 0      & 30.25  &  5.500 & 2      & 4      & 4      &  5.500 & 0      & 0      &  0     & 1      & 1      & 100    &    1   & 0     \\\\\n",
       "\t12 & 1      & 41.42  &  5.000 & 2      & 11     & 8      &  5.000 & 1      & 1      &  6     & 1      & 2      & 470    &    1   & 1     \\\\\n",
       "\t425 & 1      & 21.17  &  0.250 & 1      & 8      & 8      &  0.250 & 0      & 0      &  0     & 0      & 2      & 280    &  205   & 0     \\\\\n",
       "\t386 & 1      & 28.92  & 15.000 & 2      & 8      & 8      &  5.335 & 1      & 1      & 11     & 0      & 2      &   0    & 2284   & 1     \\\\\n",
       "\t80 & 0      & 32.17  &  1.460 & 2      & 9      & 4      &  1.085 & 1      & 1      & 16     & 0      & 2      & 120    & 2080   & 1     \\\\\n",
       "\t136 & 0      & 38.33  &  4.415 & 2      & 8      & 4      &  0.125 & 0      & 0      &  0     & 0      & 2      & 160    &    1   & 0     \\\\\n",
       "\t606 & 0      & 52.17  &  0.000 & 1      & 1      & 1      &  0.000 & 0      & 0      &  0     & 0      & 2      &   0    &    1   & 0     \\\\\n",
       "\t690 & 1      & 41.00  &  0.040 & 2      & 10     & 4      &  0.040 & 0      & 1      &  1     & 0      & 1      & 560    &    1   & 1     \\\\\n",
       "\t2 & 0      & 22.67  &  7.000 & 2      & 8      & 4      &  0.165 & 0      & 0      &  0     & 0      & 2      & 160    &    1   & 0     \\\\\n",
       "\t404 & 1      & 35.75  &  2.415 & 2      & 9      & 4      &  0.125 & 0      & 1      &  2     & 0      & 2      & 220    &    2   & 0     \\\\\n",
       "\t468 & 1      & 30.08  &  1.040 & 1      & 3      & 5      &  0.500 & 1      & 1      & 10     & 1      & 2      & 132    &   29   & 0     \\\\\n",
       "\t235 & 0      & 64.08  &  0.165 & 2      & 1      & 1      &  0.000 & 1      & 1      &  1     & 0      & 2      & 232    &  101   & 1     \\\\\n",
       "\t536 & 0      & 20.67  &  1.835 & 2      & 11     & 4      &  2.085 & 1      & 1      &  5     & 0      & 2      & 220    & 2504   & 1     \\\\\n",
       "\t213 & 1      & 34.00  &  5.500 & 1      & 8      & 4      &  1.500 & 0      & 0      &  0     & 1      & 2      &  60    &    1   & 0     \\\\\n",
       "\t22 & 0      & 19.17  &  0.585 & 1      & 6      & 4      &  0.585 & 1      & 0      &  0     & 1      & 2      & 160    &    1   & 0     \\\\\n",
       "\t539 & 0      & 35.42  & 12.000 & 2      & 11     & 8      & 14.000 & 1      & 1      &  8     & 0      & 2      &   0    & 6591   & 1     \\\\\n",
       "\t630 & 1      & 24.75  &  0.540 & 2      & 7      & 4      &  1.000 & 0      & 0      &  0     & 1      & 2      & 120    &    2   & 0     \\\\\n",
       "\t613 & 1      & 26.17  &  0.250 & 2      & 3      & 5      &  0.000 & 1      & 0      &  0     & 1      & 2      &   0    &    1   & 1     \\\\\n",
       "\t289 & 1      & 31.25  &  1.125 & 2      & 1      & 1      &  0.000 & 0      & 1      &  1     & 0      & 2      &  96    &   20   & 0     \\\\\n",
       "\t671 & 0      & 37.75  &  5.500 & 2      & 11     & 4      &  0.125 & 1      & 0      &  0     & 1      & 2      & 228    &    1   & 1     \\\\\n",
       "\t584 & 1      & 32.08  &  4.000 & 2      & 7      & 4      &  2.500 & 1      & 0      &  0     & 1      & 2      & 360    &    1   & 1     \\\\\n",
       "\t381 & 1      & 39.08  &  6.000 & 2      & 7      & 4      &  1.290 & 1      & 1      &  5     & 1      & 2      & 108    & 1098   & 1     \\\\\n",
       "\t582 & 1      & 56.00  & 12.500 & 2      & 4      & 8      &  8.000 & 1      & 0      &  0     & 1      & 2      &  24    & 2029   & 1     \\\\\n",
       "\t⋮ & ⋮ & ⋮ & ⋮ & ⋮ & ⋮ & ⋮ & ⋮ & ⋮ & ⋮ & ⋮ & ⋮ & ⋮ & ⋮ & ⋮ & ⋮\\\\\n",
       "\t106 & 0      & 25.00  &  0.875 & 2      & 14     & 8      & 1.040  & 1      & 0      &  0     & 1      & 2      & 160    & 5861   & 1     \\\\\n",
       "\t443 & 1      & 25.83  & 12.835 & 2      & 13     & 4      & 0.500  & 0      & 0      &  0     & 0      & 2      &   0    &    3   & 0     \\\\\n",
       "\t1 & 1      & 22.08  & 11.460 & 2      & 4      & 4      & 1.585  & 0      & 0      &  0     & 1      & 2      & 100    & 1213   & 0     \\\\\n",
       "\t662 & 0      & 22.50  &  0.415 & 2      & 3      & 4      & 0.335  & 0      & 0      &  0     & 1      & 1      & 144    &    1   & 0     \\\\\n",
       "\t50 & 0      & 52.83  & 15.000 & 2      & 8      & 4      & 5.500  & 1      & 1      & 14     & 0      & 2      &   0    & 2201   & 1     \\\\\n",
       "\t205 & 0      & 24.75  &  3.000 & 2      & 11     & 8      & 1.835  & 1      & 1      & 19     & 0      & 2      &   0    &  501   & 1     \\\\\n",
       "\t620 & 1      & 28.25  &  5.125 & 2      & 14     & 4      & 4.750  & 1      & 1      &  2     & 0      & 2      & 420    &    8   & 1     \\\\\n",
       "\t686 & 1      & 31.57  & 10.500 & 2      & 14     & 4      & 6.500  & 1      & 0      &  0     & 0      & 2      &   0    &    1   & 1     \\\\\n",
       "\t273 & 1      & 16.50  &  0.125 & 2      & 8      & 4      & 0.165  & 0      & 0      &  0     & 0      & 2      & 132    &    1   & 0     \\\\\n",
       "\t126 & 1      & 22.00  &  0.790 & 2      & 9      & 4      & 0.290  & 0      & 1      &  1     & 0      & 2      & 420    &  284   & 0     \\\\\n",
       "\t564 & 1      & 34.75  &  2.500 & 2      & 13     & 5      & 0.500  & 0      & 0      &  0     & 0      & 2      & 348    &    1   & 0     \\\\\n",
       "\t277 & 0      & 57.08  &  0.335 & 2      & 3      & 5      & 1.000  & 1      & 0      &  0     & 1      & 2      & 252    & 2198   & 0     \\\\\n",
       "\t614 & 1      & 39.42  &  1.710 & 1      & 7      & 4      & 0.165  & 0      & 0      &  0     & 0      & 1      & 400    &    1   & 0     \\\\\n",
       "\t602 & 1      & 36.67  &  3.250 & 2      & 11     & 8      & 9.000  & 1      & 0      &  0     & 1      & 2      & 102    &  640   & 1     \\\\\n",
       "\t573 & 0      & 41.33  &  1.000 & 2      & 3      & 5      & 2.250  & 1      & 0      &  0     & 1      & 2      &   0    &  301   & 1     \\\\\n",
       "\t485 & 1      & 42.83  &  4.625 & 2      & 11     & 4      & 4.580  & 1      & 0      &  0     & 0      & 1      &   0    &    1   & 1     \\\\\n",
       "\t577 & 0      & 33.17  &  2.250 & 1      & 13     & 4      & 3.500  & 0      & 0      &  0     & 1      & 2      & 200    &  142   & 0     \\\\\n",
       "\t400 & 0      & 29.50  &  1.085 & 1      & 14     & 4      & 1.000  & 0      & 0      &  0     & 0      & 2      & 280    &   14   & 0     \\\\\n",
       "\t199 & 0      & 16.08  &  0.335 & 2      & 1      & 1      & 0.000  & 0      & 1      &  1     & 0      & 2      & 160    &  127   & 0     \\\\\n",
       "\t8 & 0      & 58.67  &  4.460 & 2      & 11     & 8      & 3.040  & 1      & 1      &  6     & 0      & 2      &  43    &  561   & 1     \\\\\n",
       "\t417 & 0      & 24.58  &  0.670 & 2      & 6      & 8      & 1.750  & 1      & 0      &  0     & 0      & 2      & 400    &    1   & 0     \\\\\n",
       "\t253 & 1      & 34.75  & 15.000 & 2      & 12     & 7      & 5.375  & 1      & 1      &  9     & 1      & 2      &   0    &  135   & 1     \\\\\n",
       "\t637 & 1      & 24.58  &  1.250 & 2      & 8      & 4      & 0.250  & 0      & 0      &  0     & 0      & 2      & 110    &    1   & 0     \\\\\n",
       "\t473 & 1      & 23.25  &  1.500 & 2      & 11     & 4      & 2.375  & 1      & 1      &  3     & 1      & 2      &   0    &  583   & 1     \\\\\n",
       "\t508 & 1      & 17.58  & 10.000 & 2      & 9      & 8      & 0.165  & 0      & 1      &  1     & 0      & 2      & 120    &    2   & 0     \\\\\n",
       "\t410 & 1      & 25.25  &  1.000 & 2      & 6      & 4      & 0.500  & 0      & 0      &  0     & 0      & 2      & 200    &    1   & 0     \\\\\n",
       "\t84 & 1      & 39.92  &  5.000 & 2      & 3      & 5      & 0.210  & 0      & 0      &  0     & 0      & 2      & 550    &    1   & 0     \\\\\n",
       "\t291 & 1      & 32.33  &  7.500 & 2      & 10     & 5      & 1.585  & 1      & 0      &  0     & 1      & 1      & 420    &    1   & 0     \\\\\n",
       "\t624 & 1      & 23.58  &  1.790 & 2      & 8      & 4      & 0.540  & 0      & 0      &  0     & 1      & 2      & 136    &    2   & 0     \\\\\n",
       "\t623 & 0      & 23.25  &  5.875 & 2      & 11     & 4      & 3.170  & 1      & 1      & 10     & 0      & 2      & 120    &  246   & 1     \\\\\n",
       "\\end{tabular}\n"
      ],
      "text/markdown": [
       "\n",
       "| <!--/--> | V1 | V2 | V3 | V4 | V5 | V6 | V7 | V8 | V9 | V10 | V11 | V12 | V13 | V14 | V15 |\n",
       "|---|---|---|---|---|---|---|---|---|---|---|---|---|---|---|---|\n",
       "| 340 | 1      | 27.25  |  0.625 | 2      | 6      | 4      |  0.455 | 1      | 0      |  0     | 1      | 2      | 200    |    1   | 0      |\n",
       "| 575 | 1      | 31.67  |  0.830 | 2      | 14     | 4      |  1.335 | 1      | 1      |  8     | 1      | 2      | 303    | 3291   | 1      |\n",
       "| 300 | 1      | 18.17  |  2.460 | 2      | 8      | 7      |  0.960 | 0      | 1      |  2     | 1      | 2      | 160    |  588   | 0      |\n",
       "| 466 | 1      | 59.67  |  1.540 | 2      | 11     | 4      |  0.125 | 1      | 0      |  0     | 1      | 2      | 260    |    1   | 1      |\n",
       "| 494 | 0      | 25.00  | 11.000 | 1      | 6      | 4      |  4.500 | 1      | 0      |  0     | 0      | 2      | 120    |    1   | 0      |\n",
       "| 347 | 0      | 30.00  |  5.290 | 2      | 10     | 2      |  2.250 | 1      | 1      |  5     | 1      | 2      |  99    |  501   | 1      |\n",
       "| 537 | 1      | 33.75  |  2.750 | 2      | 3      | 5      |  0.000 | 0      | 0      |  0     | 0      | 2      | 180    |    1   | 0      |\n",
       "| 416 | 0      | 30.25  |  5.500 | 2      | 4      | 4      |  5.500 | 0      | 0      |  0     | 1      | 1      | 100    |    1   | 0      |\n",
       "| 12 | 1      | 41.42  |  5.000 | 2      | 11     | 8      |  5.000 | 1      | 1      |  6     | 1      | 2      | 470    |    1   | 1      |\n",
       "| 425 | 1      | 21.17  |  0.250 | 1      | 8      | 8      |  0.250 | 0      | 0      |  0     | 0      | 2      | 280    |  205   | 0      |\n",
       "| 386 | 1      | 28.92  | 15.000 | 2      | 8      | 8      |  5.335 | 1      | 1      | 11     | 0      | 2      |   0    | 2284   | 1      |\n",
       "| 80 | 0      | 32.17  |  1.460 | 2      | 9      | 4      |  1.085 | 1      | 1      | 16     | 0      | 2      | 120    | 2080   | 1      |\n",
       "| 136 | 0      | 38.33  |  4.415 | 2      | 8      | 4      |  0.125 | 0      | 0      |  0     | 0      | 2      | 160    |    1   | 0      |\n",
       "| 606 | 0      | 52.17  |  0.000 | 1      | 1      | 1      |  0.000 | 0      | 0      |  0     | 0      | 2      |   0    |    1   | 0      |\n",
       "| 690 | 1      | 41.00  |  0.040 | 2      | 10     | 4      |  0.040 | 0      | 1      |  1     | 0      | 1      | 560    |    1   | 1      |\n",
       "| 2 | 0      | 22.67  |  7.000 | 2      | 8      | 4      |  0.165 | 0      | 0      |  0     | 0      | 2      | 160    |    1   | 0      |\n",
       "| 404 | 1      | 35.75  |  2.415 | 2      | 9      | 4      |  0.125 | 0      | 1      |  2     | 0      | 2      | 220    |    2   | 0      |\n",
       "| 468 | 1      | 30.08  |  1.040 | 1      | 3      | 5      |  0.500 | 1      | 1      | 10     | 1      | 2      | 132    |   29   | 0      |\n",
       "| 235 | 0      | 64.08  |  0.165 | 2      | 1      | 1      |  0.000 | 1      | 1      |  1     | 0      | 2      | 232    |  101   | 1      |\n",
       "| 536 | 0      | 20.67  |  1.835 | 2      | 11     | 4      |  2.085 | 1      | 1      |  5     | 0      | 2      | 220    | 2504   | 1      |\n",
       "| 213 | 1      | 34.00  |  5.500 | 1      | 8      | 4      |  1.500 | 0      | 0      |  0     | 1      | 2      |  60    |    1   | 0      |\n",
       "| 22 | 0      | 19.17  |  0.585 | 1      | 6      | 4      |  0.585 | 1      | 0      |  0     | 1      | 2      | 160    |    1   | 0      |\n",
       "| 539 | 0      | 35.42  | 12.000 | 2      | 11     | 8      | 14.000 | 1      | 1      |  8     | 0      | 2      |   0    | 6591   | 1      |\n",
       "| 630 | 1      | 24.75  |  0.540 | 2      | 7      | 4      |  1.000 | 0      | 0      |  0     | 1      | 2      | 120    |    2   | 0      |\n",
       "| 613 | 1      | 26.17  |  0.250 | 2      | 3      | 5      |  0.000 | 1      | 0      |  0     | 1      | 2      |   0    |    1   | 1      |\n",
       "| 289 | 1      | 31.25  |  1.125 | 2      | 1      | 1      |  0.000 | 0      | 1      |  1     | 0      | 2      |  96    |   20   | 0      |\n",
       "| 671 | 0      | 37.75  |  5.500 | 2      | 11     | 4      |  0.125 | 1      | 0      |  0     | 1      | 2      | 228    |    1   | 1      |\n",
       "| 584 | 1      | 32.08  |  4.000 | 2      | 7      | 4      |  2.500 | 1      | 0      |  0     | 1      | 2      | 360    |    1   | 1      |\n",
       "| 381 | 1      | 39.08  |  6.000 | 2      | 7      | 4      |  1.290 | 1      | 1      |  5     | 1      | 2      | 108    | 1098   | 1      |\n",
       "| 582 | 1      | 56.00  | 12.500 | 2      | 4      | 8      |  8.000 | 1      | 0      |  0     | 1      | 2      |  24    | 2029   | 1      |\n",
       "| ⋮ | ⋮ | ⋮ | ⋮ | ⋮ | ⋮ | ⋮ | ⋮ | ⋮ | ⋮ | ⋮ | ⋮ | ⋮ | ⋮ | ⋮ | ⋮ |\n",
       "| 106 | 0      | 25.00  |  0.875 | 2      | 14     | 8      | 1.040  | 1      | 0      |  0     | 1      | 2      | 160    | 5861   | 1      |\n",
       "| 443 | 1      | 25.83  | 12.835 | 2      | 13     | 4      | 0.500  | 0      | 0      |  0     | 0      | 2      |   0    |    3   | 0      |\n",
       "| 1 | 1      | 22.08  | 11.460 | 2      | 4      | 4      | 1.585  | 0      | 0      |  0     | 1      | 2      | 100    | 1213   | 0      |\n",
       "| 662 | 0      | 22.50  |  0.415 | 2      | 3      | 4      | 0.335  | 0      | 0      |  0     | 1      | 1      | 144    |    1   | 0      |\n",
       "| 50 | 0      | 52.83  | 15.000 | 2      | 8      | 4      | 5.500  | 1      | 1      | 14     | 0      | 2      |   0    | 2201   | 1      |\n",
       "| 205 | 0      | 24.75  |  3.000 | 2      | 11     | 8      | 1.835  | 1      | 1      | 19     | 0      | 2      |   0    |  501   | 1      |\n",
       "| 620 | 1      | 28.25  |  5.125 | 2      | 14     | 4      | 4.750  | 1      | 1      |  2     | 0      | 2      | 420    |    8   | 1      |\n",
       "| 686 | 1      | 31.57  | 10.500 | 2      | 14     | 4      | 6.500  | 1      | 0      |  0     | 0      | 2      |   0    |    1   | 1      |\n",
       "| 273 | 1      | 16.50  |  0.125 | 2      | 8      | 4      | 0.165  | 0      | 0      |  0     | 0      | 2      | 132    |    1   | 0      |\n",
       "| 126 | 1      | 22.00  |  0.790 | 2      | 9      | 4      | 0.290  | 0      | 1      |  1     | 0      | 2      | 420    |  284   | 0      |\n",
       "| 564 | 1      | 34.75  |  2.500 | 2      | 13     | 5      | 0.500  | 0      | 0      |  0     | 0      | 2      | 348    |    1   | 0      |\n",
       "| 277 | 0      | 57.08  |  0.335 | 2      | 3      | 5      | 1.000  | 1      | 0      |  0     | 1      | 2      | 252    | 2198   | 0      |\n",
       "| 614 | 1      | 39.42  |  1.710 | 1      | 7      | 4      | 0.165  | 0      | 0      |  0     | 0      | 1      | 400    |    1   | 0      |\n",
       "| 602 | 1      | 36.67  |  3.250 | 2      | 11     | 8      | 9.000  | 1      | 0      |  0     | 1      | 2      | 102    |  640   | 1      |\n",
       "| 573 | 0      | 41.33  |  1.000 | 2      | 3      | 5      | 2.250  | 1      | 0      |  0     | 1      | 2      |   0    |  301   | 1      |\n",
       "| 485 | 1      | 42.83  |  4.625 | 2      | 11     | 4      | 4.580  | 1      | 0      |  0     | 0      | 1      |   0    |    1   | 1      |\n",
       "| 577 | 0      | 33.17  |  2.250 | 1      | 13     | 4      | 3.500  | 0      | 0      |  0     | 1      | 2      | 200    |  142   | 0      |\n",
       "| 400 | 0      | 29.50  |  1.085 | 1      | 14     | 4      | 1.000  | 0      | 0      |  0     | 0      | 2      | 280    |   14   | 0      |\n",
       "| 199 | 0      | 16.08  |  0.335 | 2      | 1      | 1      | 0.000  | 0      | 1      |  1     | 0      | 2      | 160    |  127   | 0      |\n",
       "| 8 | 0      | 58.67  |  4.460 | 2      | 11     | 8      | 3.040  | 1      | 1      |  6     | 0      | 2      |  43    |  561   | 1      |\n",
       "| 417 | 0      | 24.58  |  0.670 | 2      | 6      | 8      | 1.750  | 1      | 0      |  0     | 0      | 2      | 400    |    1   | 0      |\n",
       "| 253 | 1      | 34.75  | 15.000 | 2      | 12     | 7      | 5.375  | 1      | 1      |  9     | 1      | 2      |   0    |  135   | 1      |\n",
       "| 637 | 1      | 24.58  |  1.250 | 2      | 8      | 4      | 0.250  | 0      | 0      |  0     | 0      | 2      | 110    |    1   | 0      |\n",
       "| 473 | 1      | 23.25  |  1.500 | 2      | 11     | 4      | 2.375  | 1      | 1      |  3     | 1      | 2      |   0    |  583   | 1      |\n",
       "| 508 | 1      | 17.58  | 10.000 | 2      | 9      | 8      | 0.165  | 0      | 1      |  1     | 0      | 2      | 120    |    2   | 0      |\n",
       "| 410 | 1      | 25.25  |  1.000 | 2      | 6      | 4      | 0.500  | 0      | 0      |  0     | 0      | 2      | 200    |    1   | 0      |\n",
       "| 84 | 1      | 39.92  |  5.000 | 2      | 3      | 5      | 0.210  | 0      | 0      |  0     | 0      | 2      | 550    |    1   | 0      |\n",
       "| 291 | 1      | 32.33  |  7.500 | 2      | 10     | 5      | 1.585  | 1      | 0      |  0     | 1      | 1      | 420    |    1   | 0      |\n",
       "| 624 | 1      | 23.58  |  1.790 | 2      | 8      | 4      | 0.540  | 0      | 0      |  0     | 1      | 2      | 136    |    2   | 0      |\n",
       "| 623 | 0      | 23.25  |  5.875 | 2      | 11     | 4      | 3.170  | 1      | 1      | 10     | 0      | 2      | 120    |  246   | 1      |\n",
       "\n"
      ],
      "text/plain": [
       "    V1 V2    V3     V4 V5 V6 V7     V8 V9 V10 V11 V12 V13 V14  V15\n",
       "340 1  27.25  0.625 2  6  4   0.455 1  0   0  1   2   200    1 0  \n",
       "575 1  31.67  0.830 2  14 4   1.335 1  1   8  1   2   303 3291 1  \n",
       "300 1  18.17  2.460 2  8  7   0.960 0  1   2  1   2   160  588 0  \n",
       "466 1  59.67  1.540 2  11 4   0.125 1  0   0  1   2   260    1 1  \n",
       "494 0  25.00 11.000 1  6  4   4.500 1  0   0  0   2   120    1 0  \n",
       "347 0  30.00  5.290 2  10 2   2.250 1  1   5  1   2    99  501 1  \n",
       "537 1  33.75  2.750 2  3  5   0.000 0  0   0  0   2   180    1 0  \n",
       "416 0  30.25  5.500 2  4  4   5.500 0  0   0  1   1   100    1 0  \n",
       "12  1  41.42  5.000 2  11 8   5.000 1  1   6  1   2   470    1 1  \n",
       "425 1  21.17  0.250 1  8  8   0.250 0  0   0  0   2   280  205 0  \n",
       "386 1  28.92 15.000 2  8  8   5.335 1  1  11  0   2     0 2284 1  \n",
       "80  0  32.17  1.460 2  9  4   1.085 1  1  16  0   2   120 2080 1  \n",
       "136 0  38.33  4.415 2  8  4   0.125 0  0   0  0   2   160    1 0  \n",
       "606 0  52.17  0.000 1  1  1   0.000 0  0   0  0   2     0    1 0  \n",
       "690 1  41.00  0.040 2  10 4   0.040 0  1   1  0   1   560    1 1  \n",
       "2   0  22.67  7.000 2  8  4   0.165 0  0   0  0   2   160    1 0  \n",
       "404 1  35.75  2.415 2  9  4   0.125 0  1   2  0   2   220    2 0  \n",
       "468 1  30.08  1.040 1  3  5   0.500 1  1  10  1   2   132   29 0  \n",
       "235 0  64.08  0.165 2  1  1   0.000 1  1   1  0   2   232  101 1  \n",
       "536 0  20.67  1.835 2  11 4   2.085 1  1   5  0   2   220 2504 1  \n",
       "213 1  34.00  5.500 1  8  4   1.500 0  0   0  1   2    60    1 0  \n",
       "22  0  19.17  0.585 1  6  4   0.585 1  0   0  1   2   160    1 0  \n",
       "539 0  35.42 12.000 2  11 8  14.000 1  1   8  0   2     0 6591 1  \n",
       "630 1  24.75  0.540 2  7  4   1.000 0  0   0  1   2   120    2 0  \n",
       "613 1  26.17  0.250 2  3  5   0.000 1  0   0  1   2     0    1 1  \n",
       "289 1  31.25  1.125 2  1  1   0.000 0  1   1  0   2    96   20 0  \n",
       "671 0  37.75  5.500 2  11 4   0.125 1  0   0  1   2   228    1 1  \n",
       "584 1  32.08  4.000 2  7  4   2.500 1  0   0  1   2   360    1 1  \n",
       "381 1  39.08  6.000 2  7  4   1.290 1  1   5  1   2   108 1098 1  \n",
       "582 1  56.00 12.500 2  4  8   8.000 1  0   0  1   2    24 2029 1  \n",
       "⋮   ⋮  ⋮     ⋮      ⋮  ⋮  ⋮  ⋮      ⋮  ⋮  ⋮   ⋮   ⋮   ⋮   ⋮    ⋮  \n",
       "106 0  25.00  0.875 2  14 8  1.040  1  0   0  1   2   160 5861 1  \n",
       "443 1  25.83 12.835 2  13 4  0.500  0  0   0  0   2     0    3 0  \n",
       "1   1  22.08 11.460 2  4  4  1.585  0  0   0  1   2   100 1213 0  \n",
       "662 0  22.50  0.415 2  3  4  0.335  0  0   0  1   1   144    1 0  \n",
       "50  0  52.83 15.000 2  8  4  5.500  1  1  14  0   2     0 2201 1  \n",
       "205 0  24.75  3.000 2  11 8  1.835  1  1  19  0   2     0  501 1  \n",
       "620 1  28.25  5.125 2  14 4  4.750  1  1   2  0   2   420    8 1  \n",
       "686 1  31.57 10.500 2  14 4  6.500  1  0   0  0   2     0    1 1  \n",
       "273 1  16.50  0.125 2  8  4  0.165  0  0   0  0   2   132    1 0  \n",
       "126 1  22.00  0.790 2  9  4  0.290  0  1   1  0   2   420  284 0  \n",
       "564 1  34.75  2.500 2  13 5  0.500  0  0   0  0   2   348    1 0  \n",
       "277 0  57.08  0.335 2  3  5  1.000  1  0   0  1   2   252 2198 0  \n",
       "614 1  39.42  1.710 1  7  4  0.165  0  0   0  0   1   400    1 0  \n",
       "602 1  36.67  3.250 2  11 8  9.000  1  0   0  1   2   102  640 1  \n",
       "573 0  41.33  1.000 2  3  5  2.250  1  0   0  1   2     0  301 1  \n",
       "485 1  42.83  4.625 2  11 4  4.580  1  0   0  0   1     0    1 1  \n",
       "577 0  33.17  2.250 1  13 4  3.500  0  0   0  1   2   200  142 0  \n",
       "400 0  29.50  1.085 1  14 4  1.000  0  0   0  0   2   280   14 0  \n",
       "199 0  16.08  0.335 2  1  1  0.000  0  1   1  0   2   160  127 0  \n",
       "8   0  58.67  4.460 2  11 8  3.040  1  1   6  0   2    43  561 1  \n",
       "417 0  24.58  0.670 2  6  8  1.750  1  0   0  0   2   400    1 0  \n",
       "253 1  34.75 15.000 2  12 7  5.375  1  1   9  1   2     0  135 1  \n",
       "637 1  24.58  1.250 2  8  4  0.250  0  0   0  0   2   110    1 0  \n",
       "473 1  23.25  1.500 2  11 4  2.375  1  1   3  1   2     0  583 1  \n",
       "508 1  17.58 10.000 2  9  8  0.165  0  1   1  0   2   120    2 0  \n",
       "410 1  25.25  1.000 2  6  4  0.500  0  0   0  0   2   200    1 0  \n",
       "84  1  39.92  5.000 2  3  5  0.210  0  0   0  0   2   550    1 0  \n",
       "291 1  32.33  7.500 2  10 5  1.585  1  0   0  1   1   420    1 0  \n",
       "624 1  23.58  1.790 2  8  4  0.540  0  0   0  1   2   136    2 0  \n",
       "623 0  23.25  5.875 2  11 4  3.170  1  1  10  0   2   120  246 1  "
      ]
     },
     "metadata": {},
     "output_type": "display_data"
    }
   ],
   "source": [
    "myData[train,]"
   ]
  },
  {
   "cell_type": "code",
   "execution_count": 46,
   "metadata": {},
   "outputs": [
    {
     "name": "stderr",
     "output_type": "stream",
     "text": [
      "Warning message:\n",
      "“glm.fit: algorithm did not converge”Warning message:\n",
      "“glm.fit: fitted probabilities numerically 0 or 1 occurred”"
     ]
    },
    {
     "ename": "ERROR",
     "evalue": "Error in model.frame.default(Terms, newdata, na.action = na.action, xlev = object$xlevels): factor V5 has new levels 2, 5\n",
     "output_type": "error",
     "traceback": [
      "Error in model.frame.default(Terms, newdata, na.action = na.action, xlev = object$xlevels): factor V5 has new levels 2, 5\nTraceback:\n",
      "1. predict(model, myData[test, ])",
      "2. predict.glm(model, myData[test, ])",
      "3. predict.lm(object, newdata, se.fit, scale = 1, type = ifelse(type == \n .     \"link\", \"response\", type), terms = terms, na.action = na.action)",
      "4. model.frame(Terms, newdata, na.action = na.action, xlev = object$xlevels)",
      "5. model.frame.default(Terms, newdata, na.action = na.action, xlev = object$xlevels)",
      "6. stop(sprintf(ngettext(length(m), \"factor %s has new level %s\", \n .     \"factor %s has new levels %s\"), nm, paste(nxl[m], collapse = \", \")), \n .     domain = NA)"
     ]
    }
   ],
   "source": [
    "#logRegAllData <- as.data.frame(logRegAllData)\n",
    "model <- glm(V15 ~ . , data=myData[train,], binomial)\n",
    "oddsratio <- exp(predict(model,myData[test,]))\n",
    "predicted <- ifelse(oddsratio > 0.7,1,0)\n",
    "confusionMatrix(table(predicted,real=myData[test,V15]))"
   ]
  },
  {
   "cell_type": "markdown",
   "metadata": {},
   "source": [
    "# Statistical Analysis and Data Reconfiguration"
   ]
  },
  {
   "cell_type": "code",
   "execution_count": 15,
   "metadata": {},
   "outputs": [
    {
     "data": {
      "text/html": [
       "<table>\n",
       "<thead><tr><th></th><th scope=col>Df</th><th scope=col>Deviance</th><th scope=col>Resid. Df</th><th scope=col>Resid. Dev</th></tr></thead>\n",
       "<tbody>\n",
       "\t<tr><th scope=row>NULL</th><td>NA       </td><td>       NA</td><td>99       </td><td>138.62944</td></tr>\n",
       "\t<tr><th scope=row>V1</th><td> 1       </td><td> 8.283847</td><td>98       </td><td>130.34559</td></tr>\n",
       "\t<tr><th scope=row>V2</th><td> 1       </td><td> 2.829340</td><td>97       </td><td>127.51625</td></tr>\n",
       "\t<tr><th scope=row>V3</th><td> 1       </td><td> 3.033582</td><td>96       </td><td>124.48267</td></tr>\n",
       "\t<tr><th scope=row>V4</th><td> 1       </td><td> 1.107132</td><td>95       </td><td>123.37553</td></tr>\n",
       "\t<tr><th scope=row>V5</th><td> 1       </td><td>25.620962</td><td>94       </td><td> 97.75457</td></tr>\n",
       "</tbody>\n",
       "</table>\n"
      ],
      "text/latex": [
       "\\begin{tabular}{r|llll}\n",
       "  & Df & Deviance & Resid. Df & Resid. Dev\\\\\n",
       "\\hline\n",
       "\tNULL & NA        &        NA & 99        & 138.62944\\\\\n",
       "\tV1 &  1        &  8.283847 & 98        & 130.34559\\\\\n",
       "\tV2 &  1        &  2.829340 & 97        & 127.51625\\\\\n",
       "\tV3 &  1        &  3.033582 & 96        & 124.48267\\\\\n",
       "\tV4 &  1        &  1.107132 & 95        & 123.37553\\\\\n",
       "\tV5 &  1        & 25.620962 & 94        &  97.75457\\\\\n",
       "\\end{tabular}\n"
      ],
      "text/markdown": [
       "\n",
       "| <!--/--> | Df | Deviance | Resid. Df | Resid. Dev |\n",
       "|---|---|---|---|---|\n",
       "| NULL | NA        |        NA | 99        | 138.62944 |\n",
       "| V1 |  1        |  8.283847 | 98        | 130.34559 |\n",
       "| V2 |  1        |  2.829340 | 97        | 127.51625 |\n",
       "| V3 |  1        |  3.033582 | 96        | 124.48267 |\n",
       "| V4 |  1        |  1.107132 | 95        | 123.37553 |\n",
       "| V5 |  1        | 25.620962 | 94        |  97.75457 |\n",
       "\n"
      ],
      "text/plain": [
       "     Df Deviance  Resid. Df Resid. Dev\n",
       "NULL NA        NA 99        138.62944 \n",
       "V1    1  8.283847 98        130.34559 \n",
       "V2    1  2.829340 97        127.51625 \n",
       "V3    1  3.033582 96        124.48267 \n",
       "V4    1  1.107132 95        123.37553 \n",
       "V5    1 25.620962 94         97.75457 "
      ]
     },
     "metadata": {},
     "output_type": "display_data"
    },
    {
     "data": {
      "text/plain": [
       "\n",
       "Call:\n",
       "glm(formula = approved ~ V1 + V2 + V3 + V4 + V5, family = binomial, \n",
       "    data = logRegData[train, ])\n",
       "\n",
       "Deviance Residuals: \n",
       "    Min       1Q   Median       3Q      Max  \n",
       "-2.0409  -0.7523  -0.2022   0.8976   1.8899  \n",
       "\n",
       "Coefficients:\n",
       "              Estimate Std. Error z value Pr(>|z|)   \n",
       "(Intercept) -1.3799963  0.9073233  -1.521  0.12827   \n",
       "V1           0.0032410  0.0280187   0.116  0.90791   \n",
       "V2           0.0787480  0.0506925   1.553  0.12032   \n",
       "V3           0.1620506  0.0900744   1.799  0.07201 . \n",
       "V4          -0.0013562  0.0018048  -0.751  0.45240   \n",
       "V5           0.0016695  0.0006217   2.685  0.00725 **\n",
       "---\n",
       "Signif. codes:  0 ‘***’ 0.001 ‘**’ 0.01 ‘*’ 0.05 ‘.’ 0.1 ‘ ’ 1\n",
       "\n",
       "(Dispersion parameter for binomial family taken to be 1)\n",
       "\n",
       "    Null deviance: 138.629  on 99  degrees of freedom\n",
       "Residual deviance:  97.755  on 94  degrees of freedom\n",
       "AIC: 109.75\n",
       "\n",
       "Number of Fisher Scoring iterations: 7\n"
      ]
     },
     "metadata": {},
     "output_type": "display_data"
    }
   ],
   "source": [
    "anova(model)\n",
    "summary(model)"
   ]
  },
  {
   "cell_type": "code",
   "execution_count": null,
   "metadata": {},
   "outputs": [],
   "source": []
  }
 ],
 "metadata": {
  "kernelspec": {
   "display_name": "R",
   "language": "R",
   "name": "ir"
  },
  "language_info": {
   "codemirror_mode": "r",
   "file_extension": ".r",
   "mimetype": "text/x-r-source",
   "name": "R",
   "pygments_lexer": "r",
   "version": "3.5.2"
  }
 },
 "nbformat": 4,
 "nbformat_minor": 2
}

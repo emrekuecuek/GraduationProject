{
 "cells": [
  {
   "cell_type": "markdown",
   "metadata": {},
   "source": [
    "# Australian Credit Approval in R\n",
    "\n",
    "Applying algorithms in R for given dataset."
   ]
  },
  {
   "cell_type": "code",
   "execution_count": 9,
   "metadata": {},
   "outputs": [],
   "source": [
    "library(rpart)\n",
    "\n",
    "myData <- read.csv(\"http://archive.ics.uci.edu/ml/machine-learning-databases/statlog/australian/australian.dat\", header=TRUE, sep=\" \")"
   ]
  },
  {
   "cell_type": "code",
   "execution_count": 13,
   "metadata": {},
   "outputs": [
    {
     "data": {
      "text/html": [
       "<table>\n",
       "<thead><tr><th scope=col>X1</th><th scope=col>X22.08</th><th scope=col>X11.46</th><th scope=col>X2</th><th scope=col>X4</th><th scope=col>X4.1</th><th scope=col>X1.585</th><th scope=col>X0</th><th scope=col>X0.1</th><th scope=col>X0.2</th><th scope=col>X1.1</th><th scope=col>X2.1</th><th scope=col>X100</th><th scope=col>X1213</th><th scope=col>X0.3</th></tr></thead>\n",
       "<tbody>\n",
       "\t<tr><td>0     </td><td>22.67 </td><td> 7.000</td><td>2     </td><td>8     </td><td>4     </td><td>0.165 </td><td>0     </td><td>0     </td><td> 0    </td><td>0     </td><td>2     </td><td>160   </td><td>  1   </td><td>0     </td></tr>\n",
       "\t<tr><td>0     </td><td>29.58 </td><td> 1.750</td><td>1     </td><td>4     </td><td>4     </td><td>1.250 </td><td>0     </td><td>0     </td><td> 0    </td><td>1     </td><td>2     </td><td>280   </td><td>  1   </td><td>0     </td></tr>\n",
       "\t<tr><td>0     </td><td>21.67 </td><td>11.500</td><td>1     </td><td>5     </td><td>3     </td><td>0.000 </td><td>1     </td><td>1     </td><td>11    </td><td>1     </td><td>2     </td><td>  0   </td><td>  1   </td><td>1     </td></tr>\n",
       "\t<tr><td>1     </td><td>20.17 </td><td> 8.170</td><td>2     </td><td>6     </td><td>4     </td><td>1.960 </td><td>1     </td><td>1     </td><td>14    </td><td>0     </td><td>2     </td><td> 60   </td><td>159   </td><td>1     </td></tr>\n",
       "\t<tr><td>0     </td><td>15.83 </td><td> 0.585</td><td>2     </td><td>8     </td><td>8     </td><td>1.500 </td><td>1     </td><td>1     </td><td> 2    </td><td>0     </td><td>2     </td><td>100   </td><td>  1   </td><td>1     </td></tr>\n",
       "\t<tr><td>1     </td><td>17.42 </td><td> 6.500</td><td>2     </td><td>3     </td><td>4     </td><td>0.125 </td><td>0     </td><td>0     </td><td> 0    </td><td>0     </td><td>2     </td><td> 60   </td><td>101   </td><td>0     </td></tr>\n",
       "</tbody>\n",
       "</table>\n"
      ],
      "text/latex": [
       "\\begin{tabular}{r|lllllllllllllll}\n",
       " X1 & X22.08 & X11.46 & X2 & X4 & X4.1 & X1.585 & X0 & X0.1 & X0.2 & X1.1 & X2.1 & X100 & X1213 & X0.3\\\\\n",
       "\\hline\n",
       "\t 0      & 22.67  &  7.000 & 2      & 8      & 4      & 0.165  & 0      & 0      &  0     & 0      & 2      & 160    &   1    & 0     \\\\\n",
       "\t 0      & 29.58  &  1.750 & 1      & 4      & 4      & 1.250  & 0      & 0      &  0     & 1      & 2      & 280    &   1    & 0     \\\\\n",
       "\t 0      & 21.67  & 11.500 & 1      & 5      & 3      & 0.000  & 1      & 1      & 11     & 1      & 2      &   0    &   1    & 1     \\\\\n",
       "\t 1      & 20.17  &  8.170 & 2      & 6      & 4      & 1.960  & 1      & 1      & 14     & 0      & 2      &  60    & 159    & 1     \\\\\n",
       "\t 0      & 15.83  &  0.585 & 2      & 8      & 8      & 1.500  & 1      & 1      &  2     & 0      & 2      & 100    &   1    & 1     \\\\\n",
       "\t 1      & 17.42  &  6.500 & 2      & 3      & 4      & 0.125  & 0      & 0      &  0     & 0      & 2      &  60    & 101    & 0     \\\\\n",
       "\\end{tabular}\n"
      ],
      "text/markdown": [
       "\n",
       "X1 | X22.08 | X11.46 | X2 | X4 | X4.1 | X1.585 | X0 | X0.1 | X0.2 | X1.1 | X2.1 | X100 | X1213 | X0.3 | \n",
       "|---|---|---|---|---|---|\n",
       "| 0      | 22.67  |  7.000 | 2      | 8      | 4      | 0.165  | 0      | 0      |  0     | 0      | 2      | 160    |   1    | 0      | \n",
       "| 0      | 29.58  |  1.750 | 1      | 4      | 4      | 1.250  | 0      | 0      |  0     | 1      | 2      | 280    |   1    | 0      | \n",
       "| 0      | 21.67  | 11.500 | 1      | 5      | 3      | 0.000  | 1      | 1      | 11     | 1      | 2      |   0    |   1    | 1      | \n",
       "| 1      | 20.17  |  8.170 | 2      | 6      | 4      | 1.960  | 1      | 1      | 14     | 0      | 2      |  60    | 159    | 1      | \n",
       "| 0      | 15.83  |  0.585 | 2      | 8      | 8      | 1.500  | 1      | 1      |  2     | 0      | 2      | 100    |   1    | 1      | \n",
       "| 1      | 17.42  |  6.500 | 2      | 3      | 4      | 0.125  | 0      | 0      |  0     | 0      | 2      |  60    | 101    | 0      | \n",
       "\n",
       "\n"
      ],
      "text/plain": [
       "  X1 X22.08 X11.46 X2 X4 X4.1 X1.585 X0 X0.1 X0.2 X1.1 X2.1 X100 X1213 X0.3\n",
       "1 0  22.67   7.000 2  8  4    0.165  0  0     0   0    2    160    1   0   \n",
       "2 0  29.58   1.750 1  4  4    1.250  0  0     0   1    2    280    1   0   \n",
       "3 0  21.67  11.500 1  5  3    0.000  1  1    11   1    2      0    1   1   \n",
       "4 1  20.17   8.170 2  6  4    1.960  1  1    14   0    2     60  159   1   \n",
       "5 0  15.83   0.585 2  8  8    1.500  1  1     2   0    2    100    1   1   \n",
       "6 1  17.42   6.500 2  3  4    0.125  0  0     0   0    2     60  101   0   "
      ]
     },
     "metadata": {},
     "output_type": "display_data"
    }
   ],
   "source": [
    "head(myData)"
   ]
  },
  {
   "cell_type": "code",
   "execution_count": 11,
   "metadata": {},
   "outputs": [
    {
     "ename": "ERROR",
     "evalue": "Error in eval(predvars, data, env): 'Species' nesnesi bulunamadı\n",
     "output_type": "error",
     "traceback": [
      "Error in eval(predvars, data, env): 'Species' nesnesi bulunamadı\nTraceback:\n",
      "1. rpart(Species ~ ., data = myData)",
      "2. eval.parent(temp)",
      "3. eval(expr, p)",
      "4. eval(expr, p)",
      "5. stats::model.frame(formula = Species ~ ., data = myData, na.action = function (x) \n . {\n .     Terms <- attr(x, \"terms\")\n .     if (!is.null(Terms)) \n .         yvar <- attr(Terms, \"response\")\n .     else yvar <- 0L\n .     if (yvar == 0L) {\n .         xmiss <- is.na(x)\n .         keep <- (xmiss %*% rep(1, ncol(xmiss))) < ncol(xmiss)\n .     }\n .     else {\n .         xmiss <- is.na(x[-yvar])\n .         ymiss <- is.na(x[[yvar]])\n .         keep <- if (is.matrix(ymiss)) \n .             ((xmiss %*% rep(1, ncol(xmiss))) < ncol(xmiss)) & \n .                 ((ymiss %*% rep(1, ncol(ymiss))) == 0)\n .         else ((xmiss %*% rep(1, ncol(xmiss))) < ncol(xmiss)) & \n .             !ymiss\n .     }\n .     if (all(keep)) \n .         x\n .     else {\n .         temp <- seq(keep)[!keep]\n .         names(temp) <- row.names(x)[!keep]\n .         class(temp) <- c(\"na.rpart\", \"omit\")\n .         structure(x[keep, , drop = FALSE], na.action = temp)\n .     }\n . })",
      "6. model.frame.default(formula = Species ~ ., data = myData, na.action = function (x) \n . {\n .     Terms <- attr(x, \"terms\")\n .     if (!is.null(Terms)) \n .         yvar <- attr(Terms, \"response\")\n .     else yvar <- 0L\n .     if (yvar == 0L) {\n .         xmiss <- is.na(x)\n .         keep <- (xmiss %*% rep(1, ncol(xmiss))) < ncol(xmiss)\n .     }\n .     else {\n .         xmiss <- is.na(x[-yvar])\n .         ymiss <- is.na(x[[yvar]])\n .         keep <- if (is.matrix(ymiss)) \n .             ((xmiss %*% rep(1, ncol(xmiss))) < ncol(xmiss)) & \n .                 ((ymiss %*% rep(1, ncol(ymiss))) == 0)\n .         else ((xmiss %*% rep(1, ncol(xmiss))) < ncol(xmiss)) & \n .             !ymiss\n .     }\n .     if (all(keep)) \n .         x\n .     else {\n .         temp <- seq(keep)[!keep]\n .         names(temp) <- row.names(x)[!keep]\n .         class(temp) <- c(\"na.rpart\", \"omit\")\n .         structure(x[keep, , drop = FALSE], na.action = temp)\n .     }\n . })",
      "7. eval(predvars, data, env)",
      "8. eval(predvars, data, env)"
     ]
    }
   ],
   "source": [
    "model <- rpart(Species ~ . , data=myData)\n",
    "rpart.plot(model, type = 5, clip.right.labs = TRUE, branch = 1, under = TRUE)\n",
    "rpart.rules(model)"
   ]
  },
  {
   "cell_type": "code",
   "execution_count": null,
   "metadata": {},
   "outputs": [],
   "source": []
  }
 ],
 "metadata": {
  "kernelspec": {
   "display_name": "R",
   "language": "R",
   "name": "ir"
  },
  "language_info": {
   "codemirror_mode": "r",
   "file_extension": ".r",
   "mimetype": "text/x-r-source",
   "name": "R",
   "pygments_lexer": "r",
   "version": "3.5.1"
  }
 },
 "nbformat": 4,
 "nbformat_minor": 2
}

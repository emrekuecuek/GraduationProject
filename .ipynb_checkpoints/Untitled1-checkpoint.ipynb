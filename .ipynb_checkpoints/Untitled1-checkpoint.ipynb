{
 "cells": [
  {
   "cell_type": "markdown",
   "metadata": {},
   "source": [
    "# Australian Credit Approval in R\n",
    "\n",
    "Applying algorithms in R for given dataset."
   ]
  },
  {
   "cell_type": "code",
   "execution_count": 274,
   "metadata": {},
   "outputs": [],
   "source": [
    "library(rpart)\n",
    "\n",
    "myData <- read.csv(\"http://archive.ics.uci.edu/ml/machine-learning-databases/statlog/australian/australian.dat\", header=TRUE, sep=\" \")"
   ]
  },
  {
   "cell_type": "code",
   "execution_count": 250,
   "metadata": {},
   "outputs": [
    {
     "data": {
      "text/html": [
       "<table>\n",
       "<thead><tr><th scope=col>X1</th><th scope=col>X22.08</th><th scope=col>X11.46</th><th scope=col>X2</th><th scope=col>X4</th><th scope=col>X4.1</th><th scope=col>X1.585</th><th scope=col>X0</th><th scope=col>X0.1</th><th scope=col>X0.2</th><th scope=col>X1.1</th><th scope=col>X2.1</th><th scope=col>X100</th><th scope=col>X1213</th><th scope=col>X0.3</th></tr></thead>\n",
       "<tbody>\n",
       "\t<tr><td>0     </td><td>22.67 </td><td> 7.000</td><td>2     </td><td>8     </td><td>4     </td><td>0.165 </td><td>0     </td><td>0     </td><td> 0    </td><td>0     </td><td>2     </td><td>160   </td><td>  1   </td><td>0     </td></tr>\n",
       "\t<tr><td>0     </td><td>29.58 </td><td> 1.750</td><td>1     </td><td>4     </td><td>4     </td><td>1.250 </td><td>0     </td><td>0     </td><td> 0    </td><td>1     </td><td>2     </td><td>280   </td><td>  1   </td><td>0     </td></tr>\n",
       "\t<tr><td>0     </td><td>21.67 </td><td>11.500</td><td>1     </td><td>5     </td><td>3     </td><td>0.000 </td><td>1     </td><td>1     </td><td>11    </td><td>1     </td><td>2     </td><td>  0   </td><td>  1   </td><td>1     </td></tr>\n",
       "\t<tr><td>1     </td><td>20.17 </td><td> 8.170</td><td>2     </td><td>6     </td><td>4     </td><td>1.960 </td><td>1     </td><td>1     </td><td>14    </td><td>0     </td><td>2     </td><td> 60   </td><td>159   </td><td>1     </td></tr>\n",
       "\t<tr><td>0     </td><td>15.83 </td><td> 0.585</td><td>2     </td><td>8     </td><td>8     </td><td>1.500 </td><td>1     </td><td>1     </td><td> 2    </td><td>0     </td><td>2     </td><td>100   </td><td>  1   </td><td>1     </td></tr>\n",
       "\t<tr><td>1     </td><td>17.42 </td><td> 6.500</td><td>2     </td><td>3     </td><td>4     </td><td>0.125 </td><td>0     </td><td>0     </td><td> 0    </td><td>0     </td><td>2     </td><td> 60   </td><td>101   </td><td>0     </td></tr>\n",
       "</tbody>\n",
       "</table>\n"
      ],
      "text/latex": [
       "\\begin{tabular}{r|lllllllllllllll}\n",
       " X1 & X22.08 & X11.46 & X2 & X4 & X4.1 & X1.585 & X0 & X0.1 & X0.2 & X1.1 & X2.1 & X100 & X1213 & X0.3\\\\\n",
       "\\hline\n",
       "\t 0      & 22.67  &  7.000 & 2      & 8      & 4      & 0.165  & 0      & 0      &  0     & 0      & 2      & 160    &   1    & 0     \\\\\n",
       "\t 0      & 29.58  &  1.750 & 1      & 4      & 4      & 1.250  & 0      & 0      &  0     & 1      & 2      & 280    &   1    & 0     \\\\\n",
       "\t 0      & 21.67  & 11.500 & 1      & 5      & 3      & 0.000  & 1      & 1      & 11     & 1      & 2      &   0    &   1    & 1     \\\\\n",
       "\t 1      & 20.17  &  8.170 & 2      & 6      & 4      & 1.960  & 1      & 1      & 14     & 0      & 2      &  60    & 159    & 1     \\\\\n",
       "\t 0      & 15.83  &  0.585 & 2      & 8      & 8      & 1.500  & 1      & 1      &  2     & 0      & 2      & 100    &   1    & 1     \\\\\n",
       "\t 1      & 17.42  &  6.500 & 2      & 3      & 4      & 0.125  & 0      & 0      &  0     & 0      & 2      &  60    & 101    & 0     \\\\\n",
       "\\end{tabular}\n"
      ],
      "text/markdown": [
       "\n",
       "X1 | X22.08 | X11.46 | X2 | X4 | X4.1 | X1.585 | X0 | X0.1 | X0.2 | X1.1 | X2.1 | X100 | X1213 | X0.3 | \n",
       "|---|---|---|---|---|---|\n",
       "| 0      | 22.67  |  7.000 | 2      | 8      | 4      | 0.165  | 0      | 0      |  0     | 0      | 2      | 160    |   1    | 0      | \n",
       "| 0      | 29.58  |  1.750 | 1      | 4      | 4      | 1.250  | 0      | 0      |  0     | 1      | 2      | 280    |   1    | 0      | \n",
       "| 0      | 21.67  | 11.500 | 1      | 5      | 3      | 0.000  | 1      | 1      | 11     | 1      | 2      |   0    |   1    | 1      | \n",
       "| 1      | 20.17  |  8.170 | 2      | 6      | 4      | 1.960  | 1      | 1      | 14     | 0      | 2      |  60    | 159    | 1      | \n",
       "| 0      | 15.83  |  0.585 | 2      | 8      | 8      | 1.500  | 1      | 1      |  2     | 0      | 2      | 100    |   1    | 1      | \n",
       "| 1      | 17.42  |  6.500 | 2      | 3      | 4      | 0.125  | 0      | 0      |  0     | 0      | 2      |  60    | 101    | 0      | \n",
       "\n",
       "\n"
      ],
      "text/plain": [
       "  X1 X22.08 X11.46 X2 X4 X4.1 X1.585 X0 X0.1 X0.2 X1.1 X2.1 X100 X1213 X0.3\n",
       "1 0  22.67   7.000 2  8  4    0.165  0  0     0   0    2    160    1   0   \n",
       "2 0  29.58   1.750 1  4  4    1.250  0  0     0   1    2    280    1   0   \n",
       "3 0  21.67  11.500 1  5  3    0.000  1  1    11   1    2      0    1   1   \n",
       "4 1  20.17   8.170 2  6  4    1.960  1  1    14   0    2     60  159   1   \n",
       "5 0  15.83   0.585 2  8  8    1.500  1  1     2   0    2    100    1   1   \n",
       "6 1  17.42   6.500 2  3  4    0.125  0  0     0   0    2     60  101   0   "
      ]
     },
     "metadata": {},
     "output_type": "display_data"
    }
   ],
   "source": [
    "head(myData)"
   ]
  },
  {
   "cell_type": "markdown",
   "metadata": {},
   "source": [
    "## Data Adjusments\n",
    "\n",
    "Adjusting dataframe for categorical variables."
   ]
  },
  {
   "cell_type": "code",
   "execution_count": 251,
   "metadata": {
    "scrolled": false
   },
   "outputs": [],
   "source": [
    "\n",
    "\n",
    "factoredMyData <- factor(myData[,1], levels = c(\"0\",\"1\"))\n",
    "myData[,1] <- factoredMyData\n",
    "\n",
    "factoredMyData <- factor(myData[,4], levels = c(\"1\",\"2\",\"3\"))\n",
    "myData[,4] <- factoredMyData\n",
    "\n",
    "factoredMyData <- factor(myData[,5], levels = c(1,2,3,4,5,6,7,8,9,10,11,12,13,14))\n",
    "myData[,5] <- factoredMyData\n",
    "\n",
    "factoredMyData <- factor(myData[,6], levels = c(1,2,3,4,5,6,7,8,9))\n",
    "myData[,6] <- factoredMyData\n",
    "\n",
    "factoredMyData <- factor(myData[,8], levels = c(\"0\",\"1\"))\n",
    "myData[,8] <- factoredMyData\n",
    "\n",
    "factoredMyData <- factor(myData[,9], levels = c(\"0\",\"1\"))\n",
    "myData[,9] <- factoredMyData\n",
    "\n",
    "factoredMyData <- factor(myData[,11], levels = c(\"0\",\"1\"))\n",
    "myData[,11] <- factoredMyData\n",
    "\n",
    "factoredMyData <- factor(myData[,12], levels =  c(\"1\",\"2\",\"3\"))\n",
    "myData[,12] <- factoredMyData\n",
    "\n",
    "factoredMyData <- factor(myData[,15], levels = c(\"0\",\"1\"))\n",
    "myData[,15] <- factoredMyData"
   ]
  },
  {
   "cell_type": "code",
   "execution_count": 252,
   "metadata": {
    "scrolled": true
   },
   "outputs": [
    {
     "data": {
      "text/html": [
       "<table>\n",
       "<thead><tr><th scope=col>X1</th><th scope=col>X22.08</th><th scope=col>X11.46</th><th scope=col>X2</th><th scope=col>X4</th><th scope=col>X4.1</th><th scope=col>X1.585</th><th scope=col>X0</th><th scope=col>X0.1</th><th scope=col>X0.2</th><th scope=col>X1.1</th><th scope=col>X2.1</th><th scope=col>X100</th><th scope=col>X1213</th><th scope=col>X0.3</th></tr></thead>\n",
       "<tbody>\n",
       "\t<tr><td>0     </td><td>22.67 </td><td> 7.000</td><td>2     </td><td>8     </td><td>4     </td><td>0.165 </td><td>0     </td><td>0     </td><td> 0    </td><td>0     </td><td>2     </td><td>160   </td><td>  1   </td><td>0     </td></tr>\n",
       "\t<tr><td>0     </td><td>29.58 </td><td> 1.750</td><td>1     </td><td>4     </td><td>4     </td><td>1.250 </td><td>0     </td><td>0     </td><td> 0    </td><td>1     </td><td>2     </td><td>280   </td><td>  1   </td><td>0     </td></tr>\n",
       "\t<tr><td>0     </td><td>21.67 </td><td>11.500</td><td>1     </td><td>5     </td><td>3     </td><td>0.000 </td><td>1     </td><td>1     </td><td>11    </td><td>1     </td><td>2     </td><td>  0   </td><td>  1   </td><td>1     </td></tr>\n",
       "\t<tr><td>1     </td><td>20.17 </td><td> 8.170</td><td>2     </td><td>6     </td><td>4     </td><td>1.960 </td><td>1     </td><td>1     </td><td>14    </td><td>0     </td><td>2     </td><td> 60   </td><td>159   </td><td>1     </td></tr>\n",
       "\t<tr><td>0     </td><td>15.83 </td><td> 0.585</td><td>2     </td><td>8     </td><td>8     </td><td>1.500 </td><td>1     </td><td>1     </td><td> 2    </td><td>0     </td><td>2     </td><td>100   </td><td>  1   </td><td>1     </td></tr>\n",
       "\t<tr><td>1     </td><td>17.42 </td><td> 6.500</td><td>2     </td><td>3     </td><td>4     </td><td>0.125 </td><td>0     </td><td>0     </td><td> 0    </td><td>0     </td><td>2     </td><td> 60   </td><td>101   </td><td>0     </td></tr>\n",
       "</tbody>\n",
       "</table>\n"
      ],
      "text/latex": [
       "\\begin{tabular}{r|lllllllllllllll}\n",
       " X1 & X22.08 & X11.46 & X2 & X4 & X4.1 & X1.585 & X0 & X0.1 & X0.2 & X1.1 & X2.1 & X100 & X1213 & X0.3\\\\\n",
       "\\hline\n",
       "\t 0      & 22.67  &  7.000 & 2      & 8      & 4      & 0.165  & 0      & 0      &  0     & 0      & 2      & 160    &   1    & 0     \\\\\n",
       "\t 0      & 29.58  &  1.750 & 1      & 4      & 4      & 1.250  & 0      & 0      &  0     & 1      & 2      & 280    &   1    & 0     \\\\\n",
       "\t 0      & 21.67  & 11.500 & 1      & 5      & 3      & 0.000  & 1      & 1      & 11     & 1      & 2      &   0    &   1    & 1     \\\\\n",
       "\t 1      & 20.17  &  8.170 & 2      & 6      & 4      & 1.960  & 1      & 1      & 14     & 0      & 2      &  60    & 159    & 1     \\\\\n",
       "\t 0      & 15.83  &  0.585 & 2      & 8      & 8      & 1.500  & 1      & 1      &  2     & 0      & 2      & 100    &   1    & 1     \\\\\n",
       "\t 1      & 17.42  &  6.500 & 2      & 3      & 4      & 0.125  & 0      & 0      &  0     & 0      & 2      &  60    & 101    & 0     \\\\\n",
       "\\end{tabular}\n"
      ],
      "text/markdown": [
       "\n",
       "X1 | X22.08 | X11.46 | X2 | X4 | X4.1 | X1.585 | X0 | X0.1 | X0.2 | X1.1 | X2.1 | X100 | X1213 | X0.3 | \n",
       "|---|---|---|---|---|---|\n",
       "| 0      | 22.67  |  7.000 | 2      | 8      | 4      | 0.165  | 0      | 0      |  0     | 0      | 2      | 160    |   1    | 0      | \n",
       "| 0      | 29.58  |  1.750 | 1      | 4      | 4      | 1.250  | 0      | 0      |  0     | 1      | 2      | 280    |   1    | 0      | \n",
       "| 0      | 21.67  | 11.500 | 1      | 5      | 3      | 0.000  | 1      | 1      | 11     | 1      | 2      |   0    |   1    | 1      | \n",
       "| 1      | 20.17  |  8.170 | 2      | 6      | 4      | 1.960  | 1      | 1      | 14     | 0      | 2      |  60    | 159    | 1      | \n",
       "| 0      | 15.83  |  0.585 | 2      | 8      | 8      | 1.500  | 1      | 1      |  2     | 0      | 2      | 100    |   1    | 1      | \n",
       "| 1      | 17.42  |  6.500 | 2      | 3      | 4      | 0.125  | 0      | 0      |  0     | 0      | 2      |  60    | 101    | 0      | \n",
       "\n",
       "\n"
      ],
      "text/plain": [
       "  X1 X22.08 X11.46 X2 X4 X4.1 X1.585 X0 X0.1 X0.2 X1.1 X2.1 X100 X1213 X0.3\n",
       "1 0  22.67   7.000 2  8  4    0.165  0  0     0   0    2    160    1   0   \n",
       "2 0  29.58   1.750 1  4  4    1.250  0  0     0   1    2    280    1   0   \n",
       "3 0  21.67  11.500 1  5  3    0.000  1  1    11   1    2      0    1   1   \n",
       "4 1  20.17   8.170 2  6  4    1.960  1  1    14   0    2     60  159   1   \n",
       "5 0  15.83   0.585 2  8  8    1.500  1  1     2   0    2    100    1   1   \n",
       "6 1  17.42   6.500 2  3  4    0.125  0  0     0   0    2     60  101   0   "
      ]
     },
     "metadata": {},
     "output_type": "display_data"
    }
   ],
   "source": [
    "head(myData)"
   ]
  },
  {
   "cell_type": "markdown",
   "metadata": {},
   "source": [
    "## Regression Algorithms "
   ]
  },
  {
   "cell_type": "markdown",
   "metadata": {},
   "source": [
    "Logistic Regression Applications for certain numerical columns."
   ]
  },
  {
   "cell_type": "code",
   "execution_count": 292,
   "metadata": {},
   "outputs": [],
   "source": [
    "numericalMyData <- myData[,c(\"X22.08\", \"X11.46\",\"X1.585\",\"X100\",\"X1213\")]\n",
    "\n",
    "approved <- ifelse(myData[,15] == 1,1,0)\n",
    "rejected <- ifelse(myData[,15] == 0,1,0)\n",
    "\n",
    "\n",
    "\n",
    "logRegTestData <- cbind(numericalMyData[,],myData[15])\n",
    "logRegData <- cbind(numericalMyData[,], approved, rejected)"
   ]
  },
  {
   "cell_type": "code",
   "execution_count": 293,
   "metadata": {},
   "outputs": [
    {
     "data": {
      "text/html": [
       "<table>\n",
       "<thead><tr><th scope=col>X22.08</th><th scope=col>X11.46</th><th scope=col>X1.585</th><th scope=col>X100</th><th scope=col>X1213</th><th scope=col>approved</th><th scope=col>rejected</th></tr></thead>\n",
       "<tbody>\n",
       "\t<tr><td>22.67 </td><td> 7.000</td><td>0.165 </td><td>160   </td><td>  1   </td><td>0     </td><td>1     </td></tr>\n",
       "\t<tr><td>29.58 </td><td> 1.750</td><td>1.250 </td><td>280   </td><td>  1   </td><td>0     </td><td>1     </td></tr>\n",
       "\t<tr><td>21.67 </td><td>11.500</td><td>0.000 </td><td>  0   </td><td>  1   </td><td>1     </td><td>0     </td></tr>\n",
       "\t<tr><td>20.17 </td><td> 8.170</td><td>1.960 </td><td> 60   </td><td>159   </td><td>1     </td><td>0     </td></tr>\n",
       "\t<tr><td>15.83 </td><td> 0.585</td><td>1.500 </td><td>100   </td><td>  1   </td><td>1     </td><td>0     </td></tr>\n",
       "\t<tr><td>17.42 </td><td> 6.500</td><td>0.125 </td><td> 60   </td><td>101   </td><td>0     </td><td>1     </td></tr>\n",
       "</tbody>\n",
       "</table>\n"
      ],
      "text/latex": [
       "\\begin{tabular}{r|lllllll}\n",
       " X22.08 & X11.46 & X1.585 & X100 & X1213 & approved & rejected\\\\\n",
       "\\hline\n",
       "\t 22.67  &  7.000 & 0.165  & 160    &   1    & 0      & 1     \\\\\n",
       "\t 29.58  &  1.750 & 1.250  & 280    &   1    & 0      & 1     \\\\\n",
       "\t 21.67  & 11.500 & 0.000  &   0    &   1    & 1      & 0     \\\\\n",
       "\t 20.17  &  8.170 & 1.960  &  60    & 159    & 1      & 0     \\\\\n",
       "\t 15.83  &  0.585 & 1.500  & 100    &   1    & 1      & 0     \\\\\n",
       "\t 17.42  &  6.500 & 0.125  &  60    & 101    & 0      & 1     \\\\\n",
       "\\end{tabular}\n"
      ],
      "text/markdown": [
       "\n",
       "X22.08 | X11.46 | X1.585 | X100 | X1213 | approved | rejected | \n",
       "|---|---|---|---|---|---|\n",
       "| 22.67  |  7.000 | 0.165  | 160    |   1    | 0      | 1      | \n",
       "| 29.58  |  1.750 | 1.250  | 280    |   1    | 0      | 1      | \n",
       "| 21.67  | 11.500 | 0.000  |   0    |   1    | 1      | 0      | \n",
       "| 20.17  |  8.170 | 1.960  |  60    | 159    | 1      | 0      | \n",
       "| 15.83  |  0.585 | 1.500  | 100    |   1    | 1      | 0      | \n",
       "| 17.42  |  6.500 | 0.125  |  60    | 101    | 0      | 1      | \n",
       "\n",
       "\n"
      ],
      "text/plain": [
       "  X22.08 X11.46 X1.585 X100 X1213 approved rejected\n",
       "1 22.67   7.000 0.165  160    1   0        1       \n",
       "2 29.58   1.750 1.250  280    1   0        1       \n",
       "3 21.67  11.500 0.000    0    1   1        0       \n",
       "4 20.17   8.170 1.960   60  159   1        0       \n",
       "5 15.83   0.585 1.500  100    1   1        0       \n",
       "6 17.42   6.500 0.125   60  101   0        1       "
      ]
     },
     "metadata": {},
     "output_type": "display_data"
    },
    {
     "data": {
      "text/html": [
       "<table>\n",
       "<thead><tr><th scope=col>X22.08</th><th scope=col>X11.46</th><th scope=col>X1.585</th><th scope=col>X100</th><th scope=col>X1213</th><th scope=col>X0.3</th></tr></thead>\n",
       "<tbody>\n",
       "\t<tr><td>22.67 </td><td> 7.000</td><td>0.165 </td><td>160   </td><td>  1   </td><td>0     </td></tr>\n",
       "\t<tr><td>29.58 </td><td> 1.750</td><td>1.250 </td><td>280   </td><td>  1   </td><td>0     </td></tr>\n",
       "\t<tr><td>21.67 </td><td>11.500</td><td>0.000 </td><td>  0   </td><td>  1   </td><td>1     </td></tr>\n",
       "\t<tr><td>20.17 </td><td> 8.170</td><td>1.960 </td><td> 60   </td><td>159   </td><td>1     </td></tr>\n",
       "\t<tr><td>15.83 </td><td> 0.585</td><td>1.500 </td><td>100   </td><td>  1   </td><td>1     </td></tr>\n",
       "\t<tr><td>17.42 </td><td> 6.500</td><td>0.125 </td><td> 60   </td><td>101   </td><td>0     </td></tr>\n",
       "</tbody>\n",
       "</table>\n"
      ],
      "text/latex": [
       "\\begin{tabular}{r|llllll}\n",
       " X22.08 & X11.46 & X1.585 & X100 & X1213 & X0.3\\\\\n",
       "\\hline\n",
       "\t 22.67  &  7.000 & 0.165  & 160    &   1    & 0     \\\\\n",
       "\t 29.58  &  1.750 & 1.250  & 280    &   1    & 0     \\\\\n",
       "\t 21.67  & 11.500 & 0.000  &   0    &   1    & 1     \\\\\n",
       "\t 20.17  &  8.170 & 1.960  &  60    & 159    & 1     \\\\\n",
       "\t 15.83  &  0.585 & 1.500  & 100    &   1    & 1     \\\\\n",
       "\t 17.42  &  6.500 & 0.125  &  60    & 101    & 0     \\\\\n",
       "\\end{tabular}\n"
      ],
      "text/markdown": [
       "\n",
       "X22.08 | X11.46 | X1.585 | X100 | X1213 | X0.3 | \n",
       "|---|---|---|---|---|---|\n",
       "| 22.67  |  7.000 | 0.165  | 160    |   1    | 0      | \n",
       "| 29.58  |  1.750 | 1.250  | 280    |   1    | 0      | \n",
       "| 21.67  | 11.500 | 0.000  |   0    |   1    | 1      | \n",
       "| 20.17  |  8.170 | 1.960  |  60    | 159    | 1      | \n",
       "| 15.83  |  0.585 | 1.500  | 100    |   1    | 1      | \n",
       "| 17.42  |  6.500 | 0.125  |  60    | 101    | 0      | \n",
       "\n",
       "\n"
      ],
      "text/plain": [
       "  X22.08 X11.46 X1.585 X100 X1213 X0.3\n",
       "1 22.67   7.000 0.165  160    1   0   \n",
       "2 29.58   1.750 1.250  280    1   0   \n",
       "3 21.67  11.500 0.000    0    1   1   \n",
       "4 20.17   8.170 1.960   60  159   1   \n",
       "5 15.83   0.585 1.500  100    1   1   \n",
       "6 17.42   6.500 0.125   60  101   0   "
      ]
     },
     "metadata": {},
     "output_type": "display_data"
    }
   ],
   "source": [
    "head(logRegData)\n",
    "head(logRegTestData)"
   ]
  },
  {
   "cell_type": "code",
   "execution_count": 294,
   "metadata": {},
   "outputs": [
    {
     "ename": "ERROR",
     "evalue": "Error in library(e1071): there is no package called 'e1071'\n",
     "output_type": "error",
     "traceback": [
      "Error in library(e1071): there is no package called 'e1071'\nTraceback:\n",
      "1. library(e1071)",
      "2. stop(txt, domain = NA)"
     ]
    }
   ],
   "source": [
    "library(caret)\n",
    "library(e1071)"
   ]
  },
  {
   "cell_type": "code",
   "execution_count": 312,
   "metadata": {},
   "outputs": [
    {
     "name": "stderr",
     "output_type": "stream",
     "text": [
      "Warning message:\n",
      "\"glm.fit: fitted probabilities numerically 0 or 1 occurred\""
     ]
    }
   ],
   "source": [
    "#Why logisticRegressionTestData can only be reached by using commas,\n",
    "#but can not use it with whole vector itself.\n",
    "\n",
    "model <- glm(approved ~ logRegTestData[,\"X22.08\"]\n",
    "             + logRegTestData[,\"X11.46\"]\n",
    "             + logRegTestData[,\"X1.585\"]\n",
    "             + logRegTestData[,\"X100\"]\n",
    "             + logRegTestData[,\"X1213\"], binomial)\n",
    "#oddsratio <- exp(predict(model,logisticRegressionTestData[test,]))\n",
    "#predicted <- ifelse(oddsratio > 0.7,1,0)\n",
    "#confusionMatrix(table(predicted,real=newdata[test,\"approved\"]))\n",
    "\n",
    "\n"
   ]
  },
  {
   "cell_type": "code",
   "execution_count": 313,
   "metadata": {
    "scrolled": false
   },
   "outputs": [
    {
     "data": {
      "text/plain": [
       "\n",
       "Call:\n",
       "glm(formula = approved ~ logRegTestData[, \"X22.08\"] + logRegTestData[, \n",
       "    \"X11.46\"] + logRegTestData[, \"X1.585\"] + logRegTestData[, \n",
       "    \"X100\"] + logRegTestData[, \"X1213\"], family = binomial)\n",
       "\n",
       "Deviance Residuals: \n",
       "    Min       1Q   Median       3Q      Max  \n",
       "-2.5945  -0.8596  -0.7071   1.0534   2.0307  \n",
       "\n",
       "Coefficients:\n",
       "                             Estimate Std. Error z value Pr(>|z|)    \n",
       "(Intercept)                -1.1541817  0.2866389  -4.027 5.66e-05 ***\n",
       "logRegTestData[, \"X22.08\"]  0.0022843  0.0078969   0.289   0.7724    \n",
       "logRegTestData[, \"X11.46\"]  0.0482639  0.0190631   2.532   0.0113 *  \n",
       "logRegTestData[, \"X1.585\"]  0.2542188  0.0399722   6.360 2.02e-10 ***\n",
       "logRegTestData[, \"X100\"]   -0.0010701  0.0005758  -1.859   0.0631 .  \n",
       "logRegTestData[, \"X1213\"]   0.0006826  0.0001210   5.640 1.70e-08 ***\n",
       "---\n",
       "Signif. codes:  0 '***' 0.001 '**' 0.01 '*' 0.05 '.' 0.1 ' ' 1\n",
       "\n",
       "(Dispersion parameter for binomial family taken to be 1)\n",
       "\n",
       "    Null deviance: 946.98  on 688  degrees of freedom\n",
       "Residual deviance: 776.40  on 683  degrees of freedom\n",
       "AIC: 788.4\n",
       "\n",
       "Number of Fisher Scoring iterations: 7\n"
      ]
     },
     "metadata": {},
     "output_type": "display_data"
    }
   ],
   "source": [
    "summary(model)"
   ]
  },
  {
   "cell_type": "code",
   "execution_count": null,
   "metadata": {},
   "outputs": [],
   "source": []
  }
 ],
 "metadata": {
  "kernelspec": {
   "display_name": "R",
   "language": "R",
   "name": "ir"
  },
  "language_info": {
   "codemirror_mode": "r",
   "file_extension": ".r",
   "mimetype": "text/x-r-source",
   "name": "R",
   "pygments_lexer": "r",
   "version": "3.5.1"
  }
 },
 "nbformat": 4,
 "nbformat_minor": 2
}

{
 "cells": [
  {
   "cell_type": "markdown",
   "metadata": {},
   "source": [
    "# Australian Credit Approval in R\n",
    "\n",
    "Applying algorithms in R for given dataset."
   ]
  },
  {
   "cell_type": "code",
   "execution_count": 162,
   "metadata": {},
   "outputs": [],
   "source": [
    "library(rpart)\n",
    "\n",
    "myData <- read.csv(\"http://archive.ics.uci.edu/ml/machine-learning-databases/statlog/australian/australian.dat\", header=TRUE, sep=\" \")"
   ]
  },
  {
   "cell_type": "code",
   "execution_count": 163,
   "metadata": {},
   "outputs": [
    {
     "data": {
      "text/html": [
       "<table>\n",
       "<thead><tr><th scope=col>X1</th><th scope=col>X22.08</th><th scope=col>X11.46</th><th scope=col>X2</th><th scope=col>X4</th><th scope=col>X4.1</th><th scope=col>X1.585</th><th scope=col>X0</th><th scope=col>X0.1</th><th scope=col>X0.2</th><th scope=col>X1.1</th><th scope=col>X2.1</th><th scope=col>X100</th><th scope=col>X1213</th><th scope=col>X0.3</th></tr></thead>\n",
       "<tbody>\n",
       "\t<tr><td>0     </td><td>22.67 </td><td> 7.000</td><td>2     </td><td>8     </td><td>4     </td><td>0.165 </td><td>0     </td><td>0     </td><td> 0    </td><td>0     </td><td>2     </td><td>160   </td><td>  1   </td><td>0     </td></tr>\n",
       "\t<tr><td>0     </td><td>29.58 </td><td> 1.750</td><td>1     </td><td>4     </td><td>4     </td><td>1.250 </td><td>0     </td><td>0     </td><td> 0    </td><td>1     </td><td>2     </td><td>280   </td><td>  1   </td><td>0     </td></tr>\n",
       "\t<tr><td>0     </td><td>21.67 </td><td>11.500</td><td>1     </td><td>5     </td><td>3     </td><td>0.000 </td><td>1     </td><td>1     </td><td>11    </td><td>1     </td><td>2     </td><td>  0   </td><td>  1   </td><td>1     </td></tr>\n",
       "\t<tr><td>1     </td><td>20.17 </td><td> 8.170</td><td>2     </td><td>6     </td><td>4     </td><td>1.960 </td><td>1     </td><td>1     </td><td>14    </td><td>0     </td><td>2     </td><td> 60   </td><td>159   </td><td>1     </td></tr>\n",
       "\t<tr><td>0     </td><td>15.83 </td><td> 0.585</td><td>2     </td><td>8     </td><td>8     </td><td>1.500 </td><td>1     </td><td>1     </td><td> 2    </td><td>0     </td><td>2     </td><td>100   </td><td>  1   </td><td>1     </td></tr>\n",
       "\t<tr><td>1     </td><td>17.42 </td><td> 6.500</td><td>2     </td><td>3     </td><td>4     </td><td>0.125 </td><td>0     </td><td>0     </td><td> 0    </td><td>0     </td><td>2     </td><td> 60   </td><td>101   </td><td>0     </td></tr>\n",
       "</tbody>\n",
       "</table>\n"
      ],
      "text/latex": [
       "\\begin{tabular}{r|lllllllllllllll}\n",
       " X1 & X22.08 & X11.46 & X2 & X4 & X4.1 & X1.585 & X0 & X0.1 & X0.2 & X1.1 & X2.1 & X100 & X1213 & X0.3\\\\\n",
       "\\hline\n",
       "\t 0      & 22.67  &  7.000 & 2      & 8      & 4      & 0.165  & 0      & 0      &  0     & 0      & 2      & 160    &   1    & 0     \\\\\n",
       "\t 0      & 29.58  &  1.750 & 1      & 4      & 4      & 1.250  & 0      & 0      &  0     & 1      & 2      & 280    &   1    & 0     \\\\\n",
       "\t 0      & 21.67  & 11.500 & 1      & 5      & 3      & 0.000  & 1      & 1      & 11     & 1      & 2      &   0    &   1    & 1     \\\\\n",
       "\t 1      & 20.17  &  8.170 & 2      & 6      & 4      & 1.960  & 1      & 1      & 14     & 0      & 2      &  60    & 159    & 1     \\\\\n",
       "\t 0      & 15.83  &  0.585 & 2      & 8      & 8      & 1.500  & 1      & 1      &  2     & 0      & 2      & 100    &   1    & 1     \\\\\n",
       "\t 1      & 17.42  &  6.500 & 2      & 3      & 4      & 0.125  & 0      & 0      &  0     & 0      & 2      &  60    & 101    & 0     \\\\\n",
       "\\end{tabular}\n"
      ],
      "text/markdown": [
       "\n",
       "X1 | X22.08 | X11.46 | X2 | X4 | X4.1 | X1.585 | X0 | X0.1 | X0.2 | X1.1 | X2.1 | X100 | X1213 | X0.3 | \n",
       "|---|---|---|---|---|---|\n",
       "| 0      | 22.67  |  7.000 | 2      | 8      | 4      | 0.165  | 0      | 0      |  0     | 0      | 2      | 160    |   1    | 0      | \n",
       "| 0      | 29.58  |  1.750 | 1      | 4      | 4      | 1.250  | 0      | 0      |  0     | 1      | 2      | 280    |   1    | 0      | \n",
       "| 0      | 21.67  | 11.500 | 1      | 5      | 3      | 0.000  | 1      | 1      | 11     | 1      | 2      |   0    |   1    | 1      | \n",
       "| 1      | 20.17  |  8.170 | 2      | 6      | 4      | 1.960  | 1      | 1      | 14     | 0      | 2      |  60    | 159    | 1      | \n",
       "| 0      | 15.83  |  0.585 | 2      | 8      | 8      | 1.500  | 1      | 1      |  2     | 0      | 2      | 100    |   1    | 1      | \n",
       "| 1      | 17.42  |  6.500 | 2      | 3      | 4      | 0.125  | 0      | 0      |  0     | 0      | 2      |  60    | 101    | 0      | \n",
       "\n",
       "\n"
      ],
      "text/plain": [
       "  X1 X22.08 X11.46 X2 X4 X4.1 X1.585 X0 X0.1 X0.2 X1.1 X2.1 X100 X1213 X0.3\n",
       "1 0  22.67   7.000 2  8  4    0.165  0  0     0   0    2    160    1   0   \n",
       "2 0  29.58   1.750 1  4  4    1.250  0  0     0   1    2    280    1   0   \n",
       "3 0  21.67  11.500 1  5  3    0.000  1  1    11   1    2      0    1   1   \n",
       "4 1  20.17   8.170 2  6  4    1.960  1  1    14   0    2     60  159   1   \n",
       "5 0  15.83   0.585 2  8  8    1.500  1  1     2   0    2    100    1   1   \n",
       "6 1  17.42   6.500 2  3  4    0.125  0  0     0   0    2     60  101   0   "
      ]
     },
     "metadata": {},
     "output_type": "display_data"
    }
   ],
   "source": [
    "head(myData)"
   ]
  },
  {
   "cell_type": "markdown",
   "metadata": {},
   "source": [
    "## Data Adjusments\n",
    "\n",
    "Adjusting dataframe for categorical variables."
   ]
  },
  {
   "cell_type": "code",
   "execution_count": 164,
   "metadata": {
    "scrolled": false
   },
   "outputs": [],
   "source": [
    "myData$X1 <- factor(myData$X1, levels = c(0,1), labels = c(0,1))\n",
    "myData$X2 <- factor(myData$X2, levels = c(1,2,3), labels = c(1,2,3))\n",
    "myData$X4 <- factor(myData$X4, levels = c(1,2,3,4,5,6,7,8,9,10,11,12,13,14), labels = c(1,2,3,4,5,6,7,8,9,10,11,12,13,14))\n",
    "myData$X4.1 <- factor(myData$X4.1, levels = c(1,2,3,4,5,6,7,8,9), labels = c(1,2,3,4,5,6,7,8,9))\n",
    "myData$X0 <- factor(myData$X0, levels = c(0,1), labels = c(0,1))\n",
    "myData$X0.1 <- factor(myData$X0.1, levels = c(0,1), labels = c(0,1))\n",
    "myData$X1.1 <- factor(myData$X1.1, levels = c(0,1), labels = c(0,1))\n",
    "myData$X2.1 <- factor(myData$X2.1, levels =  c(1,2,3), labels =  c(1,2,3))\n",
    "myData$X0.3 <- factor(myData$X0.3, levels = c(0,1), labels = c(0,1))"
   ]
  },
  {
   "cell_type": "code",
   "execution_count": 165,
   "metadata": {
    "scrolled": true
   },
   "outputs": [
    {
     "data": {
      "text/html": [
       "<table>\n",
       "<thead><tr><th scope=col>X1</th><th scope=col>X22.08</th><th scope=col>X11.46</th><th scope=col>X2</th><th scope=col>X4</th><th scope=col>X4.1</th><th scope=col>X1.585</th><th scope=col>X0</th><th scope=col>X0.1</th><th scope=col>X0.2</th><th scope=col>X1.1</th><th scope=col>X2.1</th><th scope=col>X100</th><th scope=col>X1213</th><th scope=col>X0.3</th></tr></thead>\n",
       "<tbody>\n",
       "\t<tr><td>0     </td><td>22.67 </td><td> 7.000</td><td>2     </td><td>8     </td><td>4     </td><td>0.165 </td><td>0     </td><td>0     </td><td> 0    </td><td>0     </td><td>2     </td><td>160   </td><td>  1   </td><td>0     </td></tr>\n",
       "\t<tr><td>0     </td><td>29.58 </td><td> 1.750</td><td>1     </td><td>4     </td><td>4     </td><td>1.250 </td><td>0     </td><td>0     </td><td> 0    </td><td>1     </td><td>2     </td><td>280   </td><td>  1   </td><td>0     </td></tr>\n",
       "\t<tr><td>0     </td><td>21.67 </td><td>11.500</td><td>1     </td><td>5     </td><td>3     </td><td>0.000 </td><td>1     </td><td>1     </td><td>11    </td><td>1     </td><td>2     </td><td>  0   </td><td>  1   </td><td>1     </td></tr>\n",
       "\t<tr><td>1     </td><td>20.17 </td><td> 8.170</td><td>2     </td><td>6     </td><td>4     </td><td>1.960 </td><td>1     </td><td>1     </td><td>14    </td><td>0     </td><td>2     </td><td> 60   </td><td>159   </td><td>1     </td></tr>\n",
       "\t<tr><td>0     </td><td>15.83 </td><td> 0.585</td><td>2     </td><td>8     </td><td>8     </td><td>1.500 </td><td>1     </td><td>1     </td><td> 2    </td><td>0     </td><td>2     </td><td>100   </td><td>  1   </td><td>1     </td></tr>\n",
       "\t<tr><td>1     </td><td>17.42 </td><td> 6.500</td><td>2     </td><td>3     </td><td>4     </td><td>0.125 </td><td>0     </td><td>0     </td><td> 0    </td><td>0     </td><td>2     </td><td> 60   </td><td>101   </td><td>0     </td></tr>\n",
       "</tbody>\n",
       "</table>\n"
      ],
      "text/latex": [
       "\\begin{tabular}{r|lllllllllllllll}\n",
       " X1 & X22.08 & X11.46 & X2 & X4 & X4.1 & X1.585 & X0 & X0.1 & X0.2 & X1.1 & X2.1 & X100 & X1213 & X0.3\\\\\n",
       "\\hline\n",
       "\t 0      & 22.67  &  7.000 & 2      & 8      & 4      & 0.165  & 0      & 0      &  0     & 0      & 2      & 160    &   1    & 0     \\\\\n",
       "\t 0      & 29.58  &  1.750 & 1      & 4      & 4      & 1.250  & 0      & 0      &  0     & 1      & 2      & 280    &   1    & 0     \\\\\n",
       "\t 0      & 21.67  & 11.500 & 1      & 5      & 3      & 0.000  & 1      & 1      & 11     & 1      & 2      &   0    &   1    & 1     \\\\\n",
       "\t 1      & 20.17  &  8.170 & 2      & 6      & 4      & 1.960  & 1      & 1      & 14     & 0      & 2      &  60    & 159    & 1     \\\\\n",
       "\t 0      & 15.83  &  0.585 & 2      & 8      & 8      & 1.500  & 1      & 1      &  2     & 0      & 2      & 100    &   1    & 1     \\\\\n",
       "\t 1      & 17.42  &  6.500 & 2      & 3      & 4      & 0.125  & 0      & 0      &  0     & 0      & 2      &  60    & 101    & 0     \\\\\n",
       "\\end{tabular}\n"
      ],
      "text/markdown": [
       "\n",
       "X1 | X22.08 | X11.46 | X2 | X4 | X4.1 | X1.585 | X0 | X0.1 | X0.2 | X1.1 | X2.1 | X100 | X1213 | X0.3 | \n",
       "|---|---|---|---|---|---|\n",
       "| 0      | 22.67  |  7.000 | 2      | 8      | 4      | 0.165  | 0      | 0      |  0     | 0      | 2      | 160    |   1    | 0      | \n",
       "| 0      | 29.58  |  1.750 | 1      | 4      | 4      | 1.250  | 0      | 0      |  0     | 1      | 2      | 280    |   1    | 0      | \n",
       "| 0      | 21.67  | 11.500 | 1      | 5      | 3      | 0.000  | 1      | 1      | 11     | 1      | 2      |   0    |   1    | 1      | \n",
       "| 1      | 20.17  |  8.170 | 2      | 6      | 4      | 1.960  | 1      | 1      | 14     | 0      | 2      |  60    | 159    | 1      | \n",
       "| 0      | 15.83  |  0.585 | 2      | 8      | 8      | 1.500  | 1      | 1      |  2     | 0      | 2      | 100    |   1    | 1      | \n",
       "| 1      | 17.42  |  6.500 | 2      | 3      | 4      | 0.125  | 0      | 0      |  0     | 0      | 2      |  60    | 101    | 0      | \n",
       "\n",
       "\n"
      ],
      "text/plain": [
       "  X1 X22.08 X11.46 X2 X4 X4.1 X1.585 X0 X0.1 X0.2 X1.1 X2.1 X100 X1213 X0.3\n",
       "1 0  22.67   7.000 2  8  4    0.165  0  0     0   0    2    160    1   0   \n",
       "2 0  29.58   1.750 1  4  4    1.250  0  0     0   1    2    280    1   0   \n",
       "3 0  21.67  11.500 1  5  3    0.000  1  1    11   1    2      0    1   1   \n",
       "4 1  20.17   8.170 2  6  4    1.960  1  1    14   0    2     60  159   1   \n",
       "5 0  15.83   0.585 2  8  8    1.500  1  1     2   0    2    100    1   1   \n",
       "6 1  17.42   6.500 2  3  4    0.125  0  0     0   0    2     60  101   0   "
      ]
     },
     "metadata": {},
     "output_type": "display_data"
    }
   ],
   "source": [
    "head(myData)"
   ]
  },
  {
   "cell_type": "markdown",
   "metadata": {},
   "source": [
    "## Logistic Regression "
   ]
  },
  {
   "cell_type": "markdown",
   "metadata": {},
   "source": [
    "Logistic Regression Applications for certain numerical columns. Lets begin with adjusting numerical data in order to check for logistic regression implementation"
   ]
  },
  {
   "cell_type": "code",
   "execution_count": 166,
   "metadata": {},
   "outputs": [],
   "source": [
    "numericalMyData <- cbind(myData$X22.08, myData$X11.46, myData$X1.585, myData$X100, myData$X1213)\n",
    "\n",
    "approved <- ifelse(myData$X0.3 == 1,1,0)\n",
    "rejected <- ifelse(myData$X0.3 == 0,1,0)\n",
    "\n",
    "logRegData <- cbind(numericalMyData, approved, rejected)\n",
    "\n",
    "colnames(logRegData)[1] <- \"X22.08\"\n",
    "colnames(logRegData)[2] <- \"X11.46\"\n",
    "colnames(logRegData)[3] <- \"X1.585\"\n",
    "colnames(logRegData)[4] <- \"X100\"\n",
    "colnames(logRegData)[5] <- \"X1213\"\n",
    "\n",
    "train <- sample(1:150, 100)\n",
    "test <- -train"
   ]
  },
  {
   "cell_type": "code",
   "execution_count": 167,
   "metadata": {
    "scrolled": false
   },
   "outputs": [
    {
     "data": {
      "text/html": [
       "<table>\n",
       "<thead><tr><th scope=col>X22.08</th><th scope=col>X11.46</th><th scope=col>X1.585</th><th scope=col>X100</th><th scope=col>X1213</th><th scope=col>approved</th><th scope=col>rejected</th></tr></thead>\n",
       "<tbody>\n",
       "\t<tr><td>22.67 </td><td> 7.000</td><td>0.165 </td><td>160   </td><td>  1   </td><td>0     </td><td>1     </td></tr>\n",
       "\t<tr><td>29.58 </td><td> 1.750</td><td>1.250 </td><td>280   </td><td>  1   </td><td>0     </td><td>1     </td></tr>\n",
       "\t<tr><td>21.67 </td><td>11.500</td><td>0.000 </td><td>  0   </td><td>  1   </td><td>1     </td><td>0     </td></tr>\n",
       "\t<tr><td>20.17 </td><td> 8.170</td><td>1.960 </td><td> 60   </td><td>159   </td><td>1     </td><td>0     </td></tr>\n",
       "\t<tr><td>15.83 </td><td> 0.585</td><td>1.500 </td><td>100   </td><td>  1   </td><td>1     </td><td>0     </td></tr>\n",
       "\t<tr><td>17.42 </td><td> 6.500</td><td>0.125 </td><td> 60   </td><td>101   </td><td>0     </td><td>1     </td></tr>\n",
       "</tbody>\n",
       "</table>\n"
      ],
      "text/latex": [
       "\\begin{tabular}{lllllll}\n",
       " X22.08 & X11.46 & X1.585 & X100 & X1213 & approved & rejected\\\\\n",
       "\\hline\n",
       "\t 22.67  &  7.000 & 0.165  & 160    &   1    & 0      & 1     \\\\\n",
       "\t 29.58  &  1.750 & 1.250  & 280    &   1    & 0      & 1     \\\\\n",
       "\t 21.67  & 11.500 & 0.000  &   0    &   1    & 1      & 0     \\\\\n",
       "\t 20.17  &  8.170 & 1.960  &  60    & 159    & 1      & 0     \\\\\n",
       "\t 15.83  &  0.585 & 1.500  & 100    &   1    & 1      & 0     \\\\\n",
       "\t 17.42  &  6.500 & 0.125  &  60    & 101    & 0      & 1     \\\\\n",
       "\\end{tabular}\n"
      ],
      "text/markdown": [
       "\n",
       "X22.08 | X11.46 | X1.585 | X100 | X1213 | approved | rejected | \n",
       "|---|---|---|---|---|---|\n",
       "| 22.67  |  7.000 | 0.165  | 160    |   1    | 0      | 1      | \n",
       "| 29.58  |  1.750 | 1.250  | 280    |   1    | 0      | 1      | \n",
       "| 21.67  | 11.500 | 0.000  |   0    |   1    | 1      | 0      | \n",
       "| 20.17  |  8.170 | 1.960  |  60    | 159    | 1      | 0      | \n",
       "| 15.83  |  0.585 | 1.500  | 100    |   1    | 1      | 0      | \n",
       "| 17.42  |  6.500 | 0.125  |  60    | 101    | 0      | 1      | \n",
       "\n",
       "\n"
      ],
      "text/plain": [
       "     X22.08 X11.46 X1.585 X100 X1213 approved rejected\n",
       "[1,] 22.67   7.000 0.165  160    1   0        1       \n",
       "[2,] 29.58   1.750 1.250  280    1   0        1       \n",
       "[3,] 21.67  11.500 0.000    0    1   1        0       \n",
       "[4,] 20.17   8.170 1.960   60  159   1        0       \n",
       "[5,] 15.83   0.585 1.500  100    1   1        0       \n",
       "[6,] 17.42   6.500 0.125   60  101   0        1       "
      ]
     },
     "metadata": {},
     "output_type": "display_data"
    }
   ],
   "source": [
    "head(logRegData)"
   ]
  },
  {
   "cell_type": "markdown",
   "metadata": {},
   "source": [
    "Importing libraries."
   ]
  },
  {
   "cell_type": "code",
   "execution_count": 168,
   "metadata": {
    "scrolled": false
   },
   "outputs": [],
   "source": [
    "library(caret)\n",
    "library(e1071)"
   ]
  },
  {
   "cell_type": "markdown",
   "metadata": {},
   "source": [
    "In this section, adjusting our data as \"data frame\" format since for creating a generalized linear model. After that, we are classifying our predictions for a certain probability value (setted as 0.7 in this example), then creating a confusion matrix in order to test model's accuracy."
   ]
  },
  {
   "cell_type": "markdown",
   "metadata": {},
   "source": [
    "#### Testing for approved credit applications."
   ]
  },
  {
   "cell_type": "code",
   "execution_count": 169,
   "metadata": {
    "scrolled": false
   },
   "outputs": [
    {
     "data": {
      "text/plain": [
       "Confusion Matrix and Statistics\n",
       "\n",
       "         real\n",
       "predicted   0   1\n",
       "        0 239  76\n",
       "        1  88 186\n",
       "                                          \n",
       "               Accuracy : 0.7216          \n",
       "                 95% CI : (0.6835, 0.7574)\n",
       "    No Information Rate : 0.5552          \n",
       "    P-Value [Acc > NIR] : <2e-16          \n",
       "                                          \n",
       "                  Kappa : 0.4388          \n",
       " Mcnemar's Test P-Value : 0.3904          \n",
       "                                          \n",
       "            Sensitivity : 0.7309          \n",
       "            Specificity : 0.7099          \n",
       "         Pos Pred Value : 0.7587          \n",
       "         Neg Pred Value : 0.6788          \n",
       "             Prevalence : 0.5552          \n",
       "         Detection Rate : 0.4058          \n",
       "   Detection Prevalence : 0.5348          \n",
       "      Balanced Accuracy : 0.7204          \n",
       "                                          \n",
       "       'Positive' Class : 0               \n",
       "                                          "
      ]
     },
     "metadata": {},
     "output_type": "display_data"
    }
   ],
   "source": [
    "logRegData <- as.data.frame(logRegData)\n",
    "model <- glm(approved ~ X22.08 + X11.46 + X1.585 + X100 + X1213, data=logRegData[train,], binomial)\n",
    "oddsratio <- exp(predict(model,logRegData[test,]))\n",
    "predicted <- ifelse(oddsratio > 0.7,1,0)\n",
    "confusionMatrix(table(predicted,real=logRegData[test,\"approved\"]))"
   ]
  },
  {
   "cell_type": "markdown",
   "metadata": {
    "scrolled": false
   },
   "source": [
    "#### Testing for rejected applications.\n",
    "# Result below must be discussed because of lack accuracy."
   ]
  },
  {
   "cell_type": "code",
   "execution_count": 170,
   "metadata": {},
   "outputs": [
    {
     "data": {
      "text/plain": [
       "Confusion Matrix and Statistics\n",
       "\n",
       "         real\n",
       "predicted   0   1\n",
       "        0  76 239\n",
       "        1 186  88\n",
       "                                          \n",
       "               Accuracy : 0.2784          \n",
       "                 95% CI : (0.2426, 0.3165)\n",
       "    No Information Rate : 0.5552          \n",
       "    P-Value [Acc > NIR] : 1.00000         \n",
       "                                          \n",
       "                  Kappa : -0.4321         \n",
       " Mcnemar's Test P-Value : 0.01166         \n",
       "                                          \n",
       "            Sensitivity : 0.2901          \n",
       "            Specificity : 0.2691          \n",
       "         Pos Pred Value : 0.2413          \n",
       "         Neg Pred Value : 0.3212          \n",
       "             Prevalence : 0.4448          \n",
       "         Detection Rate : 0.1290          \n",
       "   Detection Prevalence : 0.5348          \n",
       "      Balanced Accuracy : 0.2796          \n",
       "                                          \n",
       "       'Positive' Class : 0               \n",
       "                                          "
      ]
     },
     "metadata": {},
     "output_type": "display_data"
    }
   ],
   "source": [
    "logRegData <- as.data.frame(logRegData)\n",
    "model <- glm(approved ~ X22.08 + X11.46 + X1.585 + X100 + X1213, data=logRegData[train,], binomial)\n",
    "oddsratio <- exp(predict(model,logRegData[test,]))\n",
    "predicted <- ifelse(oddsratio > 0.7,1,0)\n",
    "confusionMatrix(table(predicted,real=logRegData[test,\"rejected\"]))"
   ]
  },
  {
   "cell_type": "code",
   "execution_count": null,
   "metadata": {},
   "outputs": [],
   "source": []
  }
 ],
 "metadata": {
  "kernelspec": {
   "display_name": "R",
   "language": "R",
   "name": "ir"
  },
  "language_info": {
   "codemirror_mode": "r",
   "file_extension": ".r",
   "mimetype": "text/x-r-source",
   "name": "R",
   "pygments_lexer": "r",
   "version": "3.5.1"
  }
 },
 "nbformat": 4,
 "nbformat_minor": 2
}
